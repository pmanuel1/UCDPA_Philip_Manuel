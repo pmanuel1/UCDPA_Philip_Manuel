{
 "cells": [
  {
   "cell_type": "code",
   "execution_count": null,
   "id": "bb9cce74",
   "metadata": {},
   "outputs": [],
   "source": []
  },
  {
   "cell_type": "code",
   "execution_count": null,
   "id": "84922dd8",
   "metadata": {},
   "outputs": [],
   "source": []
  },
  {
   "cell_type": "code",
   "execution_count": 598,
   "id": "2529fa3a",
   "metadata": {},
   "outputs": [],
   "source": [
    "# import some neccessary modules "
   ]
  },
  {
   "cell_type": "code",
   "execution_count": 599,
   "id": "c9d9443d",
   "metadata": {},
   "outputs": [],
   "source": [
    "import pandas as pd"
   ]
  },
  {
   "cell_type": "code",
   "execution_count": 600,
   "id": "7526f5f9",
   "metadata": {},
   "outputs": [],
   "source": [
    "import numpy as np"
   ]
  },
  {
   "cell_type": "code",
   "execution_count": 601,
   "id": "73be93a8",
   "metadata": {},
   "outputs": [],
   "source": [
    "import seaborn as sns"
   ]
  },
  {
   "cell_type": "code",
   "execution_count": 602,
   "id": "a66444cd",
   "metadata": {},
   "outputs": [],
   "source": [
    "import matplotlib.pyplot as plt"
   ]
  },
  {
   "cell_type": "code",
   "execution_count": 603,
   "id": "1291c59f",
   "metadata": {},
   "outputs": [],
   "source": [
    "import requests"
   ]
  },
  {
   "cell_type": "code",
   "execution_count": 604,
   "id": "61b53d49",
   "metadata": {},
   "outputs": [],
   "source": [
    "import json"
   ]
  },
  {
   "cell_type": "code",
   "execution_count": 605,
   "id": "76311513",
   "metadata": {},
   "outputs": [],
   "source": [
    "import re"
   ]
  },
  {
   "cell_type": "code",
   "execution_count": null,
   "id": "c41b6405",
   "metadata": {},
   "outputs": [],
   "source": []
  },
  {
   "cell_type": "code",
   "execution_count": 606,
   "id": "4a90227c",
   "metadata": {},
   "outputs": [],
   "source": [
    "# The project should use a real-world dataset and include a reference of their source in the report (5)"
   ]
  },
  {
   "cell_type": "code",
   "execution_count": 607,
   "id": "050db670",
   "metadata": {},
   "outputs": [],
   "source": [
    "# https://www.kaggle.com/datasets/usamabuttar/fdic-failed-bank-list"
   ]
  },
  {
   "cell_type": "code",
   "execution_count": 608,
   "id": "18bac25f",
   "metadata": {},
   "outputs": [],
   "source": [
    "# https://beta.bls.gov/dataViewer/view"
   ]
  },
  {
   "cell_type": "code",
   "execution_count": 609,
   "id": "28e684bb",
   "metadata": {},
   "outputs": [],
   "source": [
    "# Your project should make use of one or more of the following: Relational database, API or web scraping (10)"
   ]
  },
  {
   "cell_type": "code",
   "execution_count": 610,
   "id": "ab60336b",
   "metadata": {},
   "outputs": [],
   "source": [
    "# Use Kaggle API "
   ]
  },
  {
   "cell_type": "code",
   "execution_count": null,
   "id": "aabce23f",
   "metadata": {},
   "outputs": [],
   "source": []
  },
  {
   "cell_type": "code",
   "execution_count": 611,
   "id": "e58ff4d1",
   "metadata": {},
   "outputs": [],
   "source": [
    "# pip install kaggle (already installed/satisifed so not run in this code)"
   ]
  },
  {
   "cell_type": "code",
   "execution_count": 612,
   "id": "1136e29d",
   "metadata": {},
   "outputs": [],
   "source": [
    "import kaggle"
   ]
  },
  {
   "cell_type": "code",
   "execution_count": 613,
   "id": "81a67b48",
   "metadata": {},
   "outputs": [],
   "source": [
    "from kaggle.api.kaggle_api_extended import KaggleApi\n",
    "api = KaggleApi()\n",
    "api.authenticate()"
   ]
  },
  {
   "cell_type": "code",
   "execution_count": 614,
   "id": "53931538",
   "metadata": {},
   "outputs": [
    {
     "data": {
      "text/plain": [
       "True"
      ]
     },
     "execution_count": 614,
     "metadata": {},
     "output_type": "execute_result"
    }
   ],
   "source": [
    "api.dataset_download_file('usamabuttar/fdic-failed-bank-list',\n",
    "                          file_name='Failed_Bank_List.csv',\n",
    "                          path='./')"
   ]
  },
  {
   "cell_type": "code",
   "execution_count": 615,
   "id": "0ea9bd92",
   "metadata": {},
   "outputs": [],
   "source": [
    "# There can be a need to unzip an imported Kaggle File but not in this instance"
   ]
  },
  {
   "cell_type": "code",
   "execution_count": null,
   "id": "f3f76d82",
   "metadata": {},
   "outputs": [],
   "source": []
  },
  {
   "cell_type": "code",
   "execution_count": 616,
   "id": "dd80a6e0",
   "metadata": {},
   "outputs": [],
   "source": [
    "# Import this CSV file into a Pandas DataFrame (10)"
   ]
  },
  {
   "cell_type": "code",
   "execution_count": 617,
   "id": "f46135a6",
   "metadata": {},
   "outputs": [],
   "source": [
    "# Failed Bank Data 2000 - 2023"
   ]
  },
  {
   "cell_type": "code",
   "execution_count": 618,
   "id": "55d50174",
   "metadata": {},
   "outputs": [],
   "source": [
    "Failed_Banks = pd.read_csv(\"Failed_Bank_List.csv\")"
   ]
  },
  {
   "cell_type": "code",
   "execution_count": 619,
   "id": "ce5149c8",
   "metadata": {},
   "outputs": [
    {
     "data": {
      "text/html": [
       "<div>\n",
       "<style scoped>\n",
       "    .dataframe tbody tr th:only-of-type {\n",
       "        vertical-align: middle;\n",
       "    }\n",
       "\n",
       "    .dataframe tbody tr th {\n",
       "        vertical-align: top;\n",
       "    }\n",
       "\n",
       "    .dataframe thead th {\n",
       "        text-align: right;\n",
       "    }\n",
       "</style>\n",
       "<table border=\"1\" class=\"dataframe\">\n",
       "  <thead>\n",
       "    <tr style=\"text-align: right;\">\n",
       "      <th></th>\n",
       "      <th>Bank Name�</th>\n",
       "      <th>City�</th>\n",
       "      <th>Cert�</th>\n",
       "      <th>Acquiring Institution�</th>\n",
       "      <th>Closing Date�</th>\n",
       "      <th>Fund</th>\n",
       "    </tr>\n",
       "  </thead>\n",
       "  <tbody>\n",
       "    <tr>\n",
       "      <th>0</th>\n",
       "      <td>Signature Bank</td>\n",
       "      <td>New York</td>\n",
       "      <td>57053</td>\n",
       "      <td>Flagstar Bank, N.A.</td>\n",
       "      <td>12-Mar-23</td>\n",
       "      <td>10540</td>\n",
       "    </tr>\n",
       "    <tr>\n",
       "      <th>1</th>\n",
       "      <td>Silicon Valley Bank</td>\n",
       "      <td>Santa Clara</td>\n",
       "      <td>24735</td>\n",
       "      <td>Silicon Valley Bridge Bank, N.A.</td>\n",
       "      <td>10-Mar-23</td>\n",
       "      <td>10539</td>\n",
       "    </tr>\n",
       "    <tr>\n",
       "      <th>2</th>\n",
       "      <td>Almena State Bank</td>\n",
       "      <td>Almena</td>\n",
       "      <td>15426</td>\n",
       "      <td>Equity Bank</td>\n",
       "      <td>23-Oct-20</td>\n",
       "      <td>10538</td>\n",
       "    </tr>\n",
       "    <tr>\n",
       "      <th>3</th>\n",
       "      <td>First City Bank of Florida</td>\n",
       "      <td>Fort Walton Beach</td>\n",
       "      <td>16748</td>\n",
       "      <td>United Fidelity Bank, fsb</td>\n",
       "      <td>16-Oct-20</td>\n",
       "      <td>10537</td>\n",
       "    </tr>\n",
       "    <tr>\n",
       "      <th>4</th>\n",
       "      <td>The First State Bank</td>\n",
       "      <td>Barboursville</td>\n",
       "      <td>14361</td>\n",
       "      <td>MVB Bank, Inc.</td>\n",
       "      <td>3-Apr-20</td>\n",
       "      <td>10536</td>\n",
       "    </tr>\n",
       "    <tr>\n",
       "      <th>...</th>\n",
       "      <td>...</td>\n",
       "      <td>...</td>\n",
       "      <td>...</td>\n",
       "      <td>...</td>\n",
       "      <td>...</td>\n",
       "      <td>...</td>\n",
       "    </tr>\n",
       "    <tr>\n",
       "      <th>560</th>\n",
       "      <td>Superior Bank, FSB</td>\n",
       "      <td>Hinsdale</td>\n",
       "      <td>32646</td>\n",
       "      <td>Superior Federal, FSB</td>\n",
       "      <td>27-Jul-01</td>\n",
       "      <td>6004</td>\n",
       "    </tr>\n",
       "    <tr>\n",
       "      <th>561</th>\n",
       "      <td>Malta National Bank</td>\n",
       "      <td>Malta</td>\n",
       "      <td>6629</td>\n",
       "      <td>North Valley Bank</td>\n",
       "      <td>3-May-01</td>\n",
       "      <td>4648</td>\n",
       "    </tr>\n",
       "    <tr>\n",
       "      <th>562</th>\n",
       "      <td>First Alliance Bank &amp; Trust Co.</td>\n",
       "      <td>Manchester</td>\n",
       "      <td>34264</td>\n",
       "      <td>Southern New Hampshire Bank &amp; Trust</td>\n",
       "      <td>2-Feb-01</td>\n",
       "      <td>4647</td>\n",
       "    </tr>\n",
       "    <tr>\n",
       "      <th>563</th>\n",
       "      <td>National State Bank of Metropolis</td>\n",
       "      <td>Metropolis</td>\n",
       "      <td>3815</td>\n",
       "      <td>Banterra Bank of Marion</td>\n",
       "      <td>14-Dec-00</td>\n",
       "      <td>4646</td>\n",
       "    </tr>\n",
       "    <tr>\n",
       "      <th>564</th>\n",
       "      <td>Bank of Honolulu</td>\n",
       "      <td>Honolulu</td>\n",
       "      <td>21029</td>\n",
       "      <td>Bank of the Orient</td>\n",
       "      <td>13-Oct-00</td>\n",
       "      <td>4645</td>\n",
       "    </tr>\n",
       "  </tbody>\n",
       "</table>\n",
       "<p>565 rows × 6 columns</p>\n",
       "</div>"
      ],
      "text/plain": [
       "                            Bank Name�              City�  Cert�  \\\n",
       "0                       Signature Bank           New York  57053   \n",
       "1                  Silicon Valley Bank        Santa Clara  24735   \n",
       "2                    Almena State Bank             Almena  15426   \n",
       "3           First City Bank of Florida  Fort Walton Beach  16748   \n",
       "4                 The First State Bank      Barboursville  14361   \n",
       "..                                 ...                ...    ...   \n",
       "560                 Superior Bank, FSB           Hinsdale  32646   \n",
       "561                Malta National Bank              Malta   6629   \n",
       "562    First Alliance Bank & Trust Co.         Manchester  34264   \n",
       "563  National State Bank of Metropolis         Metropolis   3815   \n",
       "564                   Bank of Honolulu           Honolulu  21029   \n",
       "\n",
       "                  Acquiring Institution� Closing Date�   Fund  \n",
       "0                    Flagstar Bank, N.A.     12-Mar-23  10540  \n",
       "1       Silicon Valley Bridge Bank, N.A.     10-Mar-23  10539  \n",
       "2                            Equity Bank     23-Oct-20  10538  \n",
       "3              United Fidelity Bank, fsb     16-Oct-20  10537  \n",
       "4                         MVB Bank, Inc.      3-Apr-20  10536  \n",
       "..                                   ...           ...    ...  \n",
       "560                Superior Federal, FSB     27-Jul-01   6004  \n",
       "561                    North Valley Bank      3-May-01   4648  \n",
       "562  Southern New Hampshire Bank & Trust      2-Feb-01   4647  \n",
       "563              Banterra Bank of Marion     14-Dec-00   4646  \n",
       "564                   Bank of the Orient     13-Oct-00   4645  \n",
       "\n",
       "[565 rows x 6 columns]"
      ]
     },
     "execution_count": 619,
     "metadata": {},
     "output_type": "execute_result"
    }
   ],
   "source": [
    "Failed_Banks.dropna()\n",
    "Failed_Banks.drop(columns=[\"State�\"])"
   ]
  },
  {
   "cell_type": "code",
   "execution_count": 620,
   "id": "b2a0d74c",
   "metadata": {},
   "outputs": [
    {
     "name": "stdout",
     "output_type": "stream",
     "text": [
      "The number of Failed Banks in the USA according to the FDIC between 13-Oct-00 and 12-Mar-23 is :  564\n"
     ]
    }
   ],
   "source": [
    "print(\"The number of Failed Banks in the USA according to the FDIC between 13-Oct-00 and 12-Mar-23 is : \", len(Failed_Banks.index)-1)"
   ]
  },
  {
   "cell_type": "code",
   "execution_count": 621,
   "id": "f0f54eb7",
   "metadata": {},
   "outputs": [],
   "source": [
    "# Understand the size, entries, datatypes, rows and columns in the Dataset"
   ]
  },
  {
   "cell_type": "code",
   "execution_count": 622,
   "id": "0b0672c6",
   "metadata": {},
   "outputs": [
    {
     "name": "stdout",
     "output_type": "stream",
     "text": [
      "<class 'pandas.core.frame.DataFrame'>\n",
      "RangeIndex: 565 entries, 0 to 564\n",
      "Data columns (total 7 columns):\n",
      " #   Column                  Non-Null Count  Dtype \n",
      "---  ------                  --------------  ----- \n",
      " 0   Bank Name�              565 non-null    object\n",
      " 1   City�                   565 non-null    object\n",
      " 2   State�                  565 non-null    object\n",
      " 3   Cert�                   565 non-null    int64 \n",
      " 4   Acquiring Institution�  565 non-null    object\n",
      " 5   Closing Date�           565 non-null    object\n",
      " 6   Fund                    565 non-null    int64 \n",
      "dtypes: int64(2), object(5)\n",
      "memory usage: 31.0+ KB\n"
     ]
    }
   ],
   "source": [
    "Failed_Banks.info()"
   ]
  },
  {
   "cell_type": "code",
   "execution_count": 665,
   "id": "c1695dbc",
   "metadata": {},
   "outputs": [],
   "source": [
    "# check for duplicate values and drop any duplicated rows"
   ]
  },
  {
   "cell_type": "code",
   "execution_count": 670,
   "id": "6d7a0b06",
   "metadata": {},
   "outputs": [
    {
     "name": "stdout",
     "output_type": "stream",
     "text": [
      "\n",
      "\n",
      "Duplicate Rows : \n",
      " Empty DataFrame\n",
      "Columns: [Bank Name�, City�, State�, Cert�, Acquiring Institution�, Closing Date�, Fund]\n",
      "Index: []\n"
     ]
    }
   ],
   "source": [
    "df_state = pd.read_csv(\"Failed_Bank_List.csv\")\n",
    "Dup_Rows = df_state[df_state.duplicated()]\n",
    "\n",
    "print(\"\\n\\nDuplicate Rows : \\n {}\".format(Dup_Rows))"
   ]
  },
  {
   "cell_type": "code",
   "execution_count": 671,
   "id": "3d89092d",
   "metadata": {},
   "outputs": [
    {
     "name": "stdout",
     "output_type": "stream",
     "text": [
      "No Duplicate Data Located in Failed_Bank_List.csv \n"
     ]
    }
   ],
   "source": [
    "print(\"No Duplicate Data Located in Failed_Bank_List.csv \")"
   ]
  },
  {
   "cell_type": "code",
   "execution_count": 164,
   "id": "488c98ec",
   "metadata": {},
   "outputs": [],
   "source": [
    "# check for null values "
   ]
  },
  {
   "cell_type": "code",
   "execution_count": 676,
   "id": "7ee53a19",
   "metadata": {},
   "outputs": [
    {
     "data": {
      "text/plain": [
       "Bank Name�                False\n",
       "City�                     False\n",
       "State�                    False\n",
       "Cert�                     False\n",
       "Acquiring Institution�    False\n",
       "Closing Date�             False\n",
       "Fund                      False\n",
       "dtype: bool"
      ]
     },
     "execution_count": 676,
     "metadata": {},
     "output_type": "execute_result"
    }
   ],
   "source": [
    "Failed_Banks.isnull().any()"
   ]
  },
  {
   "cell_type": "code",
   "execution_count": 677,
   "id": "bb96c809",
   "metadata": {},
   "outputs": [
    {
     "name": "stdout",
     "output_type": "stream",
     "text": [
      "No Null Data Located in Failed_Bank_List.csv \n"
     ]
    }
   ],
   "source": [
    "print(\"No Null Data Located in Failed_Bank_List.csv \")"
   ]
  },
  {
   "cell_type": "code",
   "execution_count": 678,
   "id": "cd5ecc06",
   "metadata": {},
   "outputs": [],
   "source": [
    "# Unemployment Data 2000 - 2023"
   ]
  },
  {
   "cell_type": "code",
   "execution_count": 679,
   "id": "16946a99",
   "metadata": {},
   "outputs": [],
   "source": [
    "Unemployed = pd.read_csv(\"Unemployment_Data.csv\")"
   ]
  },
  {
   "cell_type": "code",
   "execution_count": 680,
   "id": "5f4030ef",
   "metadata": {},
   "outputs": [
    {
     "data": {
      "text/html": [
       "<div>\n",
       "<style scoped>\n",
       "    .dataframe tbody tr th:only-of-type {\n",
       "        vertical-align: middle;\n",
       "    }\n",
       "\n",
       "    .dataframe tbody tr th {\n",
       "        vertical-align: top;\n",
       "    }\n",
       "\n",
       "    .dataframe thead th {\n",
       "        text-align: right;\n",
       "    }\n",
       "</style>\n",
       "<table border=\"1\" class=\"dataframe\">\n",
       "  <thead>\n",
       "    <tr style=\"text-align: right;\">\n",
       "      <th></th>\n",
       "      <th>Year</th>\n",
       "      <th>Period</th>\n",
       "      <th>Label</th>\n",
       "      <th>Value</th>\n",
       "    </tr>\n",
       "  </thead>\n",
       "  <tbody>\n",
       "    <tr>\n",
       "      <th>0</th>\n",
       "      <td>2020</td>\n",
       "      <td>M04</td>\n",
       "      <td>2020 Apr</td>\n",
       "      <td>22504</td>\n",
       "    </tr>\n",
       "    <tr>\n",
       "      <th>1</th>\n",
       "      <td>2020</td>\n",
       "      <td>M05</td>\n",
       "      <td>2020 May</td>\n",
       "      <td>20514</td>\n",
       "    </tr>\n",
       "    <tr>\n",
       "      <th>2</th>\n",
       "      <td>2020</td>\n",
       "      <td>M06</td>\n",
       "      <td>2020 Jun</td>\n",
       "      <td>18072</td>\n",
       "    </tr>\n",
       "    <tr>\n",
       "      <th>3</th>\n",
       "      <td>2020</td>\n",
       "      <td>M07</td>\n",
       "      <td>2020 Jul</td>\n",
       "      <td>16882</td>\n",
       "    </tr>\n",
       "    <tr>\n",
       "      <th>4</th>\n",
       "      <td>2010</td>\n",
       "      <td>M01</td>\n",
       "      <td>2010 Jan</td>\n",
       "      <td>16147</td>\n",
       "    </tr>\n",
       "    <tr>\n",
       "      <th>...</th>\n",
       "      <td>...</td>\n",
       "      <td>...</td>\n",
       "      <td>...</td>\n",
       "      <td>...</td>\n",
       "    </tr>\n",
       "    <tr>\n",
       "      <th>275</th>\n",
       "      <td>2000</td>\n",
       "      <td>M11</td>\n",
       "      <td>2000 Nov</td>\n",
       "      <td>5336</td>\n",
       "    </tr>\n",
       "    <tr>\n",
       "      <th>276</th>\n",
       "      <td>2000</td>\n",
       "      <td>M12</td>\n",
       "      <td>2000 Dec</td>\n",
       "      <td>5264</td>\n",
       "    </tr>\n",
       "    <tr>\n",
       "      <th>277</th>\n",
       "      <td>2000</td>\n",
       "      <td>M04</td>\n",
       "      <td>2000 Apr</td>\n",
       "      <td>5212</td>\n",
       "    </tr>\n",
       "    <tr>\n",
       "      <th>278</th>\n",
       "      <td>2000</td>\n",
       "      <td>M10</td>\n",
       "      <td>2000 Oct</td>\n",
       "      <td>5153</td>\n",
       "    </tr>\n",
       "    <tr>\n",
       "      <th>279</th>\n",
       "      <td>2023</td>\n",
       "      <td>M04</td>\n",
       "      <td>2023 Apr</td>\n",
       "      <td>5146</td>\n",
       "    </tr>\n",
       "  </tbody>\n",
       "</table>\n",
       "<p>280 rows × 4 columns</p>\n",
       "</div>"
      ],
      "text/plain": [
       "     Year Period     Label  Value\n",
       "0    2020    M04  2020 Apr  22504\n",
       "1    2020    M05  2020 May  20514\n",
       "2    2020    M06  2020 Jun  18072\n",
       "3    2020    M07  2020 Jul  16882\n",
       "4    2010    M01  2010 Jan  16147\n",
       "..    ...    ...       ...    ...\n",
       "275  2000    M11  2000 Nov   5336\n",
       "276  2000    M12  2000 Dec   5264\n",
       "277  2000    M04  2000 Apr   5212\n",
       "278  2000    M10  2000 Oct   5153\n",
       "279  2023    M04  2023 Apr   5146\n",
       "\n",
       "[280 rows x 4 columns]"
      ]
     },
     "execution_count": 680,
     "metadata": {},
     "output_type": "execute_result"
    }
   ],
   "source": [
    "Unemployed.drop(columns=[\"Series ID\"])"
   ]
  },
  {
   "cell_type": "code",
   "execution_count": 681,
   "id": "c35d1f20",
   "metadata": {},
   "outputs": [],
   "source": [
    "# Understand the size, entries, datatypes, rows and columns in the Dataset"
   ]
  },
  {
   "cell_type": "code",
   "execution_count": 682,
   "id": "d9d80e56",
   "metadata": {},
   "outputs": [
    {
     "name": "stdout",
     "output_type": "stream",
     "text": [
      "<class 'pandas.core.frame.DataFrame'>\n",
      "RangeIndex: 280 entries, 0 to 279\n",
      "Data columns (total 5 columns):\n",
      " #   Column     Non-Null Count  Dtype \n",
      "---  ------     --------------  ----- \n",
      " 0   Series ID  280 non-null    object\n",
      " 1   Year       280 non-null    int64 \n",
      " 2   Period     280 non-null    object\n",
      " 3   Label      280 non-null    object\n",
      " 4   Value      280 non-null    int64 \n",
      "dtypes: int64(2), object(3)\n",
      "memory usage: 11.1+ KB\n"
     ]
    }
   ],
   "source": [
    "Unemployed.info()"
   ]
  },
  {
   "cell_type": "code",
   "execution_count": 683,
   "id": "61eba1c9",
   "metadata": {},
   "outputs": [],
   "source": [
    "# check for duplicate values and drop any duplicated rows"
   ]
  },
  {
   "cell_type": "code",
   "execution_count": 684,
   "id": "0be4c391",
   "metadata": {},
   "outputs": [
    {
     "name": "stdout",
     "output_type": "stream",
     "text": [
      "\n",
      "\n",
      "Duplicate Rows : \n",
      " Empty DataFrame\n",
      "Columns: [Series ID, Year, Period, Label, Value]\n",
      "Index: []\n"
     ]
    }
   ],
   "source": [
    "df_state = pd.read_csv(\"Unemployment_Data.csv\")\n",
    "Dup_Rows = df_state[df_state.duplicated()]\n",
    "\n",
    "print(\"\\n\\nDuplicate Rows : \\n {}\".format(Dup_Rows))"
   ]
  },
  {
   "cell_type": "code",
   "execution_count": 685,
   "id": "3446caea",
   "metadata": {},
   "outputs": [
    {
     "name": "stdout",
     "output_type": "stream",
     "text": [
      "No Duplicate Data Located in Unemployment_Data.csv \n"
     ]
    }
   ],
   "source": [
    "print(\"No Duplicate Data Located in Unemployment_Data.csv \")"
   ]
  },
  {
   "cell_type": "code",
   "execution_count": null,
   "id": "6601e9f0",
   "metadata": {},
   "outputs": [],
   "source": []
  },
  {
   "cell_type": "code",
   "execution_count": 686,
   "id": "e8e2df36",
   "metadata": {},
   "outputs": [],
   "source": [
    "# check for zero values "
   ]
  },
  {
   "cell_type": "code",
   "execution_count": 687,
   "id": "da16174b",
   "metadata": {},
   "outputs": [
    {
     "data": {
      "text/plain": [
       "Series ID    False\n",
       "Year         False\n",
       "Period       False\n",
       "Label        False\n",
       "Value        False\n",
       "dtype: bool"
      ]
     },
     "execution_count": 687,
     "metadata": {},
     "output_type": "execute_result"
    }
   ],
   "source": [
    "Unemployed.isnull().any()"
   ]
  },
  {
   "cell_type": "code",
   "execution_count": 688,
   "id": "51f84ee3",
   "metadata": {},
   "outputs": [
    {
     "name": "stdout",
     "output_type": "stream",
     "text": [
      "No Null Data Located in Unemployment_Data.csv \n"
     ]
    }
   ],
   "source": [
    "print(\"No Null Data Located in Unemployment_Data.csv \")"
   ]
  },
  {
   "cell_type": "code",
   "execution_count": 689,
   "id": "f228cff2",
   "metadata": {},
   "outputs": [],
   "source": [
    "# Your project should use Regex to extract a pattern in data (10)"
   ]
  },
  {
   "cell_type": "code",
   "execution_count": 690,
   "id": "068a3912",
   "metadata": {},
   "outputs": [],
   "source": [
    "# Extract the number of failed banks before 12th December 2008 (End 2008) using Fund Sequence Number"
   ]
  },
  {
   "cell_type": "code",
   "execution_count": 691,
   "id": "84b93240",
   "metadata": {},
   "outputs": [],
   "source": [
    "df = pd.read_csv(\"Failed_Bank_List.csv\")"
   ]
  },
  {
   "cell_type": "code",
   "execution_count": 692,
   "id": "64162762",
   "metadata": {},
   "outputs": [
    {
     "data": {
      "text/html": [
       "<div>\n",
       "<style scoped>\n",
       "    .dataframe tbody tr th:only-of-type {\n",
       "        vertical-align: middle;\n",
       "    }\n",
       "\n",
       "    .dataframe tbody tr th {\n",
       "        vertical-align: top;\n",
       "    }\n",
       "\n",
       "    .dataframe thead th {\n",
       "        text-align: right;\n",
       "    }\n",
       "</style>\n",
       "<table border=\"1\" class=\"dataframe\">\n",
       "  <thead>\n",
       "    <tr style=\"text-align: right;\">\n",
       "      <th></th>\n",
       "      <th>Bank Name�</th>\n",
       "      <th>City�</th>\n",
       "      <th>State�</th>\n",
       "      <th>Cert�</th>\n",
       "      <th>Acquiring Institution�</th>\n",
       "      <th>Closing Date�</th>\n",
       "      <th>Fund</th>\n",
       "    </tr>\n",
       "  </thead>\n",
       "  <tbody>\n",
       "    <tr>\n",
       "      <th>513</th>\n",
       "      <td>Sanderson State Bank</td>\n",
       "      <td>Sanderson</td>\n",
       "      <td>TX</td>\n",
       "      <td>11568</td>\n",
       "      <td>The Pecos County State Bank</td>\n",
       "      <td>12-Dec-08</td>\n",
       "      <td>10026</td>\n",
       "    </tr>\n",
       "    <tr>\n",
       "      <th>514</th>\n",
       "      <td>Haven Trust Bank</td>\n",
       "      <td>Duluth</td>\n",
       "      <td>GA</td>\n",
       "      <td>35379</td>\n",
       "      <td>Branch Banking &amp; Trust Company, (BB&amp;T)</td>\n",
       "      <td>12-Dec-08</td>\n",
       "      <td>10027</td>\n",
       "    </tr>\n",
       "    <tr>\n",
       "      <th>515</th>\n",
       "      <td>First Georgia Community Bank</td>\n",
       "      <td>Jackson</td>\n",
       "      <td>GA</td>\n",
       "      <td>34301</td>\n",
       "      <td>United Bank</td>\n",
       "      <td>5-Dec-08</td>\n",
       "      <td>10025</td>\n",
       "    </tr>\n",
       "    <tr>\n",
       "      <th>516</th>\n",
       "      <td>PFF Bank &amp; Trust</td>\n",
       "      <td>Pomona</td>\n",
       "      <td>CA</td>\n",
       "      <td>28344</td>\n",
       "      <td>U.S. Bank, N.A.</td>\n",
       "      <td>21-Nov-08</td>\n",
       "      <td>10024</td>\n",
       "    </tr>\n",
       "    <tr>\n",
       "      <th>517</th>\n",
       "      <td>Downey Savings &amp; Loan</td>\n",
       "      <td>Newport Beach</td>\n",
       "      <td>CA</td>\n",
       "      <td>30968</td>\n",
       "      <td>U.S. Bank, N.A.</td>\n",
       "      <td>21-Nov-08</td>\n",
       "      <td>10023</td>\n",
       "    </tr>\n",
       "    <tr>\n",
       "      <th>518</th>\n",
       "      <td>Community Bank</td>\n",
       "      <td>Loganville</td>\n",
       "      <td>GA</td>\n",
       "      <td>16490</td>\n",
       "      <td>Bank of Essex</td>\n",
       "      <td>21-Nov-08</td>\n",
       "      <td>10022</td>\n",
       "    </tr>\n",
       "    <tr>\n",
       "      <th>519</th>\n",
       "      <td>Security Pacific Bank</td>\n",
       "      <td>Los Angeles</td>\n",
       "      <td>CA</td>\n",
       "      <td>23595</td>\n",
       "      <td>Pacific Western Bank</td>\n",
       "      <td>7-Nov-08</td>\n",
       "      <td>10020</td>\n",
       "    </tr>\n",
       "    <tr>\n",
       "      <th>520</th>\n",
       "      <td>Franklin Bank, SSB</td>\n",
       "      <td>Houston</td>\n",
       "      <td>TX</td>\n",
       "      <td>26870</td>\n",
       "      <td>Prosperity Bank</td>\n",
       "      <td>7-Nov-08</td>\n",
       "      <td>10021</td>\n",
       "    </tr>\n",
       "    <tr>\n",
       "      <th>521</th>\n",
       "      <td>Freedom Bank</td>\n",
       "      <td>Bradenton</td>\n",
       "      <td>FL</td>\n",
       "      <td>57930</td>\n",
       "      <td>Fifth Third Bank</td>\n",
       "      <td>31-Oct-08</td>\n",
       "      <td>10019</td>\n",
       "    </tr>\n",
       "    <tr>\n",
       "      <th>522</th>\n",
       "      <td>Alpha Bank &amp; Trust</td>\n",
       "      <td>Alpharetta</td>\n",
       "      <td>GA</td>\n",
       "      <td>58241</td>\n",
       "      <td>Stearns Bank, N.A.</td>\n",
       "      <td>24-Oct-08</td>\n",
       "      <td>10018</td>\n",
       "    </tr>\n",
       "    <tr>\n",
       "      <th>523</th>\n",
       "      <td>Meridian Bank</td>\n",
       "      <td>Eldred</td>\n",
       "      <td>IL</td>\n",
       "      <td>13789</td>\n",
       "      <td>National Bank</td>\n",
       "      <td>10-Oct-08</td>\n",
       "      <td>10017</td>\n",
       "    </tr>\n",
       "    <tr>\n",
       "      <th>524</th>\n",
       "      <td>Main Street Bank</td>\n",
       "      <td>Northville</td>\n",
       "      <td>MI</td>\n",
       "      <td>57654</td>\n",
       "      <td>Monroe Bank &amp; Trust</td>\n",
       "      <td>10-Oct-08</td>\n",
       "      <td>10016</td>\n",
       "    </tr>\n",
       "    <tr>\n",
       "      <th>525</th>\n",
       "      <td>Washington Mutual Bank (Including its subsidia...</td>\n",
       "      <td>Henderson</td>\n",
       "      <td>NV</td>\n",
       "      <td>32633</td>\n",
       "      <td>JP Morgan Chase Bank</td>\n",
       "      <td>25-Sep-08</td>\n",
       "      <td>10015</td>\n",
       "    </tr>\n",
       "    <tr>\n",
       "      <th>526</th>\n",
       "      <td>Ameribank</td>\n",
       "      <td>Northfork</td>\n",
       "      <td>WV</td>\n",
       "      <td>6782</td>\n",
       "      <td>The Citizens Savings Bank ********** Pioneer C...</td>\n",
       "      <td>19-Sep-08</td>\n",
       "      <td>10014</td>\n",
       "    </tr>\n",
       "    <tr>\n",
       "      <th>527</th>\n",
       "      <td>Silver State Bank</td>\n",
       "      <td>Henderson</td>\n",
       "      <td>NV</td>\n",
       "      <td>34194</td>\n",
       "      <td>Nevada State Bank</td>\n",
       "      <td>5-Sep-08</td>\n",
       "      <td>10013</td>\n",
       "    </tr>\n",
       "    <tr>\n",
       "      <th>528</th>\n",
       "      <td>Integrity Bank</td>\n",
       "      <td>Alpharetta</td>\n",
       "      <td>GA</td>\n",
       "      <td>35469</td>\n",
       "      <td>Regions Bank</td>\n",
       "      <td>29-Aug-08</td>\n",
       "      <td>10012</td>\n",
       "    </tr>\n",
       "    <tr>\n",
       "      <th>529</th>\n",
       "      <td>Columbian Bank &amp; Trust</td>\n",
       "      <td>Topeka</td>\n",
       "      <td>KS</td>\n",
       "      <td>22728</td>\n",
       "      <td>Citizens Bank &amp; Trust</td>\n",
       "      <td>22-Aug-08</td>\n",
       "      <td>10011</td>\n",
       "    </tr>\n",
       "    <tr>\n",
       "      <th>530</th>\n",
       "      <td>First Priority Bank</td>\n",
       "      <td>Bradenton</td>\n",
       "      <td>FL</td>\n",
       "      <td>57523</td>\n",
       "      <td>SunTrust Bank</td>\n",
       "      <td>1-Aug-08</td>\n",
       "      <td>10010</td>\n",
       "    </tr>\n",
       "    <tr>\n",
       "      <th>531</th>\n",
       "      <td>First Heritage Bank, NA</td>\n",
       "      <td>Newport Beach</td>\n",
       "      <td>CA</td>\n",
       "      <td>57961</td>\n",
       "      <td>Mutual of Omaha Bank</td>\n",
       "      <td>25-Jul-08</td>\n",
       "      <td>10009</td>\n",
       "    </tr>\n",
       "    <tr>\n",
       "      <th>532</th>\n",
       "      <td>First National Bank of Nevada</td>\n",
       "      <td>Reno</td>\n",
       "      <td>NV</td>\n",
       "      <td>27011</td>\n",
       "      <td>Mutual of Omaha Bank</td>\n",
       "      <td>25-Jul-08</td>\n",
       "      <td>10008</td>\n",
       "    </tr>\n",
       "    <tr>\n",
       "      <th>533</th>\n",
       "      <td>IndyMac Bank</td>\n",
       "      <td>Pasadena</td>\n",
       "      <td>CA</td>\n",
       "      <td>29730</td>\n",
       "      <td>OneWest Bank, FSB</td>\n",
       "      <td>11-Jul-08</td>\n",
       "      <td>10007</td>\n",
       "    </tr>\n",
       "    <tr>\n",
       "      <th>534</th>\n",
       "      <td>First Integrity Bank, NA</td>\n",
       "      <td>Staples</td>\n",
       "      <td>MN</td>\n",
       "      <td>12736</td>\n",
       "      <td>First International Bank and Trust</td>\n",
       "      <td>30-May-08</td>\n",
       "      <td>10006</td>\n",
       "    </tr>\n",
       "    <tr>\n",
       "      <th>535</th>\n",
       "      <td>ANB Financial, NA</td>\n",
       "      <td>Bentonville</td>\n",
       "      <td>AR</td>\n",
       "      <td>33901</td>\n",
       "      <td>Pulaski Bank and Trust Company</td>\n",
       "      <td>9-May-08</td>\n",
       "      <td>10005</td>\n",
       "    </tr>\n",
       "    <tr>\n",
       "      <th>536</th>\n",
       "      <td>Hume Bank</td>\n",
       "      <td>Hume</td>\n",
       "      <td>MO</td>\n",
       "      <td>1971</td>\n",
       "      <td>Security Bank</td>\n",
       "      <td>7-Mar-08</td>\n",
       "      <td>10004</td>\n",
       "    </tr>\n",
       "    <tr>\n",
       "      <th>537</th>\n",
       "      <td>Douglass National Bank</td>\n",
       "      <td>Kansas City</td>\n",
       "      <td>MO</td>\n",
       "      <td>24660</td>\n",
       "      <td>Liberty Bank and Trust Company</td>\n",
       "      <td>25-Jan-08</td>\n",
       "      <td>10003</td>\n",
       "    </tr>\n",
       "    <tr>\n",
       "      <th>538</th>\n",
       "      <td>Miami Valley Bank</td>\n",
       "      <td>Lakeview</td>\n",
       "      <td>OH</td>\n",
       "      <td>16848</td>\n",
       "      <td>The Citizens Banking Company</td>\n",
       "      <td>4-Oct-07</td>\n",
       "      <td>10002</td>\n",
       "    </tr>\n",
       "    <tr>\n",
       "      <th>539</th>\n",
       "      <td>NetBank</td>\n",
       "      <td>Alpharetta</td>\n",
       "      <td>GA</td>\n",
       "      <td>32575</td>\n",
       "      <td>ING DIRECT</td>\n",
       "      <td>28-Sep-07</td>\n",
       "      <td>10001</td>\n",
       "    </tr>\n",
       "    <tr>\n",
       "      <th>540</th>\n",
       "      <td>Metropolitan Savings Bank</td>\n",
       "      <td>Pittsburgh</td>\n",
       "      <td>PA</td>\n",
       "      <td>35353</td>\n",
       "      <td>Allegheny Valley Bank of Pittsburgh</td>\n",
       "      <td>2-Feb-07</td>\n",
       "      <td>10000</td>\n",
       "    </tr>\n",
       "    <tr>\n",
       "      <th>541</th>\n",
       "      <td>Bank of Ephraim</td>\n",
       "      <td>Ephraim</td>\n",
       "      <td>UT</td>\n",
       "      <td>1249</td>\n",
       "      <td>Far West Bank</td>\n",
       "      <td>25-Jun-04</td>\n",
       "      <td>4665</td>\n",
       "    </tr>\n",
       "    <tr>\n",
       "      <th>542</th>\n",
       "      <td>Reliance Bank</td>\n",
       "      <td>White Plains</td>\n",
       "      <td>NY</td>\n",
       "      <td>26778</td>\n",
       "      <td>Union State Bank</td>\n",
       "      <td>19-Mar-04</td>\n",
       "      <td>4664</td>\n",
       "    </tr>\n",
       "    <tr>\n",
       "      <th>543</th>\n",
       "      <td>Guaranty National Bank of Tallahassee</td>\n",
       "      <td>Tallahassee</td>\n",
       "      <td>FL</td>\n",
       "      <td>26838</td>\n",
       "      <td>Hancock Bank of Florida</td>\n",
       "      <td>12-Mar-04</td>\n",
       "      <td>4663</td>\n",
       "    </tr>\n",
       "    <tr>\n",
       "      <th>544</th>\n",
       "      <td>Dollar Savings Bank</td>\n",
       "      <td>Newark</td>\n",
       "      <td>NJ</td>\n",
       "      <td>31330</td>\n",
       "      <td>No Acquirer</td>\n",
       "      <td>14-Feb-04</td>\n",
       "      <td>6006</td>\n",
       "    </tr>\n",
       "    <tr>\n",
       "      <th>545</th>\n",
       "      <td>Pulaski Savings Bank</td>\n",
       "      <td>Philadelphia</td>\n",
       "      <td>PA</td>\n",
       "      <td>27203</td>\n",
       "      <td>Earthstar Bank</td>\n",
       "      <td>14-Nov-03</td>\n",
       "      <td>4662</td>\n",
       "    </tr>\n",
       "    <tr>\n",
       "      <th>546</th>\n",
       "      <td>First National Bank of Blanchardville</td>\n",
       "      <td>Blanchardville</td>\n",
       "      <td>WI</td>\n",
       "      <td>11639</td>\n",
       "      <td>The Park Bank</td>\n",
       "      <td>9-May-03</td>\n",
       "      <td>4661</td>\n",
       "    </tr>\n",
       "    <tr>\n",
       "      <th>547</th>\n",
       "      <td>Southern Pacific Bank</td>\n",
       "      <td>Torrance</td>\n",
       "      <td>CA</td>\n",
       "      <td>27094</td>\n",
       "      <td>Beal Bank</td>\n",
       "      <td>7-Feb-03</td>\n",
       "      <td>4660</td>\n",
       "    </tr>\n",
       "    <tr>\n",
       "      <th>548</th>\n",
       "      <td>Farmers Bank of Cheneyville</td>\n",
       "      <td>Cheneyville</td>\n",
       "      <td>LA</td>\n",
       "      <td>16445</td>\n",
       "      <td>Sabine State Bank &amp; Trust</td>\n",
       "      <td>17-Dec-02</td>\n",
       "      <td>4659</td>\n",
       "    </tr>\n",
       "    <tr>\n",
       "      <th>549</th>\n",
       "      <td>Bank of Alamo</td>\n",
       "      <td>Alamo</td>\n",
       "      <td>TN</td>\n",
       "      <td>9961</td>\n",
       "      <td>No Acquirer</td>\n",
       "      <td>8-Nov-02</td>\n",
       "      <td>4658</td>\n",
       "    </tr>\n",
       "    <tr>\n",
       "      <th>550</th>\n",
       "      <td>AmTrade International Bank</td>\n",
       "      <td>Atlanta</td>\n",
       "      <td>GA</td>\n",
       "      <td>33784</td>\n",
       "      <td>No Acquirer</td>\n",
       "      <td>30-Sep-02</td>\n",
       "      <td>4657</td>\n",
       "    </tr>\n",
       "    <tr>\n",
       "      <th>551</th>\n",
       "      <td>Universal Federal Savings Bank</td>\n",
       "      <td>Chicago</td>\n",
       "      <td>IL</td>\n",
       "      <td>29355</td>\n",
       "      <td>Chicago Community Bank</td>\n",
       "      <td>27-Jun-02</td>\n",
       "      <td>6005</td>\n",
       "    </tr>\n",
       "    <tr>\n",
       "      <th>552</th>\n",
       "      <td>Connecticut Bank of Commerce</td>\n",
       "      <td>Stamford</td>\n",
       "      <td>CT</td>\n",
       "      <td>19183</td>\n",
       "      <td>Hudson United Bank</td>\n",
       "      <td>26-Jun-02</td>\n",
       "      <td>4656</td>\n",
       "    </tr>\n",
       "    <tr>\n",
       "      <th>553</th>\n",
       "      <td>New Century Bank</td>\n",
       "      <td>Shelby Township</td>\n",
       "      <td>MI</td>\n",
       "      <td>34979</td>\n",
       "      <td>No Acquirer</td>\n",
       "      <td>28-Mar-02</td>\n",
       "      <td>4655</td>\n",
       "    </tr>\n",
       "    <tr>\n",
       "      <th>554</th>\n",
       "      <td>Net 1st National Bank</td>\n",
       "      <td>Boca Raton</td>\n",
       "      <td>FL</td>\n",
       "      <td>26652</td>\n",
       "      <td>Bank Leumi USA</td>\n",
       "      <td>1-Mar-02</td>\n",
       "      <td>4654</td>\n",
       "    </tr>\n",
       "    <tr>\n",
       "      <th>555</th>\n",
       "      <td>NextBank, NA</td>\n",
       "      <td>Phoenix</td>\n",
       "      <td>AZ</td>\n",
       "      <td>22314</td>\n",
       "      <td>No Acquirer</td>\n",
       "      <td>7-Feb-02</td>\n",
       "      <td>4653</td>\n",
       "    </tr>\n",
       "    <tr>\n",
       "      <th>556</th>\n",
       "      <td>Oakwood Deposit Bank Co.</td>\n",
       "      <td>Oakwood</td>\n",
       "      <td>OH</td>\n",
       "      <td>8966</td>\n",
       "      <td>The State Bank &amp; Trust Company</td>\n",
       "      <td>1-Feb-02</td>\n",
       "      <td>4652</td>\n",
       "    </tr>\n",
       "    <tr>\n",
       "      <th>557</th>\n",
       "      <td>Bank of Sierra Blanca</td>\n",
       "      <td>Sierra Blanca</td>\n",
       "      <td>TX</td>\n",
       "      <td>22002</td>\n",
       "      <td>The Security State Bank of Pecos</td>\n",
       "      <td>18-Jan-02</td>\n",
       "      <td>4651</td>\n",
       "    </tr>\n",
       "    <tr>\n",
       "      <th>558</th>\n",
       "      <td>Hamilton Bank, NA</td>\n",
       "      <td>Miami</td>\n",
       "      <td>FL</td>\n",
       "      <td>24382</td>\n",
       "      <td>Israel Discount Bank of New York</td>\n",
       "      <td>11-Jan-02</td>\n",
       "      <td>4650</td>\n",
       "    </tr>\n",
       "    <tr>\n",
       "      <th>559</th>\n",
       "      <td>Sinclair National Bank</td>\n",
       "      <td>Gravette</td>\n",
       "      <td>AR</td>\n",
       "      <td>34248</td>\n",
       "      <td>Delta Trust &amp; Bank</td>\n",
       "      <td>7-Sep-01</td>\n",
       "      <td>4649</td>\n",
       "    </tr>\n",
       "    <tr>\n",
       "      <th>560</th>\n",
       "      <td>Superior Bank, FSB</td>\n",
       "      <td>Hinsdale</td>\n",
       "      <td>IL</td>\n",
       "      <td>32646</td>\n",
       "      <td>Superior Federal, FSB</td>\n",
       "      <td>27-Jul-01</td>\n",
       "      <td>6004</td>\n",
       "    </tr>\n",
       "    <tr>\n",
       "      <th>561</th>\n",
       "      <td>Malta National Bank</td>\n",
       "      <td>Malta</td>\n",
       "      <td>OH</td>\n",
       "      <td>6629</td>\n",
       "      <td>North Valley Bank</td>\n",
       "      <td>3-May-01</td>\n",
       "      <td>4648</td>\n",
       "    </tr>\n",
       "    <tr>\n",
       "      <th>562</th>\n",
       "      <td>First Alliance Bank &amp; Trust Co.</td>\n",
       "      <td>Manchester</td>\n",
       "      <td>NH</td>\n",
       "      <td>34264</td>\n",
       "      <td>Southern New Hampshire Bank &amp; Trust</td>\n",
       "      <td>2-Feb-01</td>\n",
       "      <td>4647</td>\n",
       "    </tr>\n",
       "    <tr>\n",
       "      <th>563</th>\n",
       "      <td>National State Bank of Metropolis</td>\n",
       "      <td>Metropolis</td>\n",
       "      <td>IL</td>\n",
       "      <td>3815</td>\n",
       "      <td>Banterra Bank of Marion</td>\n",
       "      <td>14-Dec-00</td>\n",
       "      <td>4646</td>\n",
       "    </tr>\n",
       "    <tr>\n",
       "      <th>564</th>\n",
       "      <td>Bank of Honolulu</td>\n",
       "      <td>Honolulu</td>\n",
       "      <td>HI</td>\n",
       "      <td>21029</td>\n",
       "      <td>Bank of the Orient</td>\n",
       "      <td>13-Oct-00</td>\n",
       "      <td>4645</td>\n",
       "    </tr>\n",
       "  </tbody>\n",
       "</table>\n",
       "</div>"
      ],
      "text/plain": [
       "                                            Bank Name�            City�  \\\n",
       "513                               Sanderson State Bank        Sanderson   \n",
       "514                                   Haven Trust Bank           Duluth   \n",
       "515                       First Georgia Community Bank          Jackson   \n",
       "516                                   PFF Bank & Trust           Pomona   \n",
       "517                              Downey Savings & Loan    Newport Beach   \n",
       "518                                     Community Bank       Loganville   \n",
       "519                              Security Pacific Bank      Los Angeles   \n",
       "520                                 Franklin Bank, SSB          Houston   \n",
       "521                                       Freedom Bank        Bradenton   \n",
       "522                                 Alpha Bank & Trust       Alpharetta   \n",
       "523                                      Meridian Bank           Eldred   \n",
       "524                                   Main Street Bank       Northville   \n",
       "525  Washington Mutual Bank (Including its subsidia...        Henderson   \n",
       "526                                          Ameribank        Northfork   \n",
       "527                                  Silver State Bank        Henderson   \n",
       "528                                     Integrity Bank       Alpharetta   \n",
       "529                             Columbian Bank & Trust           Topeka   \n",
       "530                                First Priority Bank        Bradenton   \n",
       "531                            First Heritage Bank, NA    Newport Beach   \n",
       "532                      First National Bank of Nevada             Reno   \n",
       "533                                       IndyMac Bank         Pasadena   \n",
       "534                           First Integrity Bank, NA          Staples   \n",
       "535                                  ANB Financial, NA      Bentonville   \n",
       "536                                          Hume Bank             Hume   \n",
       "537                             Douglass National Bank      Kansas City   \n",
       "538                                  Miami Valley Bank         Lakeview   \n",
       "539                                            NetBank       Alpharetta   \n",
       "540                          Metropolitan Savings Bank       Pittsburgh   \n",
       "541                                    Bank of Ephraim          Ephraim   \n",
       "542                                      Reliance Bank     White Plains   \n",
       "543              Guaranty National Bank of Tallahassee      Tallahassee   \n",
       "544                                Dollar Savings Bank           Newark   \n",
       "545                               Pulaski Savings Bank     Philadelphia   \n",
       "546              First National Bank of Blanchardville   Blanchardville   \n",
       "547                              Southern Pacific Bank         Torrance   \n",
       "548                        Farmers Bank of Cheneyville      Cheneyville   \n",
       "549                                      Bank of Alamo            Alamo   \n",
       "550                         AmTrade International Bank          Atlanta   \n",
       "551                     Universal Federal Savings Bank          Chicago   \n",
       "552                       Connecticut Bank of Commerce         Stamford   \n",
       "553                                   New Century Bank  Shelby Township   \n",
       "554                              Net 1st National Bank       Boca Raton   \n",
       "555                                       NextBank, NA          Phoenix   \n",
       "556                           Oakwood Deposit Bank Co.          Oakwood   \n",
       "557                              Bank of Sierra Blanca    Sierra Blanca   \n",
       "558                                  Hamilton Bank, NA            Miami   \n",
       "559                             Sinclair National Bank         Gravette   \n",
       "560                                 Superior Bank, FSB         Hinsdale   \n",
       "561                                Malta National Bank            Malta   \n",
       "562                    First Alliance Bank & Trust Co.       Manchester   \n",
       "563                  National State Bank of Metropolis       Metropolis   \n",
       "564                                   Bank of Honolulu         Honolulu   \n",
       "\n",
       "    State�  Cert�                             Acquiring Institution�  \\\n",
       "513     TX  11568                        The Pecos County State Bank   \n",
       "514     GA  35379             Branch Banking & Trust Company, (BB&T)   \n",
       "515     GA  34301                                        United Bank   \n",
       "516     CA  28344                                    U.S. Bank, N.A.   \n",
       "517     CA  30968                                    U.S. Bank, N.A.   \n",
       "518     GA  16490                                      Bank of Essex   \n",
       "519     CA  23595                               Pacific Western Bank   \n",
       "520     TX  26870                                    Prosperity Bank   \n",
       "521     FL  57930                                   Fifth Third Bank   \n",
       "522     GA  58241                                 Stearns Bank, N.A.   \n",
       "523     IL  13789                                      National Bank   \n",
       "524     MI  57654                                Monroe Bank & Trust   \n",
       "525     NV  32633                               JP Morgan Chase Bank   \n",
       "526     WV   6782  The Citizens Savings Bank ********** Pioneer C...   \n",
       "527     NV  34194                                  Nevada State Bank   \n",
       "528     GA  35469                                       Regions Bank   \n",
       "529     KS  22728                              Citizens Bank & Trust   \n",
       "530     FL  57523                                      SunTrust Bank   \n",
       "531     CA  57961                               Mutual of Omaha Bank   \n",
       "532     NV  27011                               Mutual of Omaha Bank   \n",
       "533     CA  29730                                  OneWest Bank, FSB   \n",
       "534     MN  12736                 First International Bank and Trust   \n",
       "535     AR  33901                     Pulaski Bank and Trust Company   \n",
       "536     MO   1971                                      Security Bank   \n",
       "537     MO  24660                     Liberty Bank and Trust Company   \n",
       "538     OH  16848                       The Citizens Banking Company   \n",
       "539     GA  32575                                         ING DIRECT   \n",
       "540     PA  35353                Allegheny Valley Bank of Pittsburgh   \n",
       "541     UT   1249                                      Far West Bank   \n",
       "542     NY  26778                                   Union State Bank   \n",
       "543     FL  26838                            Hancock Bank of Florida   \n",
       "544     NJ  31330                                        No Acquirer   \n",
       "545     PA  27203                                     Earthstar Bank   \n",
       "546     WI  11639                                      The Park Bank   \n",
       "547     CA  27094                                          Beal Bank   \n",
       "548     LA  16445                          Sabine State Bank & Trust   \n",
       "549     TN   9961                                        No Acquirer   \n",
       "550     GA  33784                                        No Acquirer   \n",
       "551     IL  29355                             Chicago Community Bank   \n",
       "552     CT  19183                                 Hudson United Bank   \n",
       "553     MI  34979                                        No Acquirer   \n",
       "554     FL  26652                                     Bank Leumi USA   \n",
       "555     AZ  22314                                        No Acquirer   \n",
       "556     OH   8966                     The State Bank & Trust Company   \n",
       "557     TX  22002                   The Security State Bank of Pecos   \n",
       "558     FL  24382                   Israel Discount Bank of New York   \n",
       "559     AR  34248                                 Delta Trust & Bank   \n",
       "560     IL  32646                              Superior Federal, FSB   \n",
       "561     OH   6629                                  North Valley Bank   \n",
       "562     NH  34264                Southern New Hampshire Bank & Trust   \n",
       "563     IL   3815                            Banterra Bank of Marion   \n",
       "564     HI  21029                                 Bank of the Orient   \n",
       "\n",
       "    Closing Date�   Fund  \n",
       "513     12-Dec-08  10026  \n",
       "514     12-Dec-08  10027  \n",
       "515      5-Dec-08  10025  \n",
       "516     21-Nov-08  10024  \n",
       "517     21-Nov-08  10023  \n",
       "518     21-Nov-08  10022  \n",
       "519      7-Nov-08  10020  \n",
       "520      7-Nov-08  10021  \n",
       "521     31-Oct-08  10019  \n",
       "522     24-Oct-08  10018  \n",
       "523     10-Oct-08  10017  \n",
       "524     10-Oct-08  10016  \n",
       "525     25-Sep-08  10015  \n",
       "526     19-Sep-08  10014  \n",
       "527      5-Sep-08  10013  \n",
       "528     29-Aug-08  10012  \n",
       "529     22-Aug-08  10011  \n",
       "530      1-Aug-08  10010  \n",
       "531     25-Jul-08  10009  \n",
       "532     25-Jul-08  10008  \n",
       "533     11-Jul-08  10007  \n",
       "534     30-May-08  10006  \n",
       "535      9-May-08  10005  \n",
       "536      7-Mar-08  10004  \n",
       "537     25-Jan-08  10003  \n",
       "538      4-Oct-07  10002  \n",
       "539     28-Sep-07  10001  \n",
       "540      2-Feb-07  10000  \n",
       "541     25-Jun-04   4665  \n",
       "542     19-Mar-04   4664  \n",
       "543     12-Mar-04   4663  \n",
       "544     14-Feb-04   6006  \n",
       "545     14-Nov-03   4662  \n",
       "546      9-May-03   4661  \n",
       "547      7-Feb-03   4660  \n",
       "548     17-Dec-02   4659  \n",
       "549      8-Nov-02   4658  \n",
       "550     30-Sep-02   4657  \n",
       "551     27-Jun-02   6005  \n",
       "552     26-Jun-02   4656  \n",
       "553     28-Mar-02   4655  \n",
       "554      1-Mar-02   4654  \n",
       "555      7-Feb-02   4653  \n",
       "556      1-Feb-02   4652  \n",
       "557     18-Jan-02   4651  \n",
       "558     11-Jan-02   4650  \n",
       "559      7-Sep-01   4649  \n",
       "560     27-Jul-01   6004  \n",
       "561      3-May-01   4648  \n",
       "562      2-Feb-01   4647  \n",
       "563     14-Dec-00   4646  \n",
       "564     13-Oct-00   4645  "
      ]
     },
     "execution_count": 692,
     "metadata": {},
     "output_type": "execute_result"
    }
   ],
   "source": [
    "df[df['Fund']<10028]"
   ]
  },
  {
   "cell_type": "code",
   "execution_count": 693,
   "id": "8e46d9d8",
   "metadata": {},
   "outputs": [],
   "source": [
    "df_filtered1 = df[df['Fund']<10027]"
   ]
  },
  {
   "cell_type": "code",
   "execution_count": 694,
   "id": "36e5dda0",
   "metadata": {},
   "outputs": [
    {
     "data": {
      "text/plain": [
       "51"
      ]
     },
     "execution_count": 694,
     "metadata": {},
     "output_type": "execute_result"
    }
   ],
   "source": [
    "len(df_filtered1)"
   ]
  },
  {
   "cell_type": "code",
   "execution_count": 695,
   "id": "211b7adc",
   "metadata": {},
   "outputs": [
    {
     "name": "stdout",
     "output_type": "stream",
     "text": [
      "The number of Failed Banks in the USA according to the FDIC before 12th December 2008 :  51\n"
     ]
    }
   ],
   "source": [
    "print(\"The number of Failed Banks in the USA according to the FDIC before 12th December 2008 : \", len(df_filtered1))"
   ]
  },
  {
   "cell_type": "code",
   "execution_count": 696,
   "id": "e02a066f",
   "metadata": {},
   "outputs": [],
   "source": [
    "# Extract the number of failed banks after 12th December 2008 (End 2008) using Fund Sequence Number"
   ]
  },
  {
   "cell_type": "code",
   "execution_count": 697,
   "id": "89cf5aef",
   "metadata": {},
   "outputs": [
    {
     "data": {
      "text/html": [
       "<div>\n",
       "<style scoped>\n",
       "    .dataframe tbody tr th:only-of-type {\n",
       "        vertical-align: middle;\n",
       "    }\n",
       "\n",
       "    .dataframe tbody tr th {\n",
       "        vertical-align: top;\n",
       "    }\n",
       "\n",
       "    .dataframe thead th {\n",
       "        text-align: right;\n",
       "    }\n",
       "</style>\n",
       "<table border=\"1\" class=\"dataframe\">\n",
       "  <thead>\n",
       "    <tr style=\"text-align: right;\">\n",
       "      <th></th>\n",
       "      <th>Bank Name�</th>\n",
       "      <th>City�</th>\n",
       "      <th>State�</th>\n",
       "      <th>Cert�</th>\n",
       "      <th>Acquiring Institution�</th>\n",
       "      <th>Closing Date�</th>\n",
       "      <th>Fund</th>\n",
       "    </tr>\n",
       "  </thead>\n",
       "  <tbody>\n",
       "    <tr>\n",
       "      <th>0</th>\n",
       "      <td>Signature Bank</td>\n",
       "      <td>New York</td>\n",
       "      <td>NY</td>\n",
       "      <td>57053</td>\n",
       "      <td>Flagstar Bank, N.A.</td>\n",
       "      <td>12-Mar-23</td>\n",
       "      <td>10540</td>\n",
       "    </tr>\n",
       "    <tr>\n",
       "      <th>1</th>\n",
       "      <td>Silicon Valley Bank</td>\n",
       "      <td>Santa Clara</td>\n",
       "      <td>CA</td>\n",
       "      <td>24735</td>\n",
       "      <td>Silicon Valley Bridge Bank, N.A.</td>\n",
       "      <td>10-Mar-23</td>\n",
       "      <td>10539</td>\n",
       "    </tr>\n",
       "    <tr>\n",
       "      <th>2</th>\n",
       "      <td>Almena State Bank</td>\n",
       "      <td>Almena</td>\n",
       "      <td>KS</td>\n",
       "      <td>15426</td>\n",
       "      <td>Equity Bank</td>\n",
       "      <td>23-Oct-20</td>\n",
       "      <td>10538</td>\n",
       "    </tr>\n",
       "    <tr>\n",
       "      <th>3</th>\n",
       "      <td>First City Bank of Florida</td>\n",
       "      <td>Fort Walton Beach</td>\n",
       "      <td>FL</td>\n",
       "      <td>16748</td>\n",
       "      <td>United Fidelity Bank, fsb</td>\n",
       "      <td>16-Oct-20</td>\n",
       "      <td>10537</td>\n",
       "    </tr>\n",
       "    <tr>\n",
       "      <th>4</th>\n",
       "      <td>The First State Bank</td>\n",
       "      <td>Barboursville</td>\n",
       "      <td>WV</td>\n",
       "      <td>14361</td>\n",
       "      <td>MVB Bank, Inc.</td>\n",
       "      <td>3-Apr-20</td>\n",
       "      <td>10536</td>\n",
       "    </tr>\n",
       "    <tr>\n",
       "      <th>...</th>\n",
       "      <td>...</td>\n",
       "      <td>...</td>\n",
       "      <td>...</td>\n",
       "      <td>...</td>\n",
       "      <td>...</td>\n",
       "      <td>...</td>\n",
       "      <td>...</td>\n",
       "    </tr>\n",
       "    <tr>\n",
       "      <th>508</th>\n",
       "      <td>Suburban FSB</td>\n",
       "      <td>Crofton</td>\n",
       "      <td>MD</td>\n",
       "      <td>30763</td>\n",
       "      <td>Bank of Essex</td>\n",
       "      <td>30-Jan-09</td>\n",
       "      <td>10033</td>\n",
       "    </tr>\n",
       "    <tr>\n",
       "      <th>509</th>\n",
       "      <td>MagnetBank</td>\n",
       "      <td>Salt Lake City</td>\n",
       "      <td>UT</td>\n",
       "      <td>58001</td>\n",
       "      <td>No Acquirer</td>\n",
       "      <td>30-Jan-09</td>\n",
       "      <td>10031</td>\n",
       "    </tr>\n",
       "    <tr>\n",
       "      <th>510</th>\n",
       "      <td>1st Centennial Bank</td>\n",
       "      <td>Redlands</td>\n",
       "      <td>CA</td>\n",
       "      <td>33025</td>\n",
       "      <td>First California Bank</td>\n",
       "      <td>23-Jan-09</td>\n",
       "      <td>10030</td>\n",
       "    </tr>\n",
       "    <tr>\n",
       "      <th>511</th>\n",
       "      <td>Bank of Clark County</td>\n",
       "      <td>Vancouver</td>\n",
       "      <td>WA</td>\n",
       "      <td>34959</td>\n",
       "      <td>Umpqua Bank</td>\n",
       "      <td>16-Jan-09</td>\n",
       "      <td>10029</td>\n",
       "    </tr>\n",
       "    <tr>\n",
       "      <th>512</th>\n",
       "      <td>National Bank of Commerce</td>\n",
       "      <td>Berkeley</td>\n",
       "      <td>IL</td>\n",
       "      <td>19733</td>\n",
       "      <td>Republic Bank of Chicago</td>\n",
       "      <td>16-Jan-09</td>\n",
       "      <td>10028</td>\n",
       "    </tr>\n",
       "  </tbody>\n",
       "</table>\n",
       "<p>513 rows × 7 columns</p>\n",
       "</div>"
      ],
      "text/plain": [
       "                     Bank Name�              City� State�  Cert�  \\\n",
       "0                Signature Bank           New York     NY  57053   \n",
       "1           Silicon Valley Bank        Santa Clara     CA  24735   \n",
       "2             Almena State Bank             Almena     KS  15426   \n",
       "3    First City Bank of Florida  Fort Walton Beach     FL  16748   \n",
       "4          The First State Bank      Barboursville     WV  14361   \n",
       "..                          ...                ...    ...    ...   \n",
       "508                Suburban FSB            Crofton     MD  30763   \n",
       "509                  MagnetBank     Salt Lake City     UT  58001   \n",
       "510         1st Centennial Bank           Redlands     CA  33025   \n",
       "511        Bank of Clark County          Vancouver     WA  34959   \n",
       "512   National Bank of Commerce           Berkeley     IL  19733   \n",
       "\n",
       "               Acquiring Institution� Closing Date�   Fund  \n",
       "0                 Flagstar Bank, N.A.     12-Mar-23  10540  \n",
       "1    Silicon Valley Bridge Bank, N.A.     10-Mar-23  10539  \n",
       "2                         Equity Bank     23-Oct-20  10538  \n",
       "3           United Fidelity Bank, fsb     16-Oct-20  10537  \n",
       "4                      MVB Bank, Inc.      3-Apr-20  10536  \n",
       "..                                ...           ...    ...  \n",
       "508                     Bank of Essex     30-Jan-09  10033  \n",
       "509                       No Acquirer     30-Jan-09  10031  \n",
       "510             First California Bank     23-Jan-09  10030  \n",
       "511                       Umpqua Bank     16-Jan-09  10029  \n",
       "512          Republic Bank of Chicago     16-Jan-09  10028  \n",
       "\n",
       "[513 rows x 7 columns]"
      ]
     },
     "execution_count": 697,
     "metadata": {},
     "output_type": "execute_result"
    }
   ],
   "source": [
    "df[df['Fund']>10027]"
   ]
  },
  {
   "cell_type": "code",
   "execution_count": 698,
   "id": "94b7ceb3",
   "metadata": {},
   "outputs": [],
   "source": [
    "df_filtered2 = df[df['Fund']>10027]"
   ]
  },
  {
   "cell_type": "code",
   "execution_count": 699,
   "id": "57ef985f",
   "metadata": {},
   "outputs": [
    {
     "data": {
      "text/plain": [
       "513"
      ]
     },
     "execution_count": 699,
     "metadata": {},
     "output_type": "execute_result"
    }
   ],
   "source": [
    "len(df_filtered2)"
   ]
  },
  {
   "cell_type": "code",
   "execution_count": 700,
   "id": "4d7f4745",
   "metadata": {},
   "outputs": [
    {
     "name": "stdout",
     "output_type": "stream",
     "text": [
      "The number of Failed Banks in the USA according to the FDIC after 12th December 2008 :  513\n"
     ]
    }
   ],
   "source": [
    "print(\"The number of Failed Banks in the USA according to the FDIC after 12th December 2008 : \", len(df_filtered2))"
   ]
  },
  {
   "cell_type": "code",
   "execution_count": 704,
   "id": "233d1a33",
   "metadata": {},
   "outputs": [],
   "source": [
    "# Extract the number of failed banks in Chicago (Full timeline)"
   ]
  },
  {
   "cell_type": "code",
   "execution_count": 707,
   "id": "374069bc",
   "metadata": {},
   "outputs": [
    {
     "data": {
      "text/html": [
       "<div>\n",
       "<style scoped>\n",
       "    .dataframe tbody tr th:only-of-type {\n",
       "        vertical-align: middle;\n",
       "    }\n",
       "\n",
       "    .dataframe tbody tr th {\n",
       "        vertical-align: top;\n",
       "    }\n",
       "\n",
       "    .dataframe thead th {\n",
       "        text-align: right;\n",
       "    }\n",
       "</style>\n",
       "<table border=\"1\" class=\"dataframe\">\n",
       "  <thead>\n",
       "    <tr style=\"text-align: right;\">\n",
       "      <th></th>\n",
       "      <th>Bank Name�</th>\n",
       "      <th>City�</th>\n",
       "      <th>State�</th>\n",
       "      <th>Cert�</th>\n",
       "      <th>Acquiring Institution�</th>\n",
       "      <th>Closing Date�</th>\n",
       "      <th>Fund</th>\n",
       "    </tr>\n",
       "  </thead>\n",
       "  <tbody>\n",
       "    <tr>\n",
       "      <th>10</th>\n",
       "      <td>Washington Federal Bank for Savings</td>\n",
       "      <td>Chicago</td>\n",
       "      <td>IL</td>\n",
       "      <td>30570</td>\n",
       "      <td>Royal Savings Bank</td>\n",
       "      <td>15-Dec-17</td>\n",
       "      <td>10530</td>\n",
       "    </tr>\n",
       "    <tr>\n",
       "      <th>16</th>\n",
       "      <td>Seaway Bank and Trust Company</td>\n",
       "      <td>Chicago</td>\n",
       "      <td>IL</td>\n",
       "      <td>19328</td>\n",
       "      <td>State Bank of Texas</td>\n",
       "      <td>27-Jan-17</td>\n",
       "      <td>10524</td>\n",
       "    </tr>\n",
       "    <tr>\n",
       "      <th>26</th>\n",
       "      <td>Edgebrook Bank</td>\n",
       "      <td>Chicago</td>\n",
       "      <td>IL</td>\n",
       "      <td>57772</td>\n",
       "      <td>Republic Bank of Chicago</td>\n",
       "      <td>8-May-15</td>\n",
       "      <td>10514</td>\n",
       "    </tr>\n",
       "    <tr>\n",
       "      <th>29</th>\n",
       "      <td>Highland Community Bank</td>\n",
       "      <td>Chicago</td>\n",
       "      <td>IL</td>\n",
       "      <td>20290</td>\n",
       "      <td>United Fidelity Bank, fsb</td>\n",
       "      <td>23-Jan-15</td>\n",
       "      <td>10511</td>\n",
       "    </tr>\n",
       "    <tr>\n",
       "      <th>33</th>\n",
       "      <td>The National Republic Bank of Chicago</td>\n",
       "      <td>Chicago</td>\n",
       "      <td>IL</td>\n",
       "      <td>916</td>\n",
       "      <td>State Bank of Texas</td>\n",
       "      <td>24-Oct-14</td>\n",
       "      <td>10507</td>\n",
       "    </tr>\n",
       "    <tr>\n",
       "      <th>35</th>\n",
       "      <td>GreenChoice Bank, fsb</td>\n",
       "      <td>Chicago</td>\n",
       "      <td>IL</td>\n",
       "      <td>28462</td>\n",
       "      <td>Providence Bank, LLC</td>\n",
       "      <td>25-Jul-14</td>\n",
       "      <td>10505</td>\n",
       "    </tr>\n",
       "    <tr>\n",
       "      <th>48</th>\n",
       "      <td>DuPage National Bank</td>\n",
       "      <td>West Chicago</td>\n",
       "      <td>IL</td>\n",
       "      <td>5732</td>\n",
       "      <td>Republic Bank of Chicago</td>\n",
       "      <td>17-Jan-14</td>\n",
       "      <td>10492</td>\n",
       "    </tr>\n",
       "    <tr>\n",
       "      <th>70</th>\n",
       "      <td>Covenant Bank</td>\n",
       "      <td>Chicago</td>\n",
       "      <td>IL</td>\n",
       "      <td>22476</td>\n",
       "      <td>Liberty Bank and Trust Company</td>\n",
       "      <td>15-Feb-13</td>\n",
       "      <td>10470</td>\n",
       "    </tr>\n",
       "    <tr>\n",
       "      <th>86</th>\n",
       "      <td>Second Federal Savings and Loan Association of...</td>\n",
       "      <td>Chicago</td>\n",
       "      <td>IL</td>\n",
       "      <td>27986</td>\n",
       "      <td>Hinsdale Bank &amp; Trust Company</td>\n",
       "      <td>20-Jul-12</td>\n",
       "      <td>10453</td>\n",
       "    </tr>\n",
       "    <tr>\n",
       "      <th>111</th>\n",
       "      <td>New City Bank</td>\n",
       "      <td>Chicago</td>\n",
       "      <td>IL</td>\n",
       "      <td>57597</td>\n",
       "      <td>No Acquirer</td>\n",
       "      <td>9-Mar-12</td>\n",
       "      <td>10429</td>\n",
       "    </tr>\n",
       "    <tr>\n",
       "      <th>167</th>\n",
       "      <td>First Chicago Bank &amp; Trust</td>\n",
       "      <td>Chicago</td>\n",
       "      <td>IL</td>\n",
       "      <td>27935</td>\n",
       "      <td>Northbrook Bank &amp; Trust Company</td>\n",
       "      <td>8-Jul-11</td>\n",
       "      <td>10374</td>\n",
       "    </tr>\n",
       "    <tr>\n",
       "      <th>202</th>\n",
       "      <td>Community First Bank Chicago</td>\n",
       "      <td>Chicago</td>\n",
       "      <td>IL</td>\n",
       "      <td>57948</td>\n",
       "      <td>Northbrook Bank &amp; Trust Company</td>\n",
       "      <td>4-Feb-11</td>\n",
       "      <td>10337</td>\n",
       "    </tr>\n",
       "    <tr>\n",
       "      <th>259</th>\n",
       "      <td>ShoreBank</td>\n",
       "      <td>Chicago</td>\n",
       "      <td>IL</td>\n",
       "      <td>15640</td>\n",
       "      <td>Urban Partnership Bank</td>\n",
       "      <td>20-Aug-10</td>\n",
       "      <td>10284</td>\n",
       "    </tr>\n",
       "    <tr>\n",
       "      <th>264</th>\n",
       "      <td>Ravenswood Bank</td>\n",
       "      <td>Chicago</td>\n",
       "      <td>IL</td>\n",
       "      <td>34231</td>\n",
       "      <td>Northbrook Bank &amp; Trust Company</td>\n",
       "      <td>6-Aug-10</td>\n",
       "      <td>10276</td>\n",
       "    </tr>\n",
       "    <tr>\n",
       "      <th>318</th>\n",
       "      <td>Lincoln Park Savings Bank</td>\n",
       "      <td>Chicago</td>\n",
       "      <td>IL</td>\n",
       "      <td>30600</td>\n",
       "      <td>Northbrook Bank &amp; Trust Company</td>\n",
       "      <td>23-Apr-10</td>\n",
       "      <td>10221</td>\n",
       "    </tr>\n",
       "    <tr>\n",
       "      <th>319</th>\n",
       "      <td>New Century Bank</td>\n",
       "      <td>Chicago</td>\n",
       "      <td>IL</td>\n",
       "      <td>34821</td>\n",
       "      <td>MB Financial Bank, N.A.</td>\n",
       "      <td>23-Apr-10</td>\n",
       "      <td>10222</td>\n",
       "    </tr>\n",
       "    <tr>\n",
       "      <th>320</th>\n",
       "      <td>Citizens Bank and Trust Company of Chicago</td>\n",
       "      <td>Chicago</td>\n",
       "      <td>IL</td>\n",
       "      <td>34658</td>\n",
       "      <td>Republic Bank of Chicago</td>\n",
       "      <td>23-Apr-10</td>\n",
       "      <td>10220</td>\n",
       "    </tr>\n",
       "    <tr>\n",
       "      <th>321</th>\n",
       "      <td>Broadway Bank</td>\n",
       "      <td>Chicago</td>\n",
       "      <td>IL</td>\n",
       "      <td>22853</td>\n",
       "      <td>MB Financial Bank, N.A.</td>\n",
       "      <td>23-Apr-10</td>\n",
       "      <td>10219</td>\n",
       "    </tr>\n",
       "    <tr>\n",
       "      <th>401</th>\n",
       "      <td>Park National Bank</td>\n",
       "      <td>Chicago</td>\n",
       "      <td>IL</td>\n",
       "      <td>11677</td>\n",
       "      <td>U.S. Bank N.A.</td>\n",
       "      <td>30-Oct-09</td>\n",
       "      <td>10140</td>\n",
       "    </tr>\n",
       "    <tr>\n",
       "      <th>423</th>\n",
       "      <td>Corus Bank, N.A.</td>\n",
       "      <td>Chicago</td>\n",
       "      <td>IL</td>\n",
       "      <td>13693</td>\n",
       "      <td>MB Financial Bank, N.A.</td>\n",
       "      <td>11-Sep-09</td>\n",
       "      <td>10117</td>\n",
       "    </tr>\n",
       "    <tr>\n",
       "      <th>551</th>\n",
       "      <td>Universal Federal Savings Bank</td>\n",
       "      <td>Chicago</td>\n",
       "      <td>IL</td>\n",
       "      <td>29355</td>\n",
       "      <td>Chicago Community Bank</td>\n",
       "      <td>27-Jun-02</td>\n",
       "      <td>6005</td>\n",
       "    </tr>\n",
       "  </tbody>\n",
       "</table>\n",
       "</div>"
      ],
      "text/plain": [
       "                                            Bank Name�         City� State�  \\\n",
       "10                 Washington Federal Bank for Savings       Chicago     IL   \n",
       "16                       Seaway Bank and Trust Company       Chicago     IL   \n",
       "26                                      Edgebrook Bank       Chicago     IL   \n",
       "29                             Highland Community Bank       Chicago     IL   \n",
       "33               The National Republic Bank of Chicago       Chicago     IL   \n",
       "35                               GreenChoice Bank, fsb       Chicago     IL   \n",
       "48                                DuPage National Bank  West Chicago     IL   \n",
       "70                                       Covenant Bank       Chicago     IL   \n",
       "86   Second Federal Savings and Loan Association of...       Chicago     IL   \n",
       "111                                      New City Bank       Chicago     IL   \n",
       "167                         First Chicago Bank & Trust       Chicago     IL   \n",
       "202                       Community First Bank Chicago       Chicago     IL   \n",
       "259                                          ShoreBank       Chicago     IL   \n",
       "264                                    Ravenswood Bank       Chicago     IL   \n",
       "318                          Lincoln Park Savings Bank       Chicago     IL   \n",
       "319                                   New Century Bank       Chicago     IL   \n",
       "320         Citizens Bank and Trust Company of Chicago       Chicago     IL   \n",
       "321                                      Broadway Bank       Chicago     IL   \n",
       "401                                 Park National Bank       Chicago     IL   \n",
       "423                                   Corus Bank, N.A.       Chicago     IL   \n",
       "551                     Universal Federal Savings Bank       Chicago     IL   \n",
       "\n",
       "     Cert�           Acquiring Institution� Closing Date�   Fund  \n",
       "10   30570               Royal Savings Bank     15-Dec-17  10530  \n",
       "16   19328              State Bank of Texas     27-Jan-17  10524  \n",
       "26   57772         Republic Bank of Chicago      8-May-15  10514  \n",
       "29   20290        United Fidelity Bank, fsb     23-Jan-15  10511  \n",
       "33     916              State Bank of Texas     24-Oct-14  10507  \n",
       "35   28462             Providence Bank, LLC     25-Jul-14  10505  \n",
       "48    5732         Republic Bank of Chicago     17-Jan-14  10492  \n",
       "70   22476   Liberty Bank and Trust Company     15-Feb-13  10470  \n",
       "86   27986    Hinsdale Bank & Trust Company     20-Jul-12  10453  \n",
       "111  57597                      No Acquirer      9-Mar-12  10429  \n",
       "167  27935  Northbrook Bank & Trust Company      8-Jul-11  10374  \n",
       "202  57948  Northbrook Bank & Trust Company      4-Feb-11  10337  \n",
       "259  15640           Urban Partnership Bank     20-Aug-10  10284  \n",
       "264  34231  Northbrook Bank & Trust Company      6-Aug-10  10276  \n",
       "318  30600  Northbrook Bank & Trust Company     23-Apr-10  10221  \n",
       "319  34821          MB Financial Bank, N.A.     23-Apr-10  10222  \n",
       "320  34658         Republic Bank of Chicago     23-Apr-10  10220  \n",
       "321  22853          MB Financial Bank, N.A.     23-Apr-10  10219  \n",
       "401  11677                   U.S. Bank N.A.     30-Oct-09  10140  \n",
       "423  13693          MB Financial Bank, N.A.     11-Sep-09  10117  \n",
       "551  29355           Chicago Community Bank     27-Jun-02   6005  "
      ]
     },
     "execution_count": 707,
     "metadata": {},
     "output_type": "execute_result"
    }
   ],
   "source": [
    "df[df['City�'].str.contains('Chicago')]"
   ]
  },
  {
   "cell_type": "code",
   "execution_count": 708,
   "id": "c0887f8e",
   "metadata": {},
   "outputs": [
    {
     "data": {
      "text/plain": [
       "21"
      ]
     },
     "execution_count": 708,
     "metadata": {},
     "output_type": "execute_result"
    }
   ],
   "source": [
    "len(df_Chicago)"
   ]
  },
  {
   "cell_type": "code",
   "execution_count": 709,
   "id": "13a74dce",
   "metadata": {},
   "outputs": [
    {
     "name": "stdout",
     "output_type": "stream",
     "text": [
      "The number of Failed Banks in Chicago only from 13-Oct-00 to 12-Mar-23 according to the FDIC :  21\n"
     ]
    }
   ],
   "source": [
    "print(\"The number of Failed Banks in Chicago only from 13-Oct-00 to 12-Mar-23 according to the FDIC : \", len(df_Chicago))"
   ]
  },
  {
   "cell_type": "code",
   "execution_count": 710,
   "id": "a508e249",
   "metadata": {},
   "outputs": [],
   "source": [
    "# Dictionary or Lists (5)"
   ]
  },
  {
   "cell_type": "code",
   "execution_count": 711,
   "id": "2fe4a120",
   "metadata": {},
   "outputs": [],
   "source": [
    "# Create list of the Failed Banks in Chicago Only"
   ]
  },
  {
   "cell_type": "code",
   "execution_count": 712,
   "id": "6d5c46b1",
   "metadata": {},
   "outputs": [
    {
     "data": {
      "text/plain": [
       "['Washington Federal Bank for Savings',\n",
       " 'Seaway Bank and Trust Company',\n",
       " 'Edgebrook Bank',\n",
       " 'Highland Community Bank',\n",
       " 'The National Republic Bank of Chicago',\n",
       " 'GreenChoice Bank, fsb',\n",
       " 'DuPage National Bank',\n",
       " 'Covenant Bank',\n",
       " 'Second Federal Savings and Loan Association of Chicago',\n",
       " 'New City Bank',\n",
       " 'First Chicago Bank & Trust',\n",
       " 'Community First Bank Chicago',\n",
       " 'ShoreBank',\n",
       " 'Ravenswood Bank',\n",
       " 'Lincoln Park Savings Bank',\n",
       " 'New Century Bank',\n",
       " 'Citizens Bank and Trust Company of Chicago',\n",
       " 'Broadway Bank',\n",
       " 'Park National Bank',\n",
       " 'Corus Bank, N.A.',\n",
       " 'Universal Federal Savings Bank']"
      ]
     },
     "execution_count": 712,
     "metadata": {},
     "output_type": "execute_result"
    }
   ],
   "source": [
    "df_Chicago['Bank Name�'].tolist()"
   ]
  },
  {
   "cell_type": "code",
   "execution_count": null,
   "id": "58198084",
   "metadata": {},
   "outputs": [],
   "source": []
  },
  {
   "cell_type": "code",
   "execution_count": 713,
   "id": "ffc8d0c0",
   "metadata": {},
   "outputs": [],
   "source": [
    "# Make use of iterators (5)"
   ]
  },
  {
   "cell_type": "code",
   "execution_count": 714,
   "id": "b249f86b",
   "metadata": {},
   "outputs": [],
   "source": [
    "# Identify & print list of Bank Failures each Year "
   ]
  },
  {
   "cell_type": "code",
   "execution_count": 715,
   "id": "48f2657c",
   "metadata": {
    "scrolled": true
   },
   "outputs": [
    {
     "name": "stdout",
     "output_type": "stream",
     "text": [
      "Failures  Year\n",
      "2\t 2000\n",
      "4\t 2001\n",
      "11\t 2002\n",
      "3\t 2003\n",
      "4\t 2004\n",
      "0\t 2005\n",
      "0\t 2006\n",
      "3\t 2007\n",
      "25\t 2008\n",
      "140\t 2009\n",
      "157\t 2010\n",
      "92\t 2011\n",
      "51\t 2012\n",
      "24\t 2013\n",
      "18\t 2014\n",
      "8\t 2015\n",
      "5\t 2016\n",
      "8\t 2017\n",
      "0\t 2018\n",
      "4\t 2019\n",
      "4\t 2020\n",
      "0\t 2021\n",
      "0\t 2022\n",
      "2\t 2023\n"
     ]
    }
   ],
   "source": [
    "a = ['2', '4', '11', '3', '4', '0', '0', '3', '25', '140', '157', '92', '51', '24', '18', '8', '5', '8', '0', '4', '4', '0', '0', '2'] \n",
    "b  = ['2000', '2001', '2002', '2003', '2004', '2005', '2006', '2007', '2008', '2009', '2010', '2011', '2012', '2013', '2014', '2015', '2016', '2017', '2018', '2019', '2020', '2021', '2022', '2023'] \n",
    " \n",
    "print(\"Failures  Year\")\n",
    "\n",
    "for i in range(len(a)):\n",
    "    print(a[i] + '\\t ' + b[i])\n",
    "    \n"
   ]
  },
  {
   "cell_type": "code",
   "execution_count": null,
   "id": "e577ec08",
   "metadata": {},
   "outputs": [],
   "source": []
  },
  {
   "cell_type": "code",
   "execution_count": 648,
   "id": "223c6262",
   "metadata": {},
   "outputs": [
    {
     "name": "stdout",
     "output_type": "stream",
     "text": [
      "10\n",
      "50\n",
      "75\n",
      "83\n",
      "98\n",
      "84\n",
      "32\n"
     ]
    }
   ],
   "source": [
    "a = ['2', '4', '11', '3', '4', '0', '0', '3', '25', '140', '157', '92', '51', '24', '18', '8', '5', '8', '0', '4', '4', '0', '0', '2'] \n",
    " \n",
    "x = 0\n",
    " \n",
    "# Iterating using while loop \n",
    "while x < len(lst): \n",
    "    print(lst[x]) \n",
    "    x = x+1"
   ]
  },
  {
   "cell_type": "code",
   "execution_count": null,
   "id": "9f8a4ce9",
   "metadata": {},
   "outputs": [],
   "source": []
  },
  {
   "cell_type": "code",
   "execution_count": 153,
   "id": "cfd761b3",
   "metadata": {},
   "outputs": [],
   "source": []
  },
  {
   "cell_type": "code",
   "execution_count": null,
   "id": "4c55b73e",
   "metadata": {},
   "outputs": [],
   "source": []
  },
  {
   "cell_type": "code",
   "execution_count": null,
   "id": "350ac51d",
   "metadata": {},
   "outputs": [],
   "source": []
  },
  {
   "cell_type": "code",
   "execution_count": null,
   "id": "5239e3dc",
   "metadata": {},
   "outputs": [],
   "source": [
    "# Merge DataFrames (5)"
   ]
  },
  {
   "cell_type": "code",
   "execution_count": null,
   "id": "a31c6507",
   "metadata": {},
   "outputs": [],
   "source": []
  },
  {
   "cell_type": "code",
   "execution_count": 159,
   "id": "406da147",
   "metadata": {},
   "outputs": [],
   "source": []
  },
  {
   "cell_type": "code",
   "execution_count": null,
   "id": "2b0a6b44",
   "metadata": {},
   "outputs": [],
   "source": []
  },
  {
   "cell_type": "code",
   "execution_count": null,
   "id": "7c16c337",
   "metadata": {},
   "outputs": [],
   "source": []
  },
  {
   "cell_type": "code",
   "execution_count": null,
   "id": "7fe34845",
   "metadata": {},
   "outputs": [],
   "source": []
  },
  {
   "cell_type": "code",
   "execution_count": null,
   "id": "fa596781",
   "metadata": {},
   "outputs": [],
   "source": []
  },
  {
   "cell_type": "code",
   "execution_count": null,
   "id": "4ccd74ce",
   "metadata": {},
   "outputs": [],
   "source": []
  },
  {
   "cell_type": "code",
   "execution_count": null,
   "id": "15907f0c",
   "metadata": {},
   "outputs": [],
   "source": []
  },
  {
   "cell_type": "code",
   "execution_count": null,
   "id": "4005775f",
   "metadata": {},
   "outputs": [],
   "source": []
  },
  {
   "cell_type": "code",
   "execution_count": null,
   "id": "31fbc500",
   "metadata": {},
   "outputs": [],
   "source": []
  },
  {
   "cell_type": "code",
   "execution_count": null,
   "id": "b0e50883",
   "metadata": {},
   "outputs": [],
   "source": []
  },
  {
   "cell_type": "code",
   "execution_count": null,
   "id": "7d583fa4",
   "metadata": {},
   "outputs": [],
   "source": []
  },
  {
   "cell_type": "code",
   "execution_count": null,
   "id": "ab05a87c",
   "metadata": {},
   "outputs": [],
   "source": []
  },
  {
   "cell_type": "code",
   "execution_count": null,
   "id": "50d393d5",
   "metadata": {},
   "outputs": [],
   "source": [
    "# Define a custom function to create reusable code (5)"
   ]
  },
  {
   "cell_type": "code",
   "execution_count": null,
   "id": "18ba9268",
   "metadata": {},
   "outputs": [],
   "source": []
  },
  {
   "cell_type": "code",
   "execution_count": null,
   "id": "5c15fb81",
   "metadata": {},
   "outputs": [],
   "source": []
  },
  {
   "cell_type": "code",
   "execution_count": null,
   "id": "5ec91c32",
   "metadata": {},
   "outputs": [],
   "source": []
  },
  {
   "cell_type": "code",
   "execution_count": null,
   "id": "89ee16dc",
   "metadata": {},
   "outputs": [],
   "source": []
  },
  {
   "cell_type": "code",
   "execution_count": 469,
   "id": "672b0836",
   "metadata": {},
   "outputs": [],
   "source": [
    "# NumPy (5)"
   ]
  },
  {
   "cell_type": "code",
   "execution_count": 470,
   "id": "2a1e2f90",
   "metadata": {},
   "outputs": [
    {
     "name": "stdout",
     "output_type": "stream",
     "text": [
      "0\n",
      "1\n",
      "2\n",
      "3\n",
      "4\n",
      "5\n",
      "6\n",
      "7\n",
      "8\n",
      "9\n",
      "10\n",
      "11\n",
      "12\n",
      "13\n",
      "14\n",
      "15\n",
      "16\n",
      "17\n",
      "18\n",
      "19\n",
      "20\n"
     ]
    }
   ],
   "source": [
    "import numpy as np\n",
    " \n",
    "n = np.arange(21)\n",
    " \n",
    "  \n",
    "for x in np.nditer(n): \n",
    "    print(x) "
   ]
  },
  {
   "cell_type": "code",
   "execution_count": null,
   "id": "4d9940e3",
   "metadata": {},
   "outputs": [],
   "source": []
  },
  {
   "cell_type": "code",
   "execution_count": null,
   "id": "ad378b2f",
   "metadata": {},
   "outputs": [],
   "source": []
  },
  {
   "cell_type": "code",
   "execution_count": null,
   "id": "f9d5b386",
   "metadata": {},
   "outputs": [],
   "source": []
  },
  {
   "cell_type": "code",
   "execution_count": 161,
   "id": "5c6424f1",
   "metadata": {},
   "outputs": [],
   "source": []
  },
  {
   "cell_type": "code",
   "execution_count": null,
   "id": "cd3437a8",
   "metadata": {},
   "outputs": [],
   "source": []
  },
  {
   "cell_type": "code",
   "execution_count": null,
   "id": "85b2b5e6",
   "metadata": {},
   "outputs": [],
   "source": []
  },
  {
   "cell_type": "code",
   "execution_count": null,
   "id": "c082e03d",
   "metadata": {},
   "outputs": [],
   "source": []
  },
  {
   "cell_type": "code",
   "execution_count": null,
   "id": "60b79a0a",
   "metadata": {},
   "outputs": [],
   "source": []
  },
  {
   "cell_type": "code",
   "execution_count": null,
   "id": "0c029c1a",
   "metadata": {},
   "outputs": [],
   "source": []
  },
  {
   "cell_type": "code",
   "execution_count": null,
   "id": "39704656",
   "metadata": {},
   "outputs": [],
   "source": [
    "# Predict a target variable with Supervised or Unsupervised algorithm"
   ]
  },
  {
   "cell_type": "code",
   "execution_count": null,
   "id": "2d6a4f6c",
   "metadata": {},
   "outputs": [],
   "source": []
  },
  {
   "cell_type": "code",
   "execution_count": null,
   "id": "a491e36a",
   "metadata": {},
   "outputs": [],
   "source": []
  },
  {
   "cell_type": "code",
   "execution_count": null,
   "id": "2634454f",
   "metadata": {},
   "outputs": [],
   "source": []
  },
  {
   "cell_type": "code",
   "execution_count": null,
   "id": "8d55d62b",
   "metadata": {},
   "outputs": [],
   "source": []
  },
  {
   "cell_type": "code",
   "execution_count": null,
   "id": "4446a53f",
   "metadata": {},
   "outputs": [],
   "source": [
    "# Perform hyper parameter tuning or boosting, relevant to your model. Make justification if not relevant. "
   ]
  },
  {
   "cell_type": "code",
   "execution_count": null,
   "id": "ecc18b7b",
   "metadata": {},
   "outputs": [],
   "source": []
  },
  {
   "cell_type": "code",
   "execution_count": null,
   "id": "89f88814",
   "metadata": {},
   "outputs": [],
   "source": []
  },
  {
   "cell_type": "code",
   "execution_count": null,
   "id": "c9b4955c",
   "metadata": {},
   "outputs": [],
   "source": []
  },
  {
   "cell_type": "code",
   "execution_count": 451,
   "id": "2acfe9ed",
   "metadata": {},
   "outputs": [],
   "source": [
    "# Present two charts with Seaborn or Matplotlib (10)"
   ]
  },
  {
   "cell_type": "code",
   "execution_count": 452,
   "id": "1c79a470",
   "metadata": {},
   "outputs": [
    {
     "data": {
      "image/png": "[encoded data removed]",
      "text/plain": [
       "<Figure size 432x288 with 1 Axes>"
      ]
     },
     "metadata": {
      "needs_background": "light"
     },
     "output_type": "display_data"
    }
   ],
   "source": [
    "import matplotlib.pyplot as plt\n",
    "\n",
    "# number of bank failures \n",
    "bank_fail = [2, 4, 11, 3, 4, 0, 0, 3, 25, 140, 157, 92, 51, 24, 18, 8, 5, 8, 0, 4, 4, 0, 0, 2]\n",
    "year = [2000, 2001, 2002, 2003, 2004, 2005, 2006, 2007, 2008, 2009, 2010, 2011, 2012, 2013, 2014, 2015, 2016, 2017, 2018, 2019, 2020, 2021, 2022, 2023]\n",
    "\n",
    "# set axis titles\n",
    "plt.xlabel(\"Year\")\n",
    "plt.ylabel(\"Failures\")\n",
    "\n",
    "# set chart title\n",
    "plt.title(\"FDIC Bank Failures 2000 - 2023\")\n",
    "\n",
    "# plot a line chart\n",
    "plt.plot(year, bank_fail)\n",
    "plt.show()"
   ]
  },
  {
   "cell_type": "code",
   "execution_count": null,
   "id": "3f1df52c",
   "metadata": {},
   "outputs": [],
   "source": []
  },
  {
   "cell_type": "code",
   "execution_count": null,
   "id": "cd9c2bb4",
   "metadata": {},
   "outputs": [],
   "source": []
  },
  {
   "cell_type": "code",
   "execution_count": 460,
   "id": "9a4e7140",
   "metadata": {},
   "outputs": [
    {
     "data": {
      "text/plain": [
       "<seaborn.axisgrid.FacetGrid at 0x17b57c8fee0>"
      ]
     },
     "execution_count": 460,
     "metadata": {},
     "output_type": "execute_result"
    },
    {
     "data": {
      "image/png": "[encoded data removed]",
      "text/plain": [
       "<Figure size 777.475x360 with 2 Axes>"
      ]
     },
     "metadata": {},
     "output_type": "display_data"
    }
   ],
   "source": [
    "# Import seaborn\n",
    "import seaborn as sns\n",
    "\n",
    "# Apply the default theme\n",
    "sns.set_theme()\n",
    "\n",
    "# Load an example dataset\n",
    "tips = sns.load_dataset(\"tips\")\n",
    "\n",
    "# Create a visualization\n",
    "sns.relplot(\n",
    "    data=tips,\n",
    "    x=\"total_bill\", y=\"tip\", col=\"time\",\n",
    "    hue=\"smoker\", style=\"smoker\", size=\"size\",\n",
    ")"
   ]
  },
  {
   "cell_type": "code",
   "execution_count": null,
   "id": "f4099c25",
   "metadata": {},
   "outputs": [],
   "source": []
  },
  {
   "cell_type": "code",
   "execution_count": null,
   "id": "25d07658",
   "metadata": {},
   "outputs": [],
   "source": []
  },
  {
   "cell_type": "code",
   "execution_count": null,
   "id": "f8df1afb",
   "metadata": {},
   "outputs": [],
   "source": []
  },
  {
   "cell_type": "code",
   "execution_count": null,
   "id": "67b1e83d",
   "metadata": {},
   "outputs": [],
   "source": []
  },
  {
   "cell_type": "code",
   "execution_count": null,
   "id": "d70f006f",
   "metadata": {},
   "outputs": [],
   "source": [
    "# 5 insights from the project (10)"
   ]
  },
  {
   "cell_type": "code",
   "execution_count": null,
   "id": "e1863de2",
   "metadata": {},
   "outputs": [],
   "source": [
    "#1. 564 Bank failures occured in the USA from 13-Oct-00 to 12-Mar-23.\n",
    "#2. The City/Location with the most failures overall in total is Chicago with 21.\n",
    "#3.  \n",
    "#4.   \n",
    "#5. "
   ]
  }
 ],
 "metadata": {
  "kernelspec": {
   "display_name": "Python 3",
   "language": "python",
   "name": "python3"
  },
  "language_info": {
   "codemirror_mode": {
    "name": "ipython",
    "version": 3
   },
   "file_extension": ".py",
   "mimetype": "text/x-python",
   "name": "python",
   "nbconvert_exporter": "python",
   "pygments_lexer": "ipython3",
   "version": "3.8.8"
  }
 },
 "nbformat": 4,
 "nbformat_minor": 5
}
