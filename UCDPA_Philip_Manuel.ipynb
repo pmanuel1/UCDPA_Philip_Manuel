{
 "cells": [
  {
   "cell_type": "code",
   "execution_count": null,
   "id": "bb9cce74",
   "metadata": {},
   "outputs": [],
   "source": [
    "#import some neccessary modules "
   ]
  },
  {
   "cell_type": "code",
   "execution_count": null,
   "id": "c9d9443d",
   "metadata": {},
   "outputs": [],
   "source": [
    "import pandas as pd"
   ]
  },
  {
   "cell_type": "code",
   "execution_count": null,
   "id": "7526f5f9",
   "metadata": {},
   "outputs": [],
   "source": [
    "import numpy as np"
   ]
  },
  {
   "cell_type": "code",
   "execution_count": null,
   "id": "73be93a8",
   "metadata": {},
   "outputs": [],
   "source": [
    "import seaborn as sns"
   ]
  },
  {
   "cell_type": "code",
   "execution_count": null,
   "id": "a66444cd",
   "metadata": {},
   "outputs": [],
   "source": [
    "import matplotlib.pyplot as plt"
   ]
  },
  {
   "cell_type": "code",
   "execution_count": null,
   "id": "1291c59f",
   "metadata": {},
   "outputs": [],
   "source": []
  },
  {
   "cell_type": "code",
   "execution_count": null,
   "id": "d9debb66",
   "metadata": {},
   "outputs": [],
   "source": [
    "#The project should use a real-world dataset and include a reference of their source in the report (5)"
   ]
  },
  {
   "cell_type": "code",
   "execution_count": null,
   "id": "700b5d9c",
   "metadata": {},
   "outputs": [],
   "source": []
  },
  {
   "cell_type": "code",
   "execution_count": null,
   "id": "a99a2243",
   "metadata": {},
   "outputs": [],
   "source": [
    "#Your project should make use of one or more of the following: Relational database, API or web scraping (10)"
   ]
  },
  {
   "cell_type": "code",
   "execution_count": null,
   "id": "14af850a",
   "metadata": {},
   "outputs": [],
   "source": []
  },
  {
   "cell_type": "code",
   "execution_count": null,
   "id": "3251a3ed",
   "metadata": {},
   "outputs": [],
   "source": [
    "#Import a CSV file into a Pandas DataFrame (10)"
   ]
  },
  {
   "cell_type": "code",
   "execution_count": null,
   "id": "402280d4",
   "metadata": {},
   "outputs": [],
   "source": []
  },
  {
   "cell_type": "code",
   "execution_count": null,
   "id": "1613525b",
   "metadata": {},
   "outputs": [],
   "source": [
    "#Your project should use Regex to extract a pattern in data (10)"
   ]
  },
  {
   "cell_type": "code",
   "execution_count": null,
   "id": "6c53e06b",
   "metadata": {},
   "outputs": [],
   "source": [
    "#Replace missing values or drop duplicates (10)"
   ]
  },
  {
   "cell_type": "code",
   "execution_count": null,
   "id": "6d5c46b1",
   "metadata": {},
   "outputs": [],
   "source": [
    "#Make use of iterators (5)"
   ]
  },
  {
   "cell_type": "code",
   "execution_count": null,
   "id": "4005775f",
   "metadata": {},
   "outputs": [],
   "source": [
    "#Merge DataFrames (5)"
   ]
  },
  {
   "cell_type": "code",
   "execution_count": null,
   "id": "31fbc500",
   "metadata": {},
   "outputs": [],
   "source": []
  },
  {
   "cell_type": "code",
   "execution_count": null,
   "id": "50d393d5",
   "metadata": {},
   "outputs": [],
   "source": [
    "#Define a custom function to create reusable code (5)"
   ]
  },
  {
   "cell_type": "code",
   "execution_count": null,
   "id": "672b0836",
   "metadata": {},
   "outputs": [],
   "source": [
    "#NumPy (5)"
   ]
  },
  {
   "cell_type": "code",
   "execution_count": null,
   "id": "5c6424f1",
   "metadata": {},
   "outputs": [],
   "source": [
    "#Dictionary or Lists (5)"
   ]
  },
  {
   "cell_type": "code",
   "execution_count": null,
   "id": "cd3437a8",
   "metadata": {},
   "outputs": [],
   "source": []
  },
  {
   "cell_type": "code",
   "execution_count": null,
   "id": "39704656",
   "metadata": {},
   "outputs": [],
   "source": [
    "#Predict a target variable with Supervised or Unsupervised algorithm"
   ]
  },
  {
   "cell_type": "code",
   "execution_count": null,
   "id": "4446a53f",
   "metadata": {},
   "outputs": [],
   "source": [
    "#Perform hyper parameter tuning or boosting, whichever is relevant to your model. If it is not relevant, justify that in your report and Python comments"
   ]
  },
  {
   "cell_type": "code",
   "execution_count": null,
   "id": "ecc18b7b",
   "metadata": {},
   "outputs": [],
   "source": []
  },
  {
   "cell_type": "code",
   "execution_count": null,
   "id": "2acfe9ed",
   "metadata": {},
   "outputs": [],
   "source": [
    "#Present two charts with Seaborn or Matplotlib (10)"
   ]
  },
  {
   "cell_type": "code",
   "execution_count": null,
   "id": "6aec858e",
   "metadata": {},
   "outputs": [],
   "source": []
  },
  {
   "cell_type": "code",
   "execution_count": null,
   "id": "d70f006f",
   "metadata": {},
   "outputs": [],
   "source": [
    "# 5 insights from the project (10)"
   ]
  }
 ],
 "metadata": {
  "kernelspec": {
   "display_name": "Python 3",
   "language": "python",
   "name": "python3"
  },
  "language_info": {
   "codemirror_mode": {
    "name": "ipython",
    "version": 3
   },
   "file_extension": ".py",
   "mimetype": "text/x-python",
   "name": "python",
   "nbconvert_exporter": "python",
   "pygments_lexer": "ipython3",
   "version": "3.8.8"
  }
 },
 "nbformat": 4,
 "nbformat_minor": 5
}
