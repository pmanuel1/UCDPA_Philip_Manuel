{
 "cells": [
  {
   "cell_type": "code",
   "execution_count": null,
   "id": "cdcef1a3",
   "metadata": {},
   "outputs": [],
   "source": [
    "# The project should use a real-world dataset and include a reference of their source in the report (5)"
   ]
  },
  {
   "cell_type": "code",
   "execution_count": null,
   "id": "35acbb20",
   "metadata": {},
   "outputs": [],
   "source": [
    "# The FDIC Failed Bank List from 2000 - 2023"
   ]
  },
  {
   "cell_type": "code",
   "execution_count": null,
   "id": "10588ead",
   "metadata": {},
   "outputs": [],
   "source": [
    "# https://www.kaggle.com/datasets/usamabuttar/fdic-failed-bank-list"
   ]
  },
  {
   "cell_type": "code",
   "execution_count": null,
   "id": "fcb70fde",
   "metadata": {},
   "outputs": [],
   "source": [
    "# The OECD Unemployment Data from from 2000 - 2023"
   ]
  },
  {
   "cell_type": "code",
   "execution_count": null,
   "id": "40188fce",
   "metadata": {},
   "outputs": [],
   "source": [
    "# https://data.oecd.org/unemp/unemployment-rate.htm"
   ]
  },
  {
   "cell_type": "code",
   "execution_count": null,
   "id": "d1735f18",
   "metadata": {},
   "outputs": [],
   "source": []
  },
  {
   "cell_type": "code",
   "execution_count": null,
   "id": "62143af3",
   "metadata": {},
   "outputs": [],
   "source": []
  },
  {
   "cell_type": "code",
   "execution_count": 1,
   "id": "d111dd82",
   "metadata": {},
   "outputs": [],
   "source": [
    "# import the neccessary modules"
   ]
  },
  {
   "cell_type": "code",
   "execution_count": 2,
   "id": "80ba16ad",
   "metadata": {},
   "outputs": [],
   "source": [
    "import pandas as pd"
   ]
  },
  {
   "cell_type": "code",
   "execution_count": 3,
   "id": "74844b04",
   "metadata": {},
   "outputs": [],
   "source": [
    "import numpy as np"
   ]
  },
  {
   "cell_type": "code",
   "execution_count": 4,
   "id": "06229ad0",
   "metadata": {},
   "outputs": [],
   "source": [
    "import requests"
   ]
  },
  {
   "cell_type": "code",
   "execution_count": 5,
   "id": "c4a7dd78",
   "metadata": {},
   "outputs": [],
   "source": [
    "import json"
   ]
  },
  {
   "cell_type": "code",
   "execution_count": 6,
   "id": "1e234079",
   "metadata": {},
   "outputs": [],
   "source": [
    "import re"
   ]
  },
  {
   "cell_type": "code",
   "execution_count": null,
   "id": "18364400",
   "metadata": {},
   "outputs": [],
   "source": []
  },
  {
   "cell_type": "code",
   "execution_count": 7,
   "id": "fce03a22",
   "metadata": {},
   "outputs": [],
   "source": [
    "# Your project should make use of one or more of the following: Relational database, API or web scraping (10)"
   ]
  },
  {
   "cell_type": "code",
   "execution_count": 8,
   "id": "b0434e96",
   "metadata": {},
   "outputs": [],
   "source": [
    "# Use Kaggle API "
   ]
  },
  {
   "cell_type": "code",
   "execution_count": 9,
   "id": "90e30dae",
   "metadata": {},
   "outputs": [],
   "source": [
    "# pip install kaggle (already installed/satisifed so not run in this code)"
   ]
  },
  {
   "cell_type": "code",
   "execution_count": 10,
   "id": "a627a618",
   "metadata": {},
   "outputs": [],
   "source": [
    "import kaggle"
   ]
  },
  {
   "cell_type": "code",
   "execution_count": 11,
   "id": "9f6095a0",
   "metadata": {},
   "outputs": [],
   "source": [
    "from kaggle.api.kaggle_api_extended import KaggleApi\n",
    "api = KaggleApi()\n",
    "api.authenticate()"
   ]
  },
  {
   "cell_type": "code",
   "execution_count": 12,
   "id": "e5026867",
   "metadata": {},
   "outputs": [
    {
     "data": {
      "text/plain": [
       "True"
      ]
     },
     "execution_count": 12,
     "metadata": {},
     "output_type": "execute_result"
    }
   ],
   "source": [
    "api.dataset_download_file('usamabuttar/fdic-failed-bank-list',\n",
    "                          file_name='Failed_Bank_List.csv',\n",
    "                          path='./')"
   ]
  },
  {
   "cell_type": "code",
   "execution_count": null,
   "id": "a814398f",
   "metadata": {},
   "outputs": [],
   "source": [
    "# There can be a need to unzip an imported Kaggle File but not in this instance"
   ]
  },
  {
   "cell_type": "code",
   "execution_count": null,
   "id": "ee690f7f",
   "metadata": {},
   "outputs": [],
   "source": []
  },
  {
   "cell_type": "code",
   "execution_count": 13,
   "id": "cebd8f39",
   "metadata": {},
   "outputs": [],
   "source": [
    "# Import this CSV file into a Pandas DataFrame (10)"
   ]
  },
  {
   "cell_type": "code",
   "execution_count": 47,
   "id": "d0e80db1",
   "metadata": {},
   "outputs": [],
   "source": [
    "# Failed Bank Data 2000 - 2023"
   ]
  },
  {
   "cell_type": "code",
   "execution_count": 48,
   "id": "9a3950ba",
   "metadata": {},
   "outputs": [],
   "source": [
    "df = pd.read_csv(\"Failed_Bank_List.csv\")"
   ]
  },
  {
   "cell_type": "code",
   "execution_count": null,
   "id": "9227fa98",
   "metadata": {},
   "outputs": [],
   "source": []
  },
  {
   "cell_type": "code",
   "execution_count": null,
   "id": "f48ecce6",
   "metadata": {},
   "outputs": [],
   "source": [
    "# Replace missing values or drop duplicates (10)"
   ]
  },
  {
   "cell_type": "code",
   "execution_count": 49,
   "id": "12718e2d",
   "metadata": {},
   "outputs": [],
   "source": [
    "# Remove rows with Null Values Failed Bank Data 2000 - 2023"
   ]
  },
  {
   "cell_type": "code",
   "execution_count": 50,
   "id": "05312026",
   "metadata": {},
   "outputs": [
    {
     "data": {
      "text/html": [
       "<div>\n",
       "<style scoped>\n",
       "    .dataframe tbody tr th:only-of-type {\n",
       "        vertical-align: middle;\n",
       "    }\n",
       "\n",
       "    .dataframe tbody tr th {\n",
       "        vertical-align: top;\n",
       "    }\n",
       "\n",
       "    .dataframe thead th {\n",
       "        text-align: right;\n",
       "    }\n",
       "</style>\n",
       "<table border=\"1\" class=\"dataframe\">\n",
       "  <thead>\n",
       "    <tr style=\"text-align: right;\">\n",
       "      <th></th>\n",
       "      <th>Bank Name�</th>\n",
       "      <th>City�</th>\n",
       "      <th>State�</th>\n",
       "      <th>Cert�</th>\n",
       "      <th>Acquiring Institution�</th>\n",
       "      <th>Closing Date�</th>\n",
       "      <th>Fund</th>\n",
       "    </tr>\n",
       "  </thead>\n",
       "  <tbody>\n",
       "    <tr>\n",
       "      <th>0</th>\n",
       "      <td>Signature Bank</td>\n",
       "      <td>New York</td>\n",
       "      <td>NY</td>\n",
       "      <td>57053</td>\n",
       "      <td>Flagstar Bank, N.A.</td>\n",
       "      <td>12-Mar-23</td>\n",
       "      <td>10540</td>\n",
       "    </tr>\n",
       "    <tr>\n",
       "      <th>1</th>\n",
       "      <td>Silicon Valley Bank</td>\n",
       "      <td>Santa Clara</td>\n",
       "      <td>CA</td>\n",
       "      <td>24735</td>\n",
       "      <td>Silicon Valley Bridge Bank, N.A.</td>\n",
       "      <td>10-Mar-23</td>\n",
       "      <td>10539</td>\n",
       "    </tr>\n",
       "    <tr>\n",
       "      <th>2</th>\n",
       "      <td>Almena State Bank</td>\n",
       "      <td>Almena</td>\n",
       "      <td>KS</td>\n",
       "      <td>15426</td>\n",
       "      <td>Equity Bank</td>\n",
       "      <td>23-Oct-20</td>\n",
       "      <td>10538</td>\n",
       "    </tr>\n",
       "    <tr>\n",
       "      <th>3</th>\n",
       "      <td>First City Bank of Florida</td>\n",
       "      <td>Fort Walton Beach</td>\n",
       "      <td>FL</td>\n",
       "      <td>16748</td>\n",
       "      <td>United Fidelity Bank, fsb</td>\n",
       "      <td>16-Oct-20</td>\n",
       "      <td>10537</td>\n",
       "    </tr>\n",
       "    <tr>\n",
       "      <th>4</th>\n",
       "      <td>The First State Bank</td>\n",
       "      <td>Barboursville</td>\n",
       "      <td>WV</td>\n",
       "      <td>14361</td>\n",
       "      <td>MVB Bank, Inc.</td>\n",
       "      <td>3-Apr-20</td>\n",
       "      <td>10536</td>\n",
       "    </tr>\n",
       "    <tr>\n",
       "      <th>...</th>\n",
       "      <td>...</td>\n",
       "      <td>...</td>\n",
       "      <td>...</td>\n",
       "      <td>...</td>\n",
       "      <td>...</td>\n",
       "      <td>...</td>\n",
       "      <td>...</td>\n",
       "    </tr>\n",
       "    <tr>\n",
       "      <th>560</th>\n",
       "      <td>Superior Bank, FSB</td>\n",
       "      <td>Hinsdale</td>\n",
       "      <td>IL</td>\n",
       "      <td>32646</td>\n",
       "      <td>Superior Federal, FSB</td>\n",
       "      <td>27-Jul-01</td>\n",
       "      <td>6004</td>\n",
       "    </tr>\n",
       "    <tr>\n",
       "      <th>561</th>\n",
       "      <td>Malta National Bank</td>\n",
       "      <td>Malta</td>\n",
       "      <td>OH</td>\n",
       "      <td>6629</td>\n",
       "      <td>North Valley Bank</td>\n",
       "      <td>3-May-01</td>\n",
       "      <td>4648</td>\n",
       "    </tr>\n",
       "    <tr>\n",
       "      <th>562</th>\n",
       "      <td>First Alliance Bank &amp; Trust Co.</td>\n",
       "      <td>Manchester</td>\n",
       "      <td>NH</td>\n",
       "      <td>34264</td>\n",
       "      <td>Southern New Hampshire Bank &amp; Trust</td>\n",
       "      <td>2-Feb-01</td>\n",
       "      <td>4647</td>\n",
       "    </tr>\n",
       "    <tr>\n",
       "      <th>563</th>\n",
       "      <td>National State Bank of Metropolis</td>\n",
       "      <td>Metropolis</td>\n",
       "      <td>IL</td>\n",
       "      <td>3815</td>\n",
       "      <td>Banterra Bank of Marion</td>\n",
       "      <td>14-Dec-00</td>\n",
       "      <td>4646</td>\n",
       "    </tr>\n",
       "    <tr>\n",
       "      <th>564</th>\n",
       "      <td>Bank of Honolulu</td>\n",
       "      <td>Honolulu</td>\n",
       "      <td>HI</td>\n",
       "      <td>21029</td>\n",
       "      <td>Bank of the Orient</td>\n",
       "      <td>13-Oct-00</td>\n",
       "      <td>4645</td>\n",
       "    </tr>\n",
       "  </tbody>\n",
       "</table>\n",
       "<p>565 rows × 7 columns</p>\n",
       "</div>"
      ],
      "text/plain": [
       "                            Bank Name�              City� State�  Cert�  \\\n",
       "0                       Signature Bank           New York     NY  57053   \n",
       "1                  Silicon Valley Bank        Santa Clara     CA  24735   \n",
       "2                    Almena State Bank             Almena     KS  15426   \n",
       "3           First City Bank of Florida  Fort Walton Beach     FL  16748   \n",
       "4                 The First State Bank      Barboursville     WV  14361   \n",
       "..                                 ...                ...    ...    ...   \n",
       "560                 Superior Bank, FSB           Hinsdale     IL  32646   \n",
       "561                Malta National Bank              Malta     OH   6629   \n",
       "562    First Alliance Bank & Trust Co.         Manchester     NH  34264   \n",
       "563  National State Bank of Metropolis         Metropolis     IL   3815   \n",
       "564                   Bank of Honolulu           Honolulu     HI  21029   \n",
       "\n",
       "                  Acquiring Institution� Closing Date�   Fund  \n",
       "0                    Flagstar Bank, N.A.     12-Mar-23  10540  \n",
       "1       Silicon Valley Bridge Bank, N.A.     10-Mar-23  10539  \n",
       "2                            Equity Bank     23-Oct-20  10538  \n",
       "3              United Fidelity Bank, fsb     16-Oct-20  10537  \n",
       "4                         MVB Bank, Inc.      3-Apr-20  10536  \n",
       "..                                   ...           ...    ...  \n",
       "560                Superior Federal, FSB     27-Jul-01   6004  \n",
       "561                    North Valley Bank      3-May-01   4648  \n",
       "562  Southern New Hampshire Bank & Trust      2-Feb-01   4647  \n",
       "563              Banterra Bank of Marion     14-Dec-00   4646  \n",
       "564                   Bank of the Orient     13-Oct-00   4645  \n",
       "\n",
       "[565 rows x 7 columns]"
      ]
     },
     "execution_count": 50,
     "metadata": {},
     "output_type": "execute_result"
    }
   ],
   "source": [
    "df.dropna()"
   ]
  },
  {
   "cell_type": "code",
   "execution_count": 51,
   "id": "a26f3a57",
   "metadata": {},
   "outputs": [
    {
     "name": "stdout",
     "output_type": "stream",
     "text": [
      "The number of Failed Banks in the USA according to the FDIC between 13-Oct-00 and 12-Mar-23 is :  564\n"
     ]
    }
   ],
   "source": [
    "print(\"The number of Failed Banks in the USA according to the FDIC between 13-Oct-00 and 12-Mar-23 is : \", len(Failed_Banks.index)-1)"
   ]
  },
  {
   "cell_type": "code",
   "execution_count": 52,
   "id": "beb0dbe5",
   "metadata": {},
   "outputs": [],
   "source": [
    "# Drop the State� column from the Dataframe"
   ]
  },
  {
   "cell_type": "code",
   "execution_count": 53,
   "id": "a1f68053",
   "metadata": {},
   "outputs": [
    {
     "data": {
      "text/html": [
       "<div>\n",
       "<style scoped>\n",
       "    .dataframe tbody tr th:only-of-type {\n",
       "        vertical-align: middle;\n",
       "    }\n",
       "\n",
       "    .dataframe tbody tr th {\n",
       "        vertical-align: top;\n",
       "    }\n",
       "\n",
       "    .dataframe thead th {\n",
       "        text-align: right;\n",
       "    }\n",
       "</style>\n",
       "<table border=\"1\" class=\"dataframe\">\n",
       "  <thead>\n",
       "    <tr style=\"text-align: right;\">\n",
       "      <th></th>\n",
       "      <th>Bank Name�</th>\n",
       "      <th>City�</th>\n",
       "      <th>Cert�</th>\n",
       "      <th>Acquiring Institution�</th>\n",
       "      <th>Closing Date�</th>\n",
       "      <th>Fund</th>\n",
       "    </tr>\n",
       "  </thead>\n",
       "  <tbody>\n",
       "    <tr>\n",
       "      <th>0</th>\n",
       "      <td>Signature Bank</td>\n",
       "      <td>New York</td>\n",
       "      <td>57053</td>\n",
       "      <td>Flagstar Bank, N.A.</td>\n",
       "      <td>12-Mar-23</td>\n",
       "      <td>10540</td>\n",
       "    </tr>\n",
       "    <tr>\n",
       "      <th>1</th>\n",
       "      <td>Silicon Valley Bank</td>\n",
       "      <td>Santa Clara</td>\n",
       "      <td>24735</td>\n",
       "      <td>Silicon Valley Bridge Bank, N.A.</td>\n",
       "      <td>10-Mar-23</td>\n",
       "      <td>10539</td>\n",
       "    </tr>\n",
       "    <tr>\n",
       "      <th>2</th>\n",
       "      <td>Almena State Bank</td>\n",
       "      <td>Almena</td>\n",
       "      <td>15426</td>\n",
       "      <td>Equity Bank</td>\n",
       "      <td>23-Oct-20</td>\n",
       "      <td>10538</td>\n",
       "    </tr>\n",
       "    <tr>\n",
       "      <th>3</th>\n",
       "      <td>First City Bank of Florida</td>\n",
       "      <td>Fort Walton Beach</td>\n",
       "      <td>16748</td>\n",
       "      <td>United Fidelity Bank, fsb</td>\n",
       "      <td>16-Oct-20</td>\n",
       "      <td>10537</td>\n",
       "    </tr>\n",
       "    <tr>\n",
       "      <th>4</th>\n",
       "      <td>The First State Bank</td>\n",
       "      <td>Barboursville</td>\n",
       "      <td>14361</td>\n",
       "      <td>MVB Bank, Inc.</td>\n",
       "      <td>3-Apr-20</td>\n",
       "      <td>10536</td>\n",
       "    </tr>\n",
       "    <tr>\n",
       "      <th>...</th>\n",
       "      <td>...</td>\n",
       "      <td>...</td>\n",
       "      <td>...</td>\n",
       "      <td>...</td>\n",
       "      <td>...</td>\n",
       "      <td>...</td>\n",
       "    </tr>\n",
       "    <tr>\n",
       "      <th>560</th>\n",
       "      <td>Superior Bank, FSB</td>\n",
       "      <td>Hinsdale</td>\n",
       "      <td>32646</td>\n",
       "      <td>Superior Federal, FSB</td>\n",
       "      <td>27-Jul-01</td>\n",
       "      <td>6004</td>\n",
       "    </tr>\n",
       "    <tr>\n",
       "      <th>561</th>\n",
       "      <td>Malta National Bank</td>\n",
       "      <td>Malta</td>\n",
       "      <td>6629</td>\n",
       "      <td>North Valley Bank</td>\n",
       "      <td>3-May-01</td>\n",
       "      <td>4648</td>\n",
       "    </tr>\n",
       "    <tr>\n",
       "      <th>562</th>\n",
       "      <td>First Alliance Bank &amp; Trust Co.</td>\n",
       "      <td>Manchester</td>\n",
       "      <td>34264</td>\n",
       "      <td>Southern New Hampshire Bank &amp; Trust</td>\n",
       "      <td>2-Feb-01</td>\n",
       "      <td>4647</td>\n",
       "    </tr>\n",
       "    <tr>\n",
       "      <th>563</th>\n",
       "      <td>National State Bank of Metropolis</td>\n",
       "      <td>Metropolis</td>\n",
       "      <td>3815</td>\n",
       "      <td>Banterra Bank of Marion</td>\n",
       "      <td>14-Dec-00</td>\n",
       "      <td>4646</td>\n",
       "    </tr>\n",
       "    <tr>\n",
       "      <th>564</th>\n",
       "      <td>Bank of Honolulu</td>\n",
       "      <td>Honolulu</td>\n",
       "      <td>21029</td>\n",
       "      <td>Bank of the Orient</td>\n",
       "      <td>13-Oct-00</td>\n",
       "      <td>4645</td>\n",
       "    </tr>\n",
       "  </tbody>\n",
       "</table>\n",
       "<p>565 rows × 6 columns</p>\n",
       "</div>"
      ],
      "text/plain": [
       "                            Bank Name�              City�  Cert�  \\\n",
       "0                       Signature Bank           New York  57053   \n",
       "1                  Silicon Valley Bank        Santa Clara  24735   \n",
       "2                    Almena State Bank             Almena  15426   \n",
       "3           First City Bank of Florida  Fort Walton Beach  16748   \n",
       "4                 The First State Bank      Barboursville  14361   \n",
       "..                                 ...                ...    ...   \n",
       "560                 Superior Bank, FSB           Hinsdale  32646   \n",
       "561                Malta National Bank              Malta   6629   \n",
       "562    First Alliance Bank & Trust Co.         Manchester  34264   \n",
       "563  National State Bank of Metropolis         Metropolis   3815   \n",
       "564                   Bank of Honolulu           Honolulu  21029   \n",
       "\n",
       "                  Acquiring Institution� Closing Date�   Fund  \n",
       "0                    Flagstar Bank, N.A.     12-Mar-23  10540  \n",
       "1       Silicon Valley Bridge Bank, N.A.     10-Mar-23  10539  \n",
       "2                            Equity Bank     23-Oct-20  10538  \n",
       "3              United Fidelity Bank, fsb     16-Oct-20  10537  \n",
       "4                         MVB Bank, Inc.      3-Apr-20  10536  \n",
       "..                                   ...           ...    ...  \n",
       "560                Superior Federal, FSB     27-Jul-01   6004  \n",
       "561                    North Valley Bank      3-May-01   4648  \n",
       "562  Southern New Hampshire Bank & Trust      2-Feb-01   4647  \n",
       "563              Banterra Bank of Marion     14-Dec-00   4646  \n",
       "564                   Bank of the Orient     13-Oct-00   4645  \n",
       "\n",
       "[565 rows x 6 columns]"
      ]
     },
     "execution_count": 53,
     "metadata": {},
     "output_type": "execute_result"
    }
   ],
   "source": [
    "df.drop(columns=[\"State�\"])"
   ]
  },
  {
   "cell_type": "code",
   "execution_count": 63,
   "id": "fbd3f6ab",
   "metadata": {},
   "outputs": [],
   "source": []
  },
  {
   "cell_type": "code",
   "execution_count": null,
   "id": "e863f9cf",
   "metadata": {},
   "outputs": [],
   "source": [
    "# Tried to Remove the Character � from column headers 2, 3, 4, 5, 6 but proved difficult and created error so decided not too."
   ]
  },
  {
   "cell_type": "code",
   "execution_count": 65,
   "id": "794b706b",
   "metadata": {},
   "outputs": [],
   "source": [
    "# Remove a character from all columns\n",
    "# df = pd.read_csv(\"Failed_Bank_List.csv\")\n",
    "# character_to_remove = '�'\n",
    "# df = df.applymap(lambda x: x.replace(character_to_remove, ''))\n",
    "# print(df)"
   ]
  },
  {
   "cell_type": "code",
   "execution_count": 62,
   "id": "bd4af2e9",
   "metadata": {},
   "outputs": [],
   "source": []
  },
  {
   "cell_type": "code",
   "execution_count": null,
   "id": "bfdc7d06",
   "metadata": {},
   "outputs": [],
   "source": [
    "# Understand the size, entries, datatypes, rows and columns in the Dataset"
   ]
  },
  {
   "cell_type": "code",
   "execution_count": 66,
   "id": "bc39fbca",
   "metadata": {},
   "outputs": [
    {
     "name": "stdout",
     "output_type": "stream",
     "text": [
      "<class 'pandas.core.frame.DataFrame'>\n",
      "RangeIndex: 565 entries, 0 to 564\n",
      "Data columns (total 7 columns):\n",
      " #   Column                  Non-Null Count  Dtype \n",
      "---  ------                  --------------  ----- \n",
      " 0   Bank Name�              565 non-null    object\n",
      " 1   City�                   565 non-null    object\n",
      " 2   State�                  565 non-null    object\n",
      " 3   Cert�                   565 non-null    int64 \n",
      " 4   Acquiring Institution�  565 non-null    object\n",
      " 5   Closing Date�           565 non-null    object\n",
      " 6   Fund                    565 non-null    int64 \n",
      "dtypes: int64(2), object(5)\n",
      "memory usage: 31.0+ KB\n"
     ]
    }
   ],
   "source": [
    "df.info()"
   ]
  },
  {
   "cell_type": "code",
   "execution_count": 67,
   "id": "c324a2c5",
   "metadata": {},
   "outputs": [],
   "source": [
    "# check for duplicate values and drop any duplicated rows"
   ]
  },
  {
   "cell_type": "code",
   "execution_count": 68,
   "id": "a60921fc",
   "metadata": {},
   "outputs": [
    {
     "name": "stdout",
     "output_type": "stream",
     "text": [
      "\n",
      "\n",
      "Duplicate Rows : \n",
      " Empty DataFrame\n",
      "Columns: [Bank Name�, City�, State�, Cert�, Acquiring Institution�, Closing Date�, Fund]\n",
      "Index: []\n"
     ]
    }
   ],
   "source": [
    "df_state = pd.read_csv(\"Failed_Bank_List.csv\")\n",
    "Dup_Rows = df_state[df_state.duplicated()]\n",
    "print(\"\\n\\nDuplicate Rows : \\n {}\".format(Dup_Rows))"
   ]
  },
  {
   "cell_type": "code",
   "execution_count": 69,
   "id": "a2489698",
   "metadata": {},
   "outputs": [
    {
     "name": "stdout",
     "output_type": "stream",
     "text": [
      "No Duplicate Data Located in Failed_Bank_List.csv \n"
     ]
    }
   ],
   "source": [
    "print(\"No Duplicate Data Located in Failed_Bank_List.csv \")"
   ]
  },
  {
   "cell_type": "code",
   "execution_count": 70,
   "id": "a6c3c32b",
   "metadata": {},
   "outputs": [],
   "source": [
    "# check for null values "
   ]
  },
  {
   "cell_type": "code",
   "execution_count": 71,
   "id": "9fd92958",
   "metadata": {},
   "outputs": [
    {
     "data": {
      "text/plain": [
       "Bank Name�                False\n",
       "City�                     False\n",
       "State�                    False\n",
       "Cert�                     False\n",
       "Acquiring Institution�    False\n",
       "Closing Date�             False\n",
       "Fund                      False\n",
       "dtype: bool"
      ]
     },
     "execution_count": 71,
     "metadata": {},
     "output_type": "execute_result"
    }
   ],
   "source": [
    "Failed_Banks.isnull().any()"
   ]
  },
  {
   "cell_type": "code",
   "execution_count": 72,
   "id": "161629d9",
   "metadata": {},
   "outputs": [
    {
     "name": "stdout",
     "output_type": "stream",
     "text": [
      "No Null Data Located in Failed_Bank_List.csv \n"
     ]
    }
   ],
   "source": [
    "print(\"No Null Data Located in Failed_Bank_List.csv \")"
   ]
  },
  {
   "cell_type": "code",
   "execution_count": null,
   "id": "b033670b",
   "metadata": {},
   "outputs": [],
   "source": []
  },
  {
   "cell_type": "code",
   "execution_count": 75,
   "id": "d1dab7b8",
   "metadata": {},
   "outputs": [],
   "source": [
    "# The OECD Unemployment Data from from 2000 - 2023"
   ]
  },
  {
   "cell_type": "code",
   "execution_count": 160,
   "id": "38c12211",
   "metadata": {},
   "outputs": [],
   "source": [
    "# This dataset was selected and downloaded from the OECD https://data.oecd.org/unemp/unemployment-rate.htm"
   ]
  },
  {
   "cell_type": "code",
   "execution_count": 161,
   "id": "50ffb847",
   "metadata": {},
   "outputs": [],
   "source": [
    "df1 = pd.read_csv(\"Unemployment_Data.csv\")"
   ]
  },
  {
   "cell_type": "code",
   "execution_count": 162,
   "id": "1b79792e",
   "metadata": {},
   "outputs": [
    {
     "name": "stdout",
     "output_type": "stream",
     "text": [
      "  LOCATION INDICATOR SUBJECT MEASURE FREQUENCY    TIME  Value Flag Codes\n",
      "0      USA       HUR     TOT   PC_LF         M  Dec-99    4.0        NaN\n",
      "1      USA       HUR     TOT   PC_LF         M  Jan-00    4.0        NaN\n",
      "2      USA       HUR     TOT   PC_LF         M  Feb-00    4.1        NaN\n",
      "3      USA       HUR     TOT   PC_LF         M  Mar-00    4.0        NaN\n",
      "4      USA       HUR     TOT   PC_LF         M  Apr-00    3.8        NaN\n"
     ]
    }
   ],
   "source": [
    "print(df1.head())"
   ]
  },
  {
   "cell_type": "code",
   "execution_count": 152,
   "id": "002cad78",
   "metadata": {},
   "outputs": [],
   "source": [
    "# New File Created Unemployment_Data_nodup.csv without any duplicate rows"
   ]
  },
  {
   "cell_type": "code",
   "execution_count": 163,
   "id": "fa25e20f",
   "metadata": {},
   "outputs": [],
   "source": [
    "# Remove columns, duplicate values and NaN values from the the Dataframe & overwrite "
   ]
  },
  {
   "cell_type": "code",
   "execution_count": 165,
   "id": "0542209c",
   "metadata": {},
   "outputs": [],
   "source": [
    "df = pd.read_csv(\"Unemployment_Data_nodup.csv\")\n",
    "\n",
    "# Remove useless columns\n",
    "columns_to_remove = ['INDICATOR', 'MEASURE', 'SUBJECT', 'Flag Codes']\n",
    "df = df.drop(columns_to_remove, axis=1)\n",
    "\n",
    "# Remove duplicate rows\n",
    "df = df.drop_duplicates()\n",
    "\n",
    "# Remove all of the NaN values\n",
    "df = df.dropna()\n",
    "\n",
    "# Save a new cleaned DataFrame to a new CSV file\n",
    "df.to_csv(\"Unemployment_Data_cleaned.csv\", index=False)"
   ]
  },
  {
   "cell_type": "code",
   "execution_count": 166,
   "id": "cf1f0639",
   "metadata": {},
   "outputs": [
    {
     "name": "stdout",
     "output_type": "stream",
     "text": [
      "  LOCATION FREQUENCY    TIME  Value\n",
      "0      USA         M  Dec-99    4.0\n",
      "1      USA         M  Jan-00    4.0\n",
      "2      USA         M  Feb-00    4.1\n",
      "3      USA         M  Mar-00    4.0\n",
      "4      USA         M  Apr-00    3.8\n"
     ]
    }
   ],
   "source": [
    "df2 = pd.read_csv(\"Unemployment_Data_cleaned.csv\")\n",
    "print(df2.head())"
   ]
  },
  {
   "cell_type": "code",
   "execution_count": null,
   "id": "0abd7578",
   "metadata": {},
   "outputs": [],
   "source": []
  },
  {
   "cell_type": "code",
   "execution_count": null,
   "id": "bfbfa825",
   "metadata": {},
   "outputs": [],
   "source": [
    "# Your project should use Regex to extract a pattern in data (10)"
   ]
  },
  {
   "cell_type": "code",
   "execution_count": 171,
   "id": "1c80fa75",
   "metadata": {},
   "outputs": [],
   "source": [
    "# Extract the number of failed banks in Chicago (Full timeline)"
   ]
  },
  {
   "cell_type": "code",
   "execution_count": 182,
   "id": "0eabf3c7",
   "metadata": {},
   "outputs": [],
   "source": [
    "df = pd.read_csv(\"Failed_Bank_List.csv\")"
   ]
  },
  {
   "cell_type": "code",
   "execution_count": 183,
   "id": "a6c3b103",
   "metadata": {},
   "outputs": [
    {
     "name": "stdout",
     "output_type": "stream",
     "text": [
      "Chicago Banks:\n",
      "1. Washington Federal Bank for Savings\n",
      "2. Seaway Bank and Trust Company\n",
      "3. Edgebrook Bank\n",
      "4. Highland Community Bank\n",
      "5. The National Republic Bank of Chicago\n",
      "6. GreenChoice Bank, fsb\n",
      "7. DuPage National Bank\n",
      "8. Covenant Bank\n",
      "9. Second Federal Savings and Loan Association of Chicago\n",
      "10. New City Bank\n",
      "11. First Chicago Bank & Trust\n",
      "12. Community First Bank Chicago\n",
      "13. ShoreBank\n",
      "14. Ravenswood Bank\n",
      "15. Lincoln Park Savings Bank\n",
      "16. New Century Bank\n",
      "17. Citizens Bank and Trust Company of Chicago\n",
      "18. Broadway Bank\n",
      "19. Park National Bank\n",
      "20. Corus Bank, N.A.\n",
      "21. Universal Federal Savings Bank\n"
     ]
    }
   ],
   "source": [
    "import re\n",
    "import csv\n",
    "\n",
    "def find_chicago_banks(file_path):\n",
    "    matches = []\n",
    "    with open(file_path, 'r') as file:\n",
    "        reader = csv.reader(file)\n",
    "        for row in reader:\n",
    "            if len(row) > 1 and re.search(r'\\bChicago\\b', row[1], re.IGNORECASE):\n",
    "                matches.append(row[0])\n",
    "    return matches\n",
    "\n",
    "file_path = r'C:/Users/pmanu/github/my_project/Failed_Bank_List.csv'\n",
    "\n",
    "chicago_banks = find_chicago_banks(file_path)\n",
    "\n",
    "# Print the number of failed banks in Chicago only \n",
    "print(\"Chicago Banks:\")\n",
    "for index, bank_name in enumerate(chicago_banks, start=1):\n",
    "    print(f\"{index}. {bank_name}\")"
   ]
  },
  {
   "cell_type": "code",
   "execution_count": 184,
   "id": "94306605",
   "metadata": {},
   "outputs": [
    {
     "name": "stdout",
     "output_type": "stream",
     "text": [
      "The number of Failed Banks in Chicago alone between 13-Oct-00 and 12-Mar-23 is :  21\n"
     ]
    }
   ],
   "source": [
    "print(\"The number of Failed Banks in Chicago alone between 13-Oct-00 and 12-Mar-23 is : \", 21)"
   ]
  },
  {
   "cell_type": "code",
   "execution_count": null,
   "id": "873b6db7",
   "metadata": {},
   "outputs": [],
   "source": []
  },
  {
   "cell_type": "code",
   "execution_count": 187,
   "id": "5e6f2f59",
   "metadata": {},
   "outputs": [],
   "source": [
    "# Make use of iterators (5)"
   ]
  },
  {
   "cell_type": "code",
   "execution_count": null,
   "id": "69a609dd",
   "metadata": {},
   "outputs": [],
   "source": [
    "# Create a list of the Unemployment data using iterators"
   ]
  },
  {
   "cell_type": "code",
   "execution_count": 186,
   "id": "db62ea09",
   "metadata": {},
   "outputs": [
    {
     "name": "stdout",
     "output_type": "stream",
     "text": [
      "TIME: Dec-99, Feb-00, Apr-00, Jun-00, Aug-00, Oct-00, Dec-00, 01-Feb, 01-Apr, 01-Jun, 01-Aug, 01-Oct, 01-Dec, 02-Feb, 02-Apr, 02-Jun, 02-Aug, 02-Oct, 02-Dec, 03-Feb, 03-Apr, 03-Jun, 03-Aug, 03-Oct, 03-Dec, 04-Feb, 04-Apr, 04-Jun, 04-Aug, 04-Oct, 04-Dec, 05-Feb, 05-Apr, 05-Jun, 05-Aug, 05-Oct, 05-Dec, 06-Feb, 06-Apr, 06-Jun, 06-Aug, 06-Oct, 06-Dec, 07-Feb, 07-Apr, 07-Jun, 07-Aug, 07-Oct, 07-Dec, 08-Feb, 08-Apr, 08-Jun, 08-Aug, 08-Oct, 08-Dec, 09-Feb, 09-Apr, 09-Jun, 09-Aug, 09-Oct, 09-Dec, 10-Feb, 10-Apr, 10-Jun, 10-Aug, 10-Oct, 10-Dec, 11-Feb, 11-Apr, 11-Jun, 11-Aug, 11-Oct, 11-Dec, 12-Feb, 12-Apr, 12-Jun, 12-Aug, 12-Oct, 12-Dec, 13-Feb, 13-Apr, 13-Jun, 13-Aug, 13-Oct, 13-Dec, 14-Feb, 14-Apr, 14-Jun, 14-Aug, 14-Oct, 14-Dec, 15-Feb, 15-Apr, 15-Jun, 15-Aug, 15-Oct, 15-Dec, 16-Feb, 16-Apr, 16-Jun, 16-Aug, 16-Oct, 16-Dec, 17-Feb, 17-Apr, 17-Jun, 17-Aug, 17-Oct, 17-Dec, 18-Feb, 18-Apr, 18-Jun, 18-Aug, 18-Oct, 18-Dec, 19-Feb, 19-Apr, 19-Jun, 19-Aug, 19-Oct, 19-Dec, 20-Feb, 20-Apr, 20-Jun, 20-Aug, 20-Oct, 20-Dec, 21-Feb, 21-Apr, 21-Jun, 21-Aug, 21-Oct, 21-Dec, 22-Feb, 22-Apr, 22-Jun, 22-Aug, 22-Oct, 22-Dec, 23-Feb, 23-Apr\n",
      "Value: 4.0, 4.1, 3.8, 4.0, 4.1, 3.9, 3.9, 4.2, 4.4, 4.5, 4.9, 5.3, 5.7, 5.7, 5.9, 5.8, 5.7, 5.7, 6.0, 5.9, 6.0, 6.3, 6.1, 6.0, 5.7, 5.6, 5.6, 5.6, 5.4, 5.5, 5.4, 5.4, 5.2, 5.0, 4.9, 5.0, 4.9, 4.8, 4.7, 4.6, 4.7, 4.4, 4.4, 4.5, 4.5, 4.6, 4.6, 4.7, 5.0, 4.9, 5.0, 5.6, 6.1, 6.5, 7.3, 8.3, 9.0, 9.5, 9.6, 10.0, 9.9, 9.8, 9.9, 9.4, 9.5, 9.4, 9.3, 9.0, 9.1, 9.1, 9.0, 8.8, 8.5, 8.3, 8.2, 8.2, 8.1, 7.8, 7.9, 7.7, 7.6, 7.5, 7.2, 7.2, 6.7, 6.7, 6.2, 6.1, 6.1, 5.7, 5.6, 5.5, 5.4, 5.3, 5.1, 5.0, 5.0, 4.9, 5.1, 4.9, 4.9, 4.9, 4.7, 4.6, 4.4, 4.3, 4.4, 4.2, 4.1, 4.1, 4.0, 4.0, 3.8, 3.8, 3.9, 3.8, 3.6, 3.6, 3.7, 3.6, 3.6, 3.5, 14.7, 11.0, 8.4, 6.9, 6.7, 6.2, 6.1, 5.9, 5.2, 4.5, 3.9, 3.8, 3.6, 3.6, 3.7, 3.7, 3.5, 3.6, 3.4\n"
     ]
    }
   ],
   "source": [
    "data = pd.read_csv(\"Unemployment_Data_cleaned.csv\")\n",
    "\n",
    "# Convert column data to list\n",
    "month = data['TIME'].tolist()\n",
    "fc = [str(value) if not pd.isnull(value) else '' for value in data['Value'].tolist()]\n",
    "\n",
    "# Make iterators\n",
    "month_iter = iter(month)\n",
    "fc_iter = iter(fc)\n",
    "\n",
    "print(\"TIME: \", end=\"\")\n",
    "for m in month_iter:\n",
    "    print(m, end=\", \" if next(month_iter, None) else \"\\n\")\n",
    "\n",
    "print(\"Value: \", end=\"\")\n",
    "for f in fc_iter:\n",
    "    print(f, end=\", \" if next(fc_iter, None) else \"\\n\")"
   ]
  },
  {
   "cell_type": "code",
   "execution_count": null,
   "id": "47bcde18",
   "metadata": {},
   "outputs": [],
   "source": []
  },
  {
   "cell_type": "code",
   "execution_count": null,
   "id": "3143e4cc",
   "metadata": {},
   "outputs": [],
   "source": [
    "# Dictionary or Lists (5)"
   ]
  },
  {
   "cell_type": "code",
   "execution_count": 188,
   "id": "2556de8a",
   "metadata": {},
   "outputs": [],
   "source": [
    "# Print list of Number of Bank Failures each Year side by side"
   ]
  },
  {
   "cell_type": "code",
   "execution_count": 189,
   "id": "c45211ac",
   "metadata": {},
   "outputs": [
    {
     "name": "stdout",
     "output_type": "stream",
     "text": [
      "Failures\tYear\n",
      "----------------------\n",
      "2\t\t2000\n",
      "4\t\t2001\n",
      "11\t\t2002\n",
      "3\t\t2003\n",
      "4\t\t2004\n",
      "0\t\t2005\n",
      "0\t\t2006\n",
      "3\t\t2007\n",
      "25\t\t2008\n",
      "140\t\t2009\n",
      "157\t\t2010\n",
      "92\t\t2011\n",
      "51\t\t2012\n",
      "24\t\t2013\n",
      "18\t\t2014\n",
      "8\t\t2015\n",
      "5\t\t2016\n",
      "8\t\t2017\n",
      "0\t\t2018\n",
      "4\t\t2019\n",
      "4\t\t2020\n",
      "0\t\t2021\n",
      "0\t\t2022\n",
      "2\t\t2023\n"
     ]
    }
   ],
   "source": [
    "a = ['2', '4', '11', '3', '4', '0', '0', '3', '25', '140', '157', '92', '51', '24', '18', '8', '5', '8', '0', '4', '4', '0', '0', '2']\n",
    "b = ['2000', '2001', '2002', '2003', '2004', '2005', '2006', '2007', '2008', '2009', '2010', '2011', '2012', '2013', '2014', '2015', '2016', '2017', '2018', '2019', '2020', '2021', '2022', '2023']\n",
    "\n",
    "print(\"Failures\\tYear\")\n",
    "print(\"----------------------\")\n",
    "\n",
    "for i in range(len(a)):\n",
    "    print(a[i] + '\\t\\t' + b[i])\n",
    "    "
   ]
  },
  {
   "cell_type": "code",
   "execution_count": null,
   "id": "4028624c",
   "metadata": {},
   "outputs": [],
   "source": []
  },
  {
   "cell_type": "code",
   "execution_count": null,
   "id": "ac1496cb",
   "metadata": {},
   "outputs": [],
   "source": [
    "# Merge the Dataframes"
   ]
  },
  {
   "cell_type": "code",
   "execution_count": null,
   "id": "74e6a710",
   "metadata": {},
   "outputs": [],
   "source": []
  },
  {
   "cell_type": "code",
   "execution_count": null,
   "id": "a0e4a90a",
   "metadata": {},
   "outputs": [],
   "source": []
  },
  {
   "cell_type": "code",
   "execution_count": null,
   "id": "63084a19",
   "metadata": {},
   "outputs": [],
   "source": []
  },
  {
   "cell_type": "code",
   "execution_count": null,
   "id": "5c2b1bad",
   "metadata": {},
   "outputs": [],
   "source": []
  },
  {
   "cell_type": "code",
   "execution_count": null,
   "id": "ae7ee0e1",
   "metadata": {},
   "outputs": [],
   "source": [
    "# Define a custom function to create reusable code (5)"
   ]
  },
  {
   "cell_type": "code",
   "execution_count": null,
   "id": "c469c9df",
   "metadata": {},
   "outputs": [],
   "source": [
    "# NumPy (5)"
   ]
  },
  {
   "cell_type": "code",
   "execution_count": null,
   "id": "fe275224",
   "metadata": {},
   "outputs": [],
   "source": [
    "# Dictionary or Lists (5)"
   ]
  },
  {
   "cell_type": "code",
   "execution_count": null,
   "id": "f4db3815",
   "metadata": {},
   "outputs": [],
   "source": [
    "# Predict a target variable with Supervised or Unsupervised algorithm (15)"
   ]
  },
  {
   "cell_type": "code",
   "execution_count": null,
   "id": "3a34166c",
   "metadata": {},
   "outputs": [],
   "source": [
    "# Perform hyper parameter tuning or boosting (15)"
   ]
  },
  {
   "cell_type": "code",
   "execution_count": 190,
   "id": "e4877ca3",
   "metadata": {},
   "outputs": [],
   "source": [
    "# Present two charts with Seaborn or Matplotlib (10)"
   ]
  },
  {
   "cell_type": "code",
   "execution_count": null,
   "id": "6a0caae2",
   "metadata": {},
   "outputs": [],
   "source": [
    "# Line Chart to Show Number of Bank Failures from 2000 - 2023"
   ]
  },
  {
   "cell_type": "code",
   "execution_count": 191,
   "id": "d577b191",
   "metadata": {},
   "outputs": [
    {
     "data": {
      "image/png": "[encoded data removed]",
      "text/plain": [
       "<Figure size 432x288 with 1 Axes>"
      ]
     },
     "metadata": {
      "needs_background": "light"
     },
     "output_type": "display_data"
    }
   ],
   "source": [
    "import matplotlib.pyplot as plt\n",
    "\n",
    "# number of bank failures data\n",
    "bank_fail = [2, 4, 11, 3, 4, 0, 0, 3, 25, 140, 157, 92, 51, 24, 18, 8, 5, 8, 0, 4, 4, 0, 0, 2]\n",
    "year = [2000, 2001, 2002, 2003, 2004, 2005, 2006, 2007, 2008, 2009, 2010, 2011, 2012, 2013, 2014, 2015, 2016, 2017, 2018, 2019, 2020, 2021, 2022, 2023]\n",
    "\n",
    "# set axis titles\n",
    "plt.xlabel(\"Year\")\n",
    "plt.ylabel(\"Failures\")\n",
    "\n",
    "# set chart title\n",
    "plt.title(\"FDIC Bank Failures 2000 - 2023\")\n",
    "\n",
    "# plot a line chart\n",
    "plt.plot(year, bank_fail)\n",
    "plt.show()"
   ]
  },
  {
   "cell_type": "code",
   "execution_count": null,
   "id": "d79f0440",
   "metadata": {},
   "outputs": [],
   "source": [
    "# Bar to Show Number of Bank Failures from 2000 - 2023"
   ]
  },
  {
   "cell_type": "code",
   "execution_count": 192,
   "id": "4920817b",
   "metadata": {},
   "outputs": [
    {
     "data": {
      "image/png": "[encoded data removed]",
      "text/plain": [
       "<Figure size 432x288 with 1 Axes>"
      ]
     },
     "metadata": {
      "needs_background": "light"
     },
     "output_type": "display_data"
    }
   ],
   "source": [
    "import matplotlib.pyplot as plt\n",
    "\n",
    "# Number of bank failures data\n",
    "x = [2000, 2001, 2002, 2003, 2004, 2005, 2006, 2007, 2008, 2009, 2010, 2011, 2012, 2013, 2014, 2015, 2016, 2017, 2018, 2019, 2020, 2021, 2022, 2023]\n",
    "y = [2, 4, 11, 3, 4, 0, 0, 3, 25, 140, 157, 92, 51, 24, 18, 8, 5, 8, 0, 4, 4, 0, 0, 2]\n",
    "\n",
    "colors = [\"#619cff\", \"#00ba38\", \"#f8766d\", \"#619cff\", \"#00ba38\", \"#f8766d\", \"#619cff\", \"#00ba38\", \"#f8766d\", \"#619cff\", \"#00ba38\", \"#f8766d\", \"#619cff\", \"#00ba38\", \"#f8766d\", \"#619cff\", \"#00ba38\", \"#f8766d\", \"#619cff\", \"#00ba38\", \"#f8766d\", \"#619cff\", \"#00ba38\", \"#f8766d\"]\n",
    "\n",
    "# Bar plot\n",
    "fig, ax = plt.subplots()\n",
    "ax.bar(x=x, height=y, color=colors)\n",
    "\n",
    "plt.title('FDIC Bank Failures 2000 - 2023')\n",
    "plt.xlabel('Year')\n",
    "plt.ylabel('Number of Failures')\n",
    "plt.xticks(rotation=45)\n",
    "\n",
    "plt.show()"
   ]
  },
  {
   "cell_type": "code",
   "execution_count": null,
   "id": "1e8cfb63",
   "metadata": {},
   "outputs": [],
   "source": []
  },
  {
   "cell_type": "code",
   "execution_count": null,
   "id": "434e2f87",
   "metadata": {},
   "outputs": [],
   "source": [
    "# Generate 5 insights from the project (10)"
   ]
  },
  {
   "cell_type": "code",
   "execution_count": null,
   "id": "33e15826",
   "metadata": {},
   "outputs": [],
   "source": [
    "#1. 564 Bank failures occured in the USA from 13-Oct-00 to 12-Mar-23.\n",
    "#2. The City/Location with the most failures overall in total is Chicago with 21.\n",
    "#3. The Unemployment rate in the USA in Oct 09 reached a peak of 10% and during Covid 19 reached a peak of 14.7% in Apr 20.\n",
    "#4.   \n",
    "#5. "
   ]
  }
 ],
 "metadata": {
  "kernelspec": {
   "display_name": "Python 3",
   "language": "python",
   "name": "python3"
  },
  "language_info": {
   "codemirror_mode": {
    "name": "ipython",
    "version": 3
   },
   "file_extension": ".py",
   "mimetype": "text/x-python",
   "name": "python",
   "nbconvert_exporter": "python",
   "pygments_lexer": "ipython3",
   "version": "3.8.8"
  }
 },
 "nbformat": 4,
 "nbformat_minor": 5
}
