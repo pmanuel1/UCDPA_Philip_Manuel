{
 "cells": [
  {
   "cell_type": "code",
   "execution_count": null,
   "id": "3bf4a966",
   "metadata": {},
   "outputs": [],
   "source": [
    "# The project should use a real-world dataset and include a reference of their source in the report (5)"
   ]
  },
  {
   "cell_type": "code",
   "execution_count": null,
   "id": "95b17ed5",
   "metadata": {},
   "outputs": [],
   "source": [
    "# The FDIC Failed Bank List from 2000 - 2023"
   ]
  },
  {
   "cell_type": "code",
   "execution_count": null,
   "id": "6cb249e1",
   "metadata": {},
   "outputs": [],
   "source": [
    "# https://www.kaggle.com/datasets/usamabuttar/fdic-failed-bank-list"
   ]
  },
  {
   "cell_type": "code",
   "execution_count": null,
   "id": "c6d418cd",
   "metadata": {},
   "outputs": [],
   "source": [
    "# The OECD Unemployment Data from from 2000 - 2023"
   ]
  },
  {
   "cell_type": "code",
   "execution_count": 234,
   "id": "30ed4798",
   "metadata": {},
   "outputs": [],
   "source": [
    "# https://data.oecd.org/unemp/unemployment-rate.htm"
   ]
  },
  {
   "cell_type": "code",
   "execution_count": 235,
   "id": "743d3e06",
   "metadata": {},
   "outputs": [],
   "source": [
    "#  Develop a Python project to analyse real world scenarios and generate valuable insights by\n",
    "#  visualising information. The project aims to analyse data from different data sources,\n",
    "#  manipulate information and visualise to generate insights."
   ]
  },
  {
   "cell_type": "code",
   "execution_count": null,
   "id": "e6ca45ce",
   "metadata": {},
   "outputs": [],
   "source": []
  },
  {
   "cell_type": "code",
   "execution_count": 1,
   "id": "785df1be",
   "metadata": {},
   "outputs": [],
   "source": [
    "# import the neccessary modules"
   ]
  },
  {
   "cell_type": "code",
   "execution_count": 2,
   "id": "192ab463",
   "metadata": {},
   "outputs": [],
   "source": [
    "import pandas as pd"
   ]
  },
  {
   "cell_type": "code",
   "execution_count": 3,
   "id": "521d51ab",
   "metadata": {},
   "outputs": [],
   "source": [
    "import numpy as np"
   ]
  },
  {
   "cell_type": "code",
   "execution_count": 4,
   "id": "414fbdf5",
   "metadata": {},
   "outputs": [],
   "source": [
    "import requests"
   ]
  },
  {
   "cell_type": "code",
   "execution_count": 5,
   "id": "17d70da6",
   "metadata": {},
   "outputs": [],
   "source": [
    "import json"
   ]
  },
  {
   "cell_type": "code",
   "execution_count": 6,
   "id": "280003fb",
   "metadata": {},
   "outputs": [],
   "source": [
    "import re"
   ]
  },
  {
   "cell_type": "code",
   "execution_count": null,
   "id": "ae266e71",
   "metadata": {},
   "outputs": [],
   "source": []
  },
  {
   "cell_type": "code",
   "execution_count": 7,
   "id": "844a3638",
   "metadata": {},
   "outputs": [],
   "source": [
    "# Your project should make use of one or more of the following: Relational database, API or web scraping (10)"
   ]
  },
  {
   "cell_type": "code",
   "execution_count": 8,
   "id": "f6dd47b3",
   "metadata": {},
   "outputs": [],
   "source": [
    "# Use Kaggle API "
   ]
  },
  {
   "cell_type": "code",
   "execution_count": 9,
   "id": "801be6fc",
   "metadata": {},
   "outputs": [],
   "source": [
    "# pip install kaggle (already installed/satisifed so not run in this code)"
   ]
  },
  {
   "cell_type": "code",
   "execution_count": 10,
   "id": "17786c0b",
   "metadata": {},
   "outputs": [],
   "source": [
    "import kaggle"
   ]
  },
  {
   "cell_type": "code",
   "execution_count": 11,
   "id": "0120bc0a",
   "metadata": {},
   "outputs": [],
   "source": [
    "from kaggle.api.kaggle_api_extended import KaggleApi\n",
    "api = KaggleApi()\n",
    "api.authenticate()"
   ]
  },
  {
   "cell_type": "code",
   "execution_count": 12,
   "id": "05b17f1f",
   "metadata": {},
   "outputs": [
    {
     "data": {
      "text/plain": [
       "True"
      ]
     },
     "execution_count": 12,
     "metadata": {},
     "output_type": "execute_result"
    }
   ],
   "source": [
    "api.dataset_download_file('usamabuttar/fdic-failed-bank-list',\n",
    "                          file_name='Failed_Bank_List.csv',\n",
    "                          path='./')"
   ]
  },
  {
   "cell_type": "code",
   "execution_count": null,
   "id": "6c1028c6",
   "metadata": {},
   "outputs": [],
   "source": [
    "# There can be a need to unzip an imported Kaggle File but not in this instance"
   ]
  },
  {
   "cell_type": "code",
   "execution_count": null,
   "id": "55b1145a",
   "metadata": {},
   "outputs": [],
   "source": []
  },
  {
   "cell_type": "code",
   "execution_count": 13,
   "id": "16cc8184",
   "metadata": {},
   "outputs": [],
   "source": [
    "# Import this CSV file into a Pandas DataFrame (10)"
   ]
  },
  {
   "cell_type": "code",
   "execution_count": 47,
   "id": "3ee20074",
   "metadata": {},
   "outputs": [],
   "source": [
    "# Failed Bank Data 2000 - 2023"
   ]
  },
  {
   "cell_type": "code",
   "execution_count": 48,
   "id": "c48ca28e",
   "metadata": {},
   "outputs": [],
   "source": [
    "df = pd.read_csv(\"Failed_Bank_List.csv\")"
   ]
  },
  {
   "cell_type": "code",
   "execution_count": null,
   "id": "38f18639",
   "metadata": {},
   "outputs": [],
   "source": []
  },
  {
   "cell_type": "code",
   "execution_count": null,
   "id": "ad59dc1e",
   "metadata": {},
   "outputs": [],
   "source": [
    "# Replace missing values or drop duplicates (10)"
   ]
  },
  {
   "cell_type": "code",
   "execution_count": 49,
   "id": "3c38d68d",
   "metadata": {},
   "outputs": [],
   "source": [
    "# Remove rows with Null Values Failed Bank Data 2000 - 2023"
   ]
  },
  {
   "cell_type": "code",
   "execution_count": 50,
   "id": "a7228d48",
   "metadata": {},
   "outputs": [
    {
     "data": {
      "text/html": [
       "<div>\n",
       "<style scoped>\n",
       "    .dataframe tbody tr th:only-of-type {\n",
       "        vertical-align: middle;\n",
       "    }\n",
       "\n",
       "    .dataframe tbody tr th {\n",
       "        vertical-align: top;\n",
       "    }\n",
       "\n",
       "    .dataframe thead th {\n",
       "        text-align: right;\n",
       "    }\n",
       "</style>\n",
       "<table border=\"1\" class=\"dataframe\">\n",
       "  <thead>\n",
       "    <tr style=\"text-align: right;\">\n",
       "      <th></th>\n",
       "      <th>Bank Name�</th>\n",
       "      <th>City�</th>\n",
       "      <th>State�</th>\n",
       "      <th>Cert�</th>\n",
       "      <th>Acquiring Institution�</th>\n",
       "      <th>Closing Date�</th>\n",
       "      <th>Fund</th>\n",
       "    </tr>\n",
       "  </thead>\n",
       "  <tbody>\n",
       "    <tr>\n",
       "      <th>0</th>\n",
       "      <td>Signature Bank</td>\n",
       "      <td>New York</td>\n",
       "      <td>NY</td>\n",
       "      <td>57053</td>\n",
       "      <td>Flagstar Bank, N.A.</td>\n",
       "      <td>12-Mar-23</td>\n",
       "      <td>10540</td>\n",
       "    </tr>\n",
       "    <tr>\n",
       "      <th>1</th>\n",
       "      <td>Silicon Valley Bank</td>\n",
       "      <td>Santa Clara</td>\n",
       "      <td>CA</td>\n",
       "      <td>24735</td>\n",
       "      <td>Silicon Valley Bridge Bank, N.A.</td>\n",
       "      <td>10-Mar-23</td>\n",
       "      <td>10539</td>\n",
       "    </tr>\n",
       "    <tr>\n",
       "      <th>2</th>\n",
       "      <td>Almena State Bank</td>\n",
       "      <td>Almena</td>\n",
       "      <td>KS</td>\n",
       "      <td>15426</td>\n",
       "      <td>Equity Bank</td>\n",
       "      <td>23-Oct-20</td>\n",
       "      <td>10538</td>\n",
       "    </tr>\n",
       "    <tr>\n",
       "      <th>3</th>\n",
       "      <td>First City Bank of Florida</td>\n",
       "      <td>Fort Walton Beach</td>\n",
       "      <td>FL</td>\n",
       "      <td>16748</td>\n",
       "      <td>United Fidelity Bank, fsb</td>\n",
       "      <td>16-Oct-20</td>\n",
       "      <td>10537</td>\n",
       "    </tr>\n",
       "    <tr>\n",
       "      <th>4</th>\n",
       "      <td>The First State Bank</td>\n",
       "      <td>Barboursville</td>\n",
       "      <td>WV</td>\n",
       "      <td>14361</td>\n",
       "      <td>MVB Bank, Inc.</td>\n",
       "      <td>3-Apr-20</td>\n",
       "      <td>10536</td>\n",
       "    </tr>\n",
       "    <tr>\n",
       "      <th>...</th>\n",
       "      <td>...</td>\n",
       "      <td>...</td>\n",
       "      <td>...</td>\n",
       "      <td>...</td>\n",
       "      <td>...</td>\n",
       "      <td>...</td>\n",
       "      <td>...</td>\n",
       "    </tr>\n",
       "    <tr>\n",
       "      <th>560</th>\n",
       "      <td>Superior Bank, FSB</td>\n",
       "      <td>Hinsdale</td>\n",
       "      <td>IL</td>\n",
       "      <td>32646</td>\n",
       "      <td>Superior Federal, FSB</td>\n",
       "      <td>27-Jul-01</td>\n",
       "      <td>6004</td>\n",
       "    </tr>\n",
       "    <tr>\n",
       "      <th>561</th>\n",
       "      <td>Malta National Bank</td>\n",
       "      <td>Malta</td>\n",
       "      <td>OH</td>\n",
       "      <td>6629</td>\n",
       "      <td>North Valley Bank</td>\n",
       "      <td>3-May-01</td>\n",
       "      <td>4648</td>\n",
       "    </tr>\n",
       "    <tr>\n",
       "      <th>562</th>\n",
       "      <td>First Alliance Bank &amp; Trust Co.</td>\n",
       "      <td>Manchester</td>\n",
       "      <td>NH</td>\n",
       "      <td>34264</td>\n",
       "      <td>Southern New Hampshire Bank &amp; Trust</td>\n",
       "      <td>2-Feb-01</td>\n",
       "      <td>4647</td>\n",
       "    </tr>\n",
       "    <tr>\n",
       "      <th>563</th>\n",
       "      <td>National State Bank of Metropolis</td>\n",
       "      <td>Metropolis</td>\n",
       "      <td>IL</td>\n",
       "      <td>3815</td>\n",
       "      <td>Banterra Bank of Marion</td>\n",
       "      <td>14-Dec-00</td>\n",
       "      <td>4646</td>\n",
       "    </tr>\n",
       "    <tr>\n",
       "      <th>564</th>\n",
       "      <td>Bank of Honolulu</td>\n",
       "      <td>Honolulu</td>\n",
       "      <td>HI</td>\n",
       "      <td>21029</td>\n",
       "      <td>Bank of the Orient</td>\n",
       "      <td>13-Oct-00</td>\n",
       "      <td>4645</td>\n",
       "    </tr>\n",
       "  </tbody>\n",
       "</table>\n",
       "<p>565 rows × 7 columns</p>\n",
       "</div>"
      ],
      "text/plain": [
       "                            Bank Name�              City� State�  Cert�  \\\n",
       "0                       Signature Bank           New York     NY  57053   \n",
       "1                  Silicon Valley Bank        Santa Clara     CA  24735   \n",
       "2                    Almena State Bank             Almena     KS  15426   \n",
       "3           First City Bank of Florida  Fort Walton Beach     FL  16748   \n",
       "4                 The First State Bank      Barboursville     WV  14361   \n",
       "..                                 ...                ...    ...    ...   \n",
       "560                 Superior Bank, FSB           Hinsdale     IL  32646   \n",
       "561                Malta National Bank              Malta     OH   6629   \n",
       "562    First Alliance Bank & Trust Co.         Manchester     NH  34264   \n",
       "563  National State Bank of Metropolis         Metropolis     IL   3815   \n",
       "564                   Bank of Honolulu           Honolulu     HI  21029   \n",
       "\n",
       "                  Acquiring Institution� Closing Date�   Fund  \n",
       "0                    Flagstar Bank, N.A.     12-Mar-23  10540  \n",
       "1       Silicon Valley Bridge Bank, N.A.     10-Mar-23  10539  \n",
       "2                            Equity Bank     23-Oct-20  10538  \n",
       "3              United Fidelity Bank, fsb     16-Oct-20  10537  \n",
       "4                         MVB Bank, Inc.      3-Apr-20  10536  \n",
       "..                                   ...           ...    ...  \n",
       "560                Superior Federal, FSB     27-Jul-01   6004  \n",
       "561                    North Valley Bank      3-May-01   4648  \n",
       "562  Southern New Hampshire Bank & Trust      2-Feb-01   4647  \n",
       "563              Banterra Bank of Marion     14-Dec-00   4646  \n",
       "564                   Bank of the Orient     13-Oct-00   4645  \n",
       "\n",
       "[565 rows x 7 columns]"
      ]
     },
     "execution_count": 50,
     "metadata": {},
     "output_type": "execute_result"
    }
   ],
   "source": [
    "df.dropna()"
   ]
  },
  {
   "cell_type": "code",
   "execution_count": 51,
   "id": "260b45c8",
   "metadata": {},
   "outputs": [
    {
     "name": "stdout",
     "output_type": "stream",
     "text": [
      "The number of Failed Banks in the USA according to the FDIC between 13-Oct-00 and 12-Mar-23 is :  564\n"
     ]
    }
   ],
   "source": [
    "print(\"The number of Failed Banks in the USA according to the FDIC between 13-Oct-00 and 12-Mar-23 is : \", len(Failed_Banks.index)-1)"
   ]
  },
  {
   "cell_type": "code",
   "execution_count": 52,
   "id": "d46f6c30",
   "metadata": {},
   "outputs": [],
   "source": [
    "# Drop the State� column from the Dataframe"
   ]
  },
  {
   "cell_type": "code",
   "execution_count": 53,
   "id": "43461f87",
   "metadata": {},
   "outputs": [
    {
     "data": {
      "text/html": [
       "<div>\n",
       "<style scoped>\n",
       "    .dataframe tbody tr th:only-of-type {\n",
       "        vertical-align: middle;\n",
       "    }\n",
       "\n",
       "    .dataframe tbody tr th {\n",
       "        vertical-align: top;\n",
       "    }\n",
       "\n",
       "    .dataframe thead th {\n",
       "        text-align: right;\n",
       "    }\n",
       "</style>\n",
       "<table border=\"1\" class=\"dataframe\">\n",
       "  <thead>\n",
       "    <tr style=\"text-align: right;\">\n",
       "      <th></th>\n",
       "      <th>Bank Name�</th>\n",
       "      <th>City�</th>\n",
       "      <th>Cert�</th>\n",
       "      <th>Acquiring Institution�</th>\n",
       "      <th>Closing Date�</th>\n",
       "      <th>Fund</th>\n",
       "    </tr>\n",
       "  </thead>\n",
       "  <tbody>\n",
       "    <tr>\n",
       "      <th>0</th>\n",
       "      <td>Signature Bank</td>\n",
       "      <td>New York</td>\n",
       "      <td>57053</td>\n",
       "      <td>Flagstar Bank, N.A.</td>\n",
       "      <td>12-Mar-23</td>\n",
       "      <td>10540</td>\n",
       "    </tr>\n",
       "    <tr>\n",
       "      <th>1</th>\n",
       "      <td>Silicon Valley Bank</td>\n",
       "      <td>Santa Clara</td>\n",
       "      <td>24735</td>\n",
       "      <td>Silicon Valley Bridge Bank, N.A.</td>\n",
       "      <td>10-Mar-23</td>\n",
       "      <td>10539</td>\n",
       "    </tr>\n",
       "    <tr>\n",
       "      <th>2</th>\n",
       "      <td>Almena State Bank</td>\n",
       "      <td>Almena</td>\n",
       "      <td>15426</td>\n",
       "      <td>Equity Bank</td>\n",
       "      <td>23-Oct-20</td>\n",
       "      <td>10538</td>\n",
       "    </tr>\n",
       "    <tr>\n",
       "      <th>3</th>\n",
       "      <td>First City Bank of Florida</td>\n",
       "      <td>Fort Walton Beach</td>\n",
       "      <td>16748</td>\n",
       "      <td>United Fidelity Bank, fsb</td>\n",
       "      <td>16-Oct-20</td>\n",
       "      <td>10537</td>\n",
       "    </tr>\n",
       "    <tr>\n",
       "      <th>4</th>\n",
       "      <td>The First State Bank</td>\n",
       "      <td>Barboursville</td>\n",
       "      <td>14361</td>\n",
       "      <td>MVB Bank, Inc.</td>\n",
       "      <td>3-Apr-20</td>\n",
       "      <td>10536</td>\n",
       "    </tr>\n",
       "    <tr>\n",
       "      <th>...</th>\n",
       "      <td>...</td>\n",
       "      <td>...</td>\n",
       "      <td>...</td>\n",
       "      <td>...</td>\n",
       "      <td>...</td>\n",
       "      <td>...</td>\n",
       "    </tr>\n",
       "    <tr>\n",
       "      <th>560</th>\n",
       "      <td>Superior Bank, FSB</td>\n",
       "      <td>Hinsdale</td>\n",
       "      <td>32646</td>\n",
       "      <td>Superior Federal, FSB</td>\n",
       "      <td>27-Jul-01</td>\n",
       "      <td>6004</td>\n",
       "    </tr>\n",
       "    <tr>\n",
       "      <th>561</th>\n",
       "      <td>Malta National Bank</td>\n",
       "      <td>Malta</td>\n",
       "      <td>6629</td>\n",
       "      <td>North Valley Bank</td>\n",
       "      <td>3-May-01</td>\n",
       "      <td>4648</td>\n",
       "    </tr>\n",
       "    <tr>\n",
       "      <th>562</th>\n",
       "      <td>First Alliance Bank &amp; Trust Co.</td>\n",
       "      <td>Manchester</td>\n",
       "      <td>34264</td>\n",
       "      <td>Southern New Hampshire Bank &amp; Trust</td>\n",
       "      <td>2-Feb-01</td>\n",
       "      <td>4647</td>\n",
       "    </tr>\n",
       "    <tr>\n",
       "      <th>563</th>\n",
       "      <td>National State Bank of Metropolis</td>\n",
       "      <td>Metropolis</td>\n",
       "      <td>3815</td>\n",
       "      <td>Banterra Bank of Marion</td>\n",
       "      <td>14-Dec-00</td>\n",
       "      <td>4646</td>\n",
       "    </tr>\n",
       "    <tr>\n",
       "      <th>564</th>\n",
       "      <td>Bank of Honolulu</td>\n",
       "      <td>Honolulu</td>\n",
       "      <td>21029</td>\n",
       "      <td>Bank of the Orient</td>\n",
       "      <td>13-Oct-00</td>\n",
       "      <td>4645</td>\n",
       "    </tr>\n",
       "  </tbody>\n",
       "</table>\n",
       "<p>565 rows × 6 columns</p>\n",
       "</div>"
      ],
      "text/plain": [
       "                            Bank Name�              City�  Cert�  \\\n",
       "0                       Signature Bank           New York  57053   \n",
       "1                  Silicon Valley Bank        Santa Clara  24735   \n",
       "2                    Almena State Bank             Almena  15426   \n",
       "3           First City Bank of Florida  Fort Walton Beach  16748   \n",
       "4                 The First State Bank      Barboursville  14361   \n",
       "..                                 ...                ...    ...   \n",
       "560                 Superior Bank, FSB           Hinsdale  32646   \n",
       "561                Malta National Bank              Malta   6629   \n",
       "562    First Alliance Bank & Trust Co.         Manchester  34264   \n",
       "563  National State Bank of Metropolis         Metropolis   3815   \n",
       "564                   Bank of Honolulu           Honolulu  21029   \n",
       "\n",
       "                  Acquiring Institution� Closing Date�   Fund  \n",
       "0                    Flagstar Bank, N.A.     12-Mar-23  10540  \n",
       "1       Silicon Valley Bridge Bank, N.A.     10-Mar-23  10539  \n",
       "2                            Equity Bank     23-Oct-20  10538  \n",
       "3              United Fidelity Bank, fsb     16-Oct-20  10537  \n",
       "4                         MVB Bank, Inc.      3-Apr-20  10536  \n",
       "..                                   ...           ...    ...  \n",
       "560                Superior Federal, FSB     27-Jul-01   6004  \n",
       "561                    North Valley Bank      3-May-01   4648  \n",
       "562  Southern New Hampshire Bank & Trust      2-Feb-01   4647  \n",
       "563              Banterra Bank of Marion     14-Dec-00   4646  \n",
       "564                   Bank of the Orient     13-Oct-00   4645  \n",
       "\n",
       "[565 rows x 6 columns]"
      ]
     },
     "execution_count": 53,
     "metadata": {},
     "output_type": "execute_result"
    }
   ],
   "source": [
    "df.drop(columns=[\"State�\"])"
   ]
  },
  {
   "cell_type": "code",
   "execution_count": 63,
   "id": "253505da",
   "metadata": {},
   "outputs": [],
   "source": []
  },
  {
   "cell_type": "code",
   "execution_count": null,
   "id": "f425cf93",
   "metadata": {},
   "outputs": [],
   "source": [
    "# Tried to Remove the Character � from column headers 2, 3, 4, 5, 6 but proved elusive so decided to leave it.\n",
    "# It only affected the column name as far as I could decipher."
   ]
  },
  {
   "cell_type": "code",
   "execution_count": 65,
   "id": "d08728db",
   "metadata": {},
   "outputs": [],
   "source": [
    "# Remove a character from all columns\n",
    "# df = pd.read_csv(\"Failed_Bank_List.csv\")\n",
    "# character_to_remove = '�'\n",
    "# df = df.applymap(lambda x: x.replace(character_to_remove, ''))\n",
    "# print(df)"
   ]
  },
  {
   "cell_type": "code",
   "execution_count": 62,
   "id": "059459ce",
   "metadata": {},
   "outputs": [],
   "source": []
  },
  {
   "cell_type": "code",
   "execution_count": null,
   "id": "5587bee2",
   "metadata": {},
   "outputs": [],
   "source": [
    "# Understand the size, entries, datatypes, rows and columns in the Dataset"
   ]
  },
  {
   "cell_type": "code",
   "execution_count": 66,
   "id": "2f2d7cdb",
   "metadata": {},
   "outputs": [
    {
     "name": "stdout",
     "output_type": "stream",
     "text": [
      "<class 'pandas.core.frame.DataFrame'>\n",
      "RangeIndex: 565 entries, 0 to 564\n",
      "Data columns (total 7 columns):\n",
      " #   Column                  Non-Null Count  Dtype \n",
      "---  ------                  --------------  ----- \n",
      " 0   Bank Name�              565 non-null    object\n",
      " 1   City�                   565 non-null    object\n",
      " 2   State�                  565 non-null    object\n",
      " 3   Cert�                   565 non-null    int64 \n",
      " 4   Acquiring Institution�  565 non-null    object\n",
      " 5   Closing Date�           565 non-null    object\n",
      " 6   Fund                    565 non-null    int64 \n",
      "dtypes: int64(2), object(5)\n",
      "memory usage: 31.0+ KB\n"
     ]
    }
   ],
   "source": [
    "df.info()"
   ]
  },
  {
   "cell_type": "code",
   "execution_count": 67,
   "id": "a91ffda9",
   "metadata": {},
   "outputs": [],
   "source": [
    "# check for duplicate values and drop any duplicated rows"
   ]
  },
  {
   "cell_type": "code",
   "execution_count": 68,
   "id": "38630262",
   "metadata": {},
   "outputs": [
    {
     "name": "stdout",
     "output_type": "stream",
     "text": [
      "\n",
      "\n",
      "Duplicate Rows : \n",
      " Empty DataFrame\n",
      "Columns: [Bank Name�, City�, State�, Cert�, Acquiring Institution�, Closing Date�, Fund]\n",
      "Index: []\n"
     ]
    }
   ],
   "source": [
    "df_state = pd.read_csv(\"Failed_Bank_List.csv\")\n",
    "Dup_Rows = df_state[df_state.duplicated()]\n",
    "print(\"\\n\\nDuplicate Rows : \\n {}\".format(Dup_Rows))"
   ]
  },
  {
   "cell_type": "code",
   "execution_count": 69,
   "id": "01236b37",
   "metadata": {},
   "outputs": [
    {
     "name": "stdout",
     "output_type": "stream",
     "text": [
      "No Duplicate Data Located in Failed_Bank_List.csv \n"
     ]
    }
   ],
   "source": [
    "print(\"No Duplicate Data Located in Failed_Bank_List.csv \")"
   ]
  },
  {
   "cell_type": "code",
   "execution_count": 70,
   "id": "4ad4044a",
   "metadata": {},
   "outputs": [],
   "source": [
    "# check for null values "
   ]
  },
  {
   "cell_type": "code",
   "execution_count": 71,
   "id": "f94d79a6",
   "metadata": {},
   "outputs": [
    {
     "data": {
      "text/plain": [
       "Bank Name�                False\n",
       "City�                     False\n",
       "State�                    False\n",
       "Cert�                     False\n",
       "Acquiring Institution�    False\n",
       "Closing Date�             False\n",
       "Fund                      False\n",
       "dtype: bool"
      ]
     },
     "execution_count": 71,
     "metadata": {},
     "output_type": "execute_result"
    }
   ],
   "source": [
    "Failed_Banks.isnull().any()"
   ]
  },
  {
   "cell_type": "code",
   "execution_count": 72,
   "id": "46f83bcc",
   "metadata": {},
   "outputs": [
    {
     "name": "stdout",
     "output_type": "stream",
     "text": [
      "No Null Data Located in Failed_Bank_List.csv \n"
     ]
    }
   ],
   "source": [
    "print(\"No Null Data Located in Failed_Bank_List.csv \")"
   ]
  },
  {
   "cell_type": "code",
   "execution_count": null,
   "id": "47f08738",
   "metadata": {},
   "outputs": [],
   "source": []
  },
  {
   "cell_type": "code",
   "execution_count": 75,
   "id": "fde1373b",
   "metadata": {},
   "outputs": [],
   "source": [
    "# The OECD Unemployment Data from from 2000 - 2023"
   ]
  },
  {
   "cell_type": "code",
   "execution_count": 160,
   "id": "3031c156",
   "metadata": {},
   "outputs": [],
   "source": [
    "# This dataset was selected and downloaded from the OECD https://data.oecd.org/unemp/unemployment-rate.htm"
   ]
  },
  {
   "cell_type": "code",
   "execution_count": 161,
   "id": "a64ae47c",
   "metadata": {},
   "outputs": [],
   "source": [
    "df1 = pd.read_csv(\"Unemployment_Data.csv\")"
   ]
  },
  {
   "cell_type": "code",
   "execution_count": 162,
   "id": "8ef8da05",
   "metadata": {},
   "outputs": [
    {
     "name": "stdout",
     "output_type": "stream",
     "text": [
      "  LOCATION INDICATOR SUBJECT MEASURE FREQUENCY    TIME  Value Flag Codes\n",
      "0      USA       HUR     TOT   PC_LF         M  Dec-99    4.0        NaN\n",
      "1      USA       HUR     TOT   PC_LF         M  Jan-00    4.0        NaN\n",
      "2      USA       HUR     TOT   PC_LF         M  Feb-00    4.1        NaN\n",
      "3      USA       HUR     TOT   PC_LF         M  Mar-00    4.0        NaN\n",
      "4      USA       HUR     TOT   PC_LF         M  Apr-00    3.8        NaN\n"
     ]
    }
   ],
   "source": [
    "print(df1.head())"
   ]
  },
  {
   "cell_type": "code",
   "execution_count": 152,
   "id": "bc96b9f3",
   "metadata": {},
   "outputs": [],
   "source": [
    "# New File Created Unemployment_Data_nodup.csv without any duplicate rows"
   ]
  },
  {
   "cell_type": "code",
   "execution_count": 163,
   "id": "6670fb83",
   "metadata": {},
   "outputs": [],
   "source": [
    "# Remove columns, duplicate values and NaN values from the the Dataframe & overwrite "
   ]
  },
  {
   "cell_type": "code",
   "execution_count": 165,
   "id": "2f1bde86",
   "metadata": {},
   "outputs": [],
   "source": [
    "df = pd.read_csv(\"Unemployment_Data_nodup.csv\")\n",
    "\n",
    "# Remove useless columns\n",
    "columns_to_remove = ['INDICATOR', 'MEASURE', 'SUBJECT', 'Flag Codes']\n",
    "df = df.drop(columns_to_remove, axis=1)\n",
    "\n",
    "# Remove duplicate rows\n",
    "df = df.drop_duplicates()\n",
    "\n",
    "# Remove all of the NaN values\n",
    "df = df.dropna()\n",
    "\n",
    "# Save a new cleaned DataFrame to a new CSV file\n",
    "df.to_csv(\"Unemployment_Data_cleaned.csv\", index=False)"
   ]
  },
  {
   "cell_type": "code",
   "execution_count": 166,
   "id": "f85ae36f",
   "metadata": {},
   "outputs": [
    {
     "name": "stdout",
     "output_type": "stream",
     "text": [
      "  LOCATION FREQUENCY    TIME  Value\n",
      "0      USA         M  Dec-99    4.0\n",
      "1      USA         M  Jan-00    4.0\n",
      "2      USA         M  Feb-00    4.1\n",
      "3      USA         M  Mar-00    4.0\n",
      "4      USA         M  Apr-00    3.8\n"
     ]
    }
   ],
   "source": [
    "df2 = pd.read_csv(\"Unemployment_Data_cleaned.csv\")\n",
    "print(df2.head())"
   ]
  },
  {
   "cell_type": "code",
   "execution_count": null,
   "id": "57380921",
   "metadata": {},
   "outputs": [],
   "source": []
  },
  {
   "cell_type": "code",
   "execution_count": null,
   "id": "a9f2862e",
   "metadata": {},
   "outputs": [],
   "source": [
    "# Your project should use Regex to extract a pattern in data (10)"
   ]
  },
  {
   "cell_type": "code",
   "execution_count": 171,
   "id": "cba33c59",
   "metadata": {},
   "outputs": [],
   "source": [
    "# Extract the number of failed banks in Chicago (Full timeline)"
   ]
  },
  {
   "cell_type": "code",
   "execution_count": 182,
   "id": "d6a90f4a",
   "metadata": {},
   "outputs": [],
   "source": [
    "df = pd.read_csv(\"Failed_Bank_List.csv\")"
   ]
  },
  {
   "cell_type": "code",
   "execution_count": 183,
   "id": "222da058",
   "metadata": {},
   "outputs": [
    {
     "name": "stdout",
     "output_type": "stream",
     "text": [
      "Chicago Banks:\n",
      "1. Washington Federal Bank for Savings\n",
      "2. Seaway Bank and Trust Company\n",
      "3. Edgebrook Bank\n",
      "4. Highland Community Bank\n",
      "5. The National Republic Bank of Chicago\n",
      "6. GreenChoice Bank, fsb\n",
      "7. DuPage National Bank\n",
      "8. Covenant Bank\n",
      "9. Second Federal Savings and Loan Association of Chicago\n",
      "10. New City Bank\n",
      "11. First Chicago Bank & Trust\n",
      "12. Community First Bank Chicago\n",
      "13. ShoreBank\n",
      "14. Ravenswood Bank\n",
      "15. Lincoln Park Savings Bank\n",
      "16. New Century Bank\n",
      "17. Citizens Bank and Trust Company of Chicago\n",
      "18. Broadway Bank\n",
      "19. Park National Bank\n",
      "20. Corus Bank, N.A.\n",
      "21. Universal Federal Savings Bank\n"
     ]
    }
   ],
   "source": [
    "import re\n",
    "import csv\n",
    "\n",
    "def find_chicago_banks(file_path):\n",
    "    matches = []\n",
    "    with open(file_path, 'r') as file:\n",
    "        reader = csv.reader(file)\n",
    "        for row in reader:\n",
    "            if len(row) > 1 and re.search(r'\\bChicago\\b', row[1], re.IGNORECASE):\n",
    "                matches.append(row[0])\n",
    "    return matches\n",
    "\n",
    "file_path = r'C:/Users/pmanu/github/my_project/Failed_Bank_List.csv'\n",
    "\n",
    "chicago_banks = find_chicago_banks(file_path)\n",
    "\n",
    "# Print the number of failed banks in Chicago only \n",
    "print(\"Chicago Banks:\")\n",
    "for index, bank_name in enumerate(chicago_banks, start=1):\n",
    "    print(f\"{index}. {bank_name}\")"
   ]
  },
  {
   "cell_type": "code",
   "execution_count": 184,
   "id": "21df150b",
   "metadata": {},
   "outputs": [
    {
     "name": "stdout",
     "output_type": "stream",
     "text": [
      "The number of Failed Banks in Chicago alone between 13-Oct-00 and 12-Mar-23 is :  21\n"
     ]
    }
   ],
   "source": [
    "print(\"The number of Failed Banks in Chicago alone between 13-Oct-00 and 12-Mar-23 is : \", 21)"
   ]
  },
  {
   "cell_type": "code",
   "execution_count": null,
   "id": "d00ee513",
   "metadata": {},
   "outputs": [],
   "source": [
    "# Dictionary or Lists (5)"
   ]
  },
  {
   "cell_type": "code",
   "execution_count": 187,
   "id": "c61d91b0",
   "metadata": {},
   "outputs": [],
   "source": [
    "# Make use of iterators (5)"
   ]
  },
  {
   "cell_type": "code",
   "execution_count": null,
   "id": "cb91be94",
   "metadata": {},
   "outputs": [],
   "source": [
    "# Create a simple list of the Unemployment data that uses iterators"
   ]
  },
  {
   "cell_type": "code",
   "execution_count": 186,
   "id": "fd41cfe7",
   "metadata": {},
   "outputs": [
    {
     "name": "stdout",
     "output_type": "stream",
     "text": [
      "TIME: Dec-99, Feb-00, Apr-00, Jun-00, Aug-00, Oct-00, Dec-00, 01-Feb, 01-Apr, 01-Jun, 01-Aug, 01-Oct, 01-Dec, 02-Feb, 02-Apr, 02-Jun, 02-Aug, 02-Oct, 02-Dec, 03-Feb, 03-Apr, 03-Jun, 03-Aug, 03-Oct, 03-Dec, 04-Feb, 04-Apr, 04-Jun, 04-Aug, 04-Oct, 04-Dec, 05-Feb, 05-Apr, 05-Jun, 05-Aug, 05-Oct, 05-Dec, 06-Feb, 06-Apr, 06-Jun, 06-Aug, 06-Oct, 06-Dec, 07-Feb, 07-Apr, 07-Jun, 07-Aug, 07-Oct, 07-Dec, 08-Feb, 08-Apr, 08-Jun, 08-Aug, 08-Oct, 08-Dec, 09-Feb, 09-Apr, 09-Jun, 09-Aug, 09-Oct, 09-Dec, 10-Feb, 10-Apr, 10-Jun, 10-Aug, 10-Oct, 10-Dec, 11-Feb, 11-Apr, 11-Jun, 11-Aug, 11-Oct, 11-Dec, 12-Feb, 12-Apr, 12-Jun, 12-Aug, 12-Oct, 12-Dec, 13-Feb, 13-Apr, 13-Jun, 13-Aug, 13-Oct, 13-Dec, 14-Feb, 14-Apr, 14-Jun, 14-Aug, 14-Oct, 14-Dec, 15-Feb, 15-Apr, 15-Jun, 15-Aug, 15-Oct, 15-Dec, 16-Feb, 16-Apr, 16-Jun, 16-Aug, 16-Oct, 16-Dec, 17-Feb, 17-Apr, 17-Jun, 17-Aug, 17-Oct, 17-Dec, 18-Feb, 18-Apr, 18-Jun, 18-Aug, 18-Oct, 18-Dec, 19-Feb, 19-Apr, 19-Jun, 19-Aug, 19-Oct, 19-Dec, 20-Feb, 20-Apr, 20-Jun, 20-Aug, 20-Oct, 20-Dec, 21-Feb, 21-Apr, 21-Jun, 21-Aug, 21-Oct, 21-Dec, 22-Feb, 22-Apr, 22-Jun, 22-Aug, 22-Oct, 22-Dec, 23-Feb, 23-Apr\n",
      "Value: 4.0, 4.1, 3.8, 4.0, 4.1, 3.9, 3.9, 4.2, 4.4, 4.5, 4.9, 5.3, 5.7, 5.7, 5.9, 5.8, 5.7, 5.7, 6.0, 5.9, 6.0, 6.3, 6.1, 6.0, 5.7, 5.6, 5.6, 5.6, 5.4, 5.5, 5.4, 5.4, 5.2, 5.0, 4.9, 5.0, 4.9, 4.8, 4.7, 4.6, 4.7, 4.4, 4.4, 4.5, 4.5, 4.6, 4.6, 4.7, 5.0, 4.9, 5.0, 5.6, 6.1, 6.5, 7.3, 8.3, 9.0, 9.5, 9.6, 10.0, 9.9, 9.8, 9.9, 9.4, 9.5, 9.4, 9.3, 9.0, 9.1, 9.1, 9.0, 8.8, 8.5, 8.3, 8.2, 8.2, 8.1, 7.8, 7.9, 7.7, 7.6, 7.5, 7.2, 7.2, 6.7, 6.7, 6.2, 6.1, 6.1, 5.7, 5.6, 5.5, 5.4, 5.3, 5.1, 5.0, 5.0, 4.9, 5.1, 4.9, 4.9, 4.9, 4.7, 4.6, 4.4, 4.3, 4.4, 4.2, 4.1, 4.1, 4.0, 4.0, 3.8, 3.8, 3.9, 3.8, 3.6, 3.6, 3.7, 3.6, 3.6, 3.5, 14.7, 11.0, 8.4, 6.9, 6.7, 6.2, 6.1, 5.9, 5.2, 4.5, 3.9, 3.8, 3.6, 3.6, 3.7, 3.7, 3.5, 3.6, 3.4\n"
     ]
    }
   ],
   "source": [
    "data = pd.read_csv(\"Unemployment_Data_cleaned.csv\")\n",
    "\n",
    "# The column data needs to be amended to list format\n",
    "month = data['TIME'].tolist()\n",
    "fc = [str(value) if not pd.isnull(value) else '' for value in data['Value'].tolist()]\n",
    "\n",
    "# Make iterators\n",
    "month_iter = iter(month)\n",
    "fc_iter = iter(fc)\n",
    "\n",
    "print(\"TIME: \", end=\"\")\n",
    "for m in month_iter:\n",
    "    print(m, end=\", \" if next(month_iter, None) else \"\\n\")\n",
    "\n",
    "print(\"Value: \", end=\"\")\n",
    "for f in fc_iter:\n",
    "    print(f, end=\", \" if next(fc_iter, None) else \"\\n\")"
   ]
  },
  {
   "cell_type": "code",
   "execution_count": null,
   "id": "0e9f82d8",
   "metadata": {},
   "outputs": [],
   "source": []
  },
  {
   "cell_type": "code",
   "execution_count": 188,
   "id": "9cf360a4",
   "metadata": {},
   "outputs": [],
   "source": [
    "# Print manual data list of Number of Bank Failures each Year side by side with for loop (iterate over sequence)"
   ]
  },
  {
   "cell_type": "code",
   "execution_count": 189,
   "id": "7defd4ba",
   "metadata": {},
   "outputs": [
    {
     "name": "stdout",
     "output_type": "stream",
     "text": [
      "Failures\tYear\n",
      "----------------------\n",
      "2\t\t2000\n",
      "4\t\t2001\n",
      "11\t\t2002\n",
      "3\t\t2003\n",
      "4\t\t2004\n",
      "0\t\t2005\n",
      "0\t\t2006\n",
      "3\t\t2007\n",
      "25\t\t2008\n",
      "140\t\t2009\n",
      "157\t\t2010\n",
      "92\t\t2011\n",
      "51\t\t2012\n",
      "24\t\t2013\n",
      "18\t\t2014\n",
      "8\t\t2015\n",
      "5\t\t2016\n",
      "8\t\t2017\n",
      "0\t\t2018\n",
      "4\t\t2019\n",
      "4\t\t2020\n",
      "0\t\t2021\n",
      "0\t\t2022\n",
      "2\t\t2023\n"
     ]
    }
   ],
   "source": [
    "a = ['2', '4', '11', '3', '4', '0', '0', '3', '25', '140', '157', '92', '51', '24', '18', '8', '5', '8', '0', '4', '4', '0', '0', '2']\n",
    "b = ['2000', '2001', '2002', '2003', '2004', '2005', '2006', '2007', '2008', '2009', '2010', '2011', '2012', '2013', '2014', '2015', '2016', '2017', '2018', '2019', '2020', '2021', '2022', '2023']\n",
    "\n",
    "print(\"Failures\\tYear\")\n",
    "print(\"----------------------\")\n",
    "\n",
    "for i in range(len(a)):\n",
    "    print(a[i] + '\\t\\t' + b[i])\n",
    "    "
   ]
  },
  {
   "cell_type": "code",
   "execution_count": null,
   "id": "4350e2f0",
   "metadata": {},
   "outputs": [],
   "source": []
  },
  {
   "cell_type": "code",
   "execution_count": 198,
   "id": "686f35ae",
   "metadata": {},
   "outputs": [],
   "source": [
    "# Merge the Dataframes (5)"
   ]
  },
  {
   "cell_type": "code",
   "execution_count": 201,
   "id": "f4f7f89e",
   "metadata": {},
   "outputs": [],
   "source": [
    "# Difficulty here is there are no common column values in the dataframes so they have to be \n",
    "# concatonated into a single dataframe if they are to be merged for example vertically. "
   ]
  },
  {
   "cell_type": "code",
   "execution_count": 203,
   "id": "fba89de9",
   "metadata": {},
   "outputs": [
    {
     "name": "stdout",
     "output_type": "stream",
     "text": [
      "                     Bank Name�              City� State�    Cert�  \\\n",
      "0                Signature Bank           New York     NY  57053.0   \n",
      "1           Silicon Valley Bank        Santa Clara     CA  24735.0   \n",
      "2             Almena State Bank             Almena     KS  15426.0   \n",
      "3    First City Bank of Florida  Fort Walton Beach     FL  16748.0   \n",
      "4          The First State Bank      Barboursville     WV  14361.0   \n",
      "..                          ...                ...    ...      ...   \n",
      "841                         NaN                NaN    NaN      NaN   \n",
      "842                         NaN                NaN    NaN      NaN   \n",
      "843                         NaN                NaN    NaN      NaN   \n",
      "844                         NaN                NaN    NaN      NaN   \n",
      "845                         NaN                NaN    NaN      NaN   \n",
      "\n",
      "               Acquiring Institution� Closing Date�     Fund  \\\n",
      "0                 Flagstar Bank, N.A.     12-Mar-23  10540.0   \n",
      "1    Silicon Valley Bridge Bank, N.A.     10-Mar-23  10539.0   \n",
      "2                         Equity Bank     23-Oct-20  10538.0   \n",
      "3           United Fidelity Bank, fsb     16-Oct-20  10537.0   \n",
      "4                      MVB Bank, Inc.      3-Apr-20  10536.0   \n",
      "..                                ...           ...      ...   \n",
      "841                               NaN           NaN      NaN   \n",
      "842                               NaN           NaN      NaN   \n",
      "843                               NaN           NaN      NaN   \n",
      "844                               NaN           NaN      NaN   \n",
      "845                               NaN           NaN      NaN   \n",
      "\n",
      "                Source LOCATION FREQUENCY    TIME  Value  \n",
      "0     Failed_Bank_List      NaN       NaN     NaN    NaN  \n",
      "1     Failed_Bank_List      NaN       NaN     NaN    NaN  \n",
      "2     Failed_Bank_List      NaN       NaN     NaN    NaN  \n",
      "3     Failed_Bank_List      NaN       NaN     NaN    NaN  \n",
      "4     Failed_Bank_List      NaN       NaN     NaN    NaN  \n",
      "..                 ...      ...       ...     ...    ...  \n",
      "841  Unemployment_Data      USA         M  22-Dec    3.5  \n",
      "842  Unemployment_Data      USA         M  23-Jan    3.4  \n",
      "843  Unemployment_Data      USA         M  23-Feb    3.6  \n",
      "844  Unemployment_Data      USA         M  23-Mar    3.5  \n",
      "845  Unemployment_Data      USA         M  23-Apr    3.4  \n",
      "\n",
      "[846 rows x 12 columns]\n"
     ]
    }
   ],
   "source": [
    "import pandas as pd\n",
    "\n",
    "df_failed_banks = pd.read_csv(\"Failed_Bank_List.csv\")\n",
    "df_unemployment = pd.read_csv(\"Unemployment_Data_cleaned.csv\")\n",
    "\n",
    "# Add a column to each to help identify source\n",
    "df_failed_banks['Source'] = 'Failed_Bank_List'\n",
    "df_unemployment['Source'] = 'Unemployment_Data'\n",
    "\n",
    "# Concatenate them both vertically\n",
    "merged_df = pd.concat([df_failed_banks, df_unemployment], ignore_index=True)\n",
    "\n",
    "\n",
    "print(merged_df)"
   ]
  },
  {
   "cell_type": "code",
   "execution_count": null,
   "id": "b285abff",
   "metadata": {},
   "outputs": [],
   "source": []
  },
  {
   "cell_type": "code",
   "execution_count": null,
   "id": "83846e9c",
   "metadata": {},
   "outputs": [],
   "source": [
    "# NumPy (5)"
   ]
  },
  {
   "cell_type": "code",
   "execution_count": 212,
   "id": "1f698693",
   "metadata": {},
   "outputs": [],
   "source": [
    "# Calculate the Average Unemployment % from Dec 99 to Apr 23 in the USA "
   ]
  },
  {
   "cell_type": "code",
   "execution_count": 219,
   "id": "235fed67",
   "metadata": {},
   "outputs": [
    {
     "name": "stdout",
     "output_type": "stream",
     "text": [
      "Average Value: 5.82\n"
     ]
    }
   ],
   "source": [
    "import numpy as np\n",
    "import pandas as pd\n",
    "\n",
    "df_unemployment = pd.read_csv(\"Unemployment_Data_cleaned.csv\")\n",
    "\n",
    "# Move the 'Value' column into numpy array\n",
    "values = df_unemployment['Value'].to_numpy()\n",
    "\n",
    "# Get the average\n",
    "average_value = np.mean(values)\n",
    "\n",
    "print(\"Average Value: {:.2f}\".format(average_value))"
   ]
  },
  {
   "cell_type": "code",
   "execution_count": 220,
   "id": "7eb731de",
   "metadata": {},
   "outputs": [
    {
     "name": "stdout",
     "output_type": "stream",
     "text": [
      "The average % Unemployment rate according to the OECD in the USA between Dec 99 and Apr 23 is  :  5.82\n"
     ]
    }
   ],
   "source": [
    "print(\"The average % Unemployment rate according to the OECD in the USA between Dec 99 and Apr 23 is  : \", 5.82 )"
   ]
  },
  {
   "cell_type": "code",
   "execution_count": null,
   "id": "f8cbe519",
   "metadata": {},
   "outputs": [],
   "source": []
  },
  {
   "cell_type": "code",
   "execution_count": 221,
   "id": "d63fef5c",
   "metadata": {},
   "outputs": [],
   "source": [
    "# Identify the highest and lowest % unemployment in the USA between Dec 99 and Apr 23"
   ]
  },
  {
   "cell_type": "code",
   "execution_count": 222,
   "id": "ffaea42e",
   "metadata": {},
   "outputs": [
    {
     "name": "stdout",
     "output_type": "stream",
     "text": [
      "Highest Value: 14.70\n",
      "Lowest Value: 3.40\n"
     ]
    }
   ],
   "source": [
    "df_unemployment = pd.read_csv(\"Unemployment_Data_cleaned.csv\")\n",
    "\n",
    "values = df_unemployment['Value'].to_numpy()\n",
    "\n",
    "# Find the highest and lowest values using numpy\n",
    "max_value = np.max(values)\n",
    "min_value = np.min(values)\n",
    "\n",
    "print(\"Highest Value: {:.2f}\".format(max_value))\n",
    "print(\"Lowest Value: {:.2f}\".format(min_value))"
   ]
  },
  {
   "cell_type": "code",
   "execution_count": null,
   "id": "4714a6c5",
   "metadata": {},
   "outputs": [],
   "source": [
    "print(\"The average % Unemployment rate according to the OECD in the USA between Dec 99 and Apr 23 is  : \", 5.82 )"
   ]
  },
  {
   "cell_type": "code",
   "execution_count": null,
   "id": "ae5057d7",
   "metadata": {},
   "outputs": [],
   "source": []
  },
  {
   "cell_type": "code",
   "execution_count": 227,
   "id": "57ef65eb",
   "metadata": {},
   "outputs": [],
   "source": [
    "# Identify the month the highest and lowest % unemployment occured in the USA between Dec 99 and Apr 23"
   ]
  },
  {
   "cell_type": "code",
   "execution_count": 228,
   "id": "a65dff40",
   "metadata": {},
   "outputs": [
    {
     "name": "stdout",
     "output_type": "stream",
     "text": [
      "Time at Highest Value: 20-Apr\n",
      "Time at Lowest Value: 23-Jan\n"
     ]
    }
   ],
   "source": [
    "df_unemployment = pd.read_csv(\"Unemployment_Data_cleaned.csv\")\n",
    "\n",
    "values = df_unemployment['Value'].to_numpy()\n",
    "times = df_unemployment['TIME'].to_numpy()\n",
    "\n",
    "# Find the index of the highest and lowest values using numpy\n",
    "max_index = np.argmax(values)\n",
    "min_index = np.argmin(values)\n",
    "\n",
    "# Locate corresponding values in the 'TIME' column\n",
    "time_at_max_value = times[max_index]\n",
    "time_at_min_value = times[min_index]\n",
    "\n",
    "print(\"Time at Highest Value: {}\".format(time_at_max_value))\n",
    "print(\"Time at Lowest Value: {}\".format(time_at_min_value))"
   ]
  },
  {
   "cell_type": "code",
   "execution_count": 233,
   "id": "58254765",
   "metadata": {},
   "outputs": [
    {
     "name": "stdout",
     "output_type": "stream",
     "text": [
      "The highest Unemployment occured in April 20 and the lowest in Jan 23.\n"
     ]
    }
   ],
   "source": [
    "print(\"The highest Unemployment occured in April 20 and the lowest in Jan 23.\")"
   ]
  },
  {
   "cell_type": "code",
   "execution_count": null,
   "id": "b6ea6fa3",
   "metadata": {},
   "outputs": [],
   "source": []
  },
  {
   "cell_type": "code",
   "execution_count": null,
   "id": "230aa01f",
   "metadata": {},
   "outputs": [],
   "source": [
    "# Predict a target variable with Supervised or Unsupervised algorithm (15)"
   ]
  },
  {
   "cell_type": "code",
   "execution_count": null,
   "id": "9c469cbe",
   "metadata": {},
   "outputs": [],
   "source": [
    "# I couldnt get this to provide any insight as such but allowed the K means to seek similarities in the data, \n",
    "# there is an error listed at the borrom of the code, this was the only way it ran and gave output so left it alone. "
   ]
  },
  {
   "cell_type": "code",
   "execution_count": 265,
   "id": "09d36b91",
   "metadata": {},
   "outputs": [
    {
     "name": "stdout",
     "output_type": "stream",
     "text": [
      "Cluster 0:\n",
      "                                           Bank Name�               City�  \\\n",
      "0                                      Signature Bank            New York   \n",
      "1                                 Silicon Valley Bank         Santa Clara   \n",
      "2                                   Almena State Bank              Almena   \n",
      "3                          First City Bank of Florida   Fort Walton Beach   \n",
      "4                                The First State Bank       Barboursville   \n",
      "5                                  Ericson State Bank             Ericson   \n",
      "6                    City National Bank of New Jersey              Newark   \n",
      "7                                       Resolute Bank              Maumee   \n",
      "8                               Louisa Community Bank              Louisa   \n",
      "9                                The Enloe State Bank              Cooper   \n",
      "10                Washington Federal Bank for Savings             Chicago   \n",
      "11    The Farmers and Merchants State Bank of Argonia             Argonia   \n",
      "12                                Fayette County Bank          Saint Elmo   \n",
      "13  Guaranty Bank, (d/b/a BestBank in Georgia & Mi...           Milwaukee   \n",
      "14                                     First NBC Bank         New Orleans   \n",
      "15                                      Proficio Bank  Cottonwood Heights   \n",
      "16                      Seaway Bank and Trust Company             Chicago   \n",
      "17                             Harvest Community Bank          Pennsville   \n",
      "18                                        Allied Bank            Mulberry   \n",
      "19                       The Woodbury Banking Company            Woodbury   \n",
      "20                             First CornerStone Bank     King of Prussia   \n",
      "21                                 Trust Company Bank             Memphis   \n",
      "22                         North Milwaukee State Bank           Milwaukee   \n",
      "23                             Hometown National Bank            Longview   \n",
      "24                                The Bank of Georgia      Peachtree City   \n",
      "25                                       Premier Bank              Denver   \n",
      "27                                         Doral Bank            San Juan   \n",
      "28                  Capitol City Bank & Trust Company             Atlanta   \n",
      "29                            Highland Community Bank             Chicago   \n",
      "30                   First National Bank of Crestview           Crestview   \n",
      "31                                 Northern Star Bank             Mankato   \n",
      "32             Frontier Bank, FSB D/B/A El Paseo Bank         Palm Desert   \n",
      "35                              GreenChoice Bank, fsb             Chicago   \n",
      "38                                        Valley Bank     Fort Lauderdale   \n",
      "40                        Slavie Federal Savings Bank             Bel Air   \n",
      "41                              Columbia Savings Bank          Cincinnati   \n",
      "46                                       Syringa Bank               Boise   \n",
      "\n",
      "   State�  Cert�               Acquiring Institution� Closing Date�   Fund  \\\n",
      "0      NY  57053                  Flagstar Bank, N.A.     12-Mar-23  10540   \n",
      "1      CA  24735     Silicon Valley Bridge Bank, N.A.     10-Mar-23  10539   \n",
      "2      KS  15426                          Equity Bank     23-Oct-20  10538   \n",
      "3      FL  16748            United Fidelity Bank, fsb     16-Oct-20  10537   \n",
      "4      WV  14361                       MVB Bank, Inc.      3-Apr-20  10536   \n",
      "5      NE  18265           Farmers and Merchants Bank     14-Feb-20  10535   \n",
      "6      NJ  21111                      Industrial Bank      1-Nov-19  10534   \n",
      "7      OH  58317                   Buckeye State Bank     25-Oct-19  10533   \n",
      "8      KY  58112    Kentucky Farmers Bank Corporation     25-Oct-19  10532   \n",
      "9      TX  10716                   Legend Bank, N. A.     31-May-19  10531   \n",
      "10     IL  30570                   Royal Savings Bank     15-Dec-17  10530   \n",
      "11     KS  17719                          Conway Bank     13-Oct-17  10529   \n",
      "12     IL   1802            United Fidelity Bank, fsb     26-May-17  10528   \n",
      "13     WI  30003  First-Citizens Bank & Trust Company      5-May-17  10527   \n",
      "14     LA  58302                         Whitney Bank     28-Apr-17  10526   \n",
      "15     UT  35495                    Cache Valley Bank      3-Mar-17  10525   \n",
      "16     IL  19328                  State Bank of Texas     27-Jan-17  10524   \n",
      "17     NJ  34951  First-Citizens Bank & Trust Company     13-Jan-17  10523   \n",
      "18     AR     91                         Today's Bank     23-Sep-16  10522   \n",
      "19     GA  11297                          United Bank     19-Aug-16  10521   \n",
      "20     PA  35312  First-Citizens Bank & Trust Company      6-May-16  10520   \n",
      "21     TN   9956           The Bank of Fayette County     29-Apr-16  10519   \n",
      "22     WI  20364  First-Citizens Bank & Trust Company     11-Mar-16  10518   \n",
      "23     WA  35156                       Twin City Bank      2-Oct-15  10517   \n",
      "24     GA  35259                        Fidelity Bank      2-Oct-15  10516   \n",
      "25     CO  34112            United Fidelity Bank, fsb     10-Jul-15  10515   \n",
      "27     PR  32102         Banco Popular de Puerto Rico     27-Feb-15  10513   \n",
      "28     GA  33938  First-Citizens Bank & Trust Company     13-Feb-15  10512   \n",
      "29     IL  20290            United Fidelity Bank, fsb     23-Jan-15  10511   \n",
      "30     FL  17557                       First NBC Bank     16-Jan-15  10510   \n",
      "31     MN  34983                            BankVista     19-Dec-14  10509   \n",
      "32     CA  34738    Bank of Southern California, N.A.      7-Nov-14  10508   \n",
      "35     IL  28462                 Providence Bank, LLC     25-Jul-14  10505   \n",
      "38     FL  21793  Landmark Bank, National Association     20-Jun-14  10501   \n",
      "40     MD  32368                        Bay Bank, FSB     30-May-14  10500   \n",
      "41     OH  32284            United Fidelity Bank, fsb     23-May-14  10499   \n",
      "46     ID  34296                         Sunwest Bank     31-Jan-14  10494   \n",
      "\n",
      "    Cluster  \n",
      "0         0  \n",
      "1         0  \n",
      "2         0  \n",
      "3         0  \n",
      "4         0  \n",
      "5         0  \n",
      "6         0  \n",
      "7         0  \n",
      "8         0  \n",
      "9         0  \n",
      "10        0  \n",
      "11        0  \n",
      "12        0  \n",
      "13        0  \n",
      "14        0  \n",
      "15        0  \n",
      "16        0  \n",
      "17        0  \n",
      "18        0  \n",
      "19        0  \n",
      "20        0  \n",
      "21        0  \n",
      "22        0  \n",
      "23        0  \n",
      "24        0  \n",
      "25        0  \n",
      "27        0  \n",
      "28        0  \n",
      "29        0  \n",
      "30        0  \n",
      "31        0  \n",
      "32        0  \n",
      "35        0  \n",
      "38        0  \n",
      "40        0  \n",
      "41        0  \n",
      "46        0  \n",
      "\n",
      "\n",
      "Cluster 1:\n",
      "                                Bank Name�       City� State�  Cert�  \\\n",
      "33   The National Republic Bank of Chicago     Chicago     IL    916   \n",
      "34                          NBRS Financial  Rising Sun     MD   4862   \n",
      "37                  The Freedom State Bank     Freedom     OK  12483   \n",
      "39                             Valley Bank      Moline     IL  10450   \n",
      "43                   Allendale County Bank     Fairfax     SC  15062   \n",
      "..                                     ...         ...    ...    ...   \n",
      "526                              Ameribank   Northfork     WV   6782   \n",
      "529                 Columbian Bank & Trust      Topeka     KS  22728   \n",
      "534               First Integrity Bank, NA     Staples     MN  12736   \n",
      "536                              Hume Bank        Hume     MO   1971   \n",
      "538                      Miami Valley Bank    Lakeview     OH  16848   \n",
      "\n",
      "                                Acquiring Institution� Closing Date�   Fund  \\\n",
      "33                                 State Bank of Texas     24-Oct-14  10507   \n",
      "34                                         Howard Bank     17-Oct-14  10506   \n",
      "37                     Alva State Bank & Trust Company     27-Jun-14  10503   \n",
      "39                                 Great Southern Bank     20-Jun-14  10502   \n",
      "43                                 Palmetto State Bank     25-Apr-14  10497   \n",
      "..                                                 ...           ...    ...   \n",
      "526  The Citizens Savings Bank ********** Pioneer C...     19-Sep-08  10014   \n",
      "529                              Citizens Bank & Trust     22-Aug-08  10011   \n",
      "534                 First International Bank and Trust     30-May-08  10006   \n",
      "536                                      Security Bank      7-Mar-08  10004   \n",
      "538                       The Citizens Banking Company      4-Oct-07  10002   \n",
      "\n",
      "     Cluster  \n",
      "33         1  \n",
      "34         1  \n",
      "37         1  \n",
      "39         1  \n",
      "43         1  \n",
      "..       ...  \n",
      "526        1  \n",
      "529        1  \n",
      "534        1  \n",
      "536        1  \n",
      "538        1  \n",
      "\n",
      "[167 rows x 8 columns]\n",
      "\n",
      "\n",
      "Cluster 2:\n",
      "                       Bank Name�             City� State�  Cert�  \\\n",
      "67             First Federal Bank         Lexington     KY  29594   \n",
      "72        Westside Community Bank  University Place     WA  33997   \n",
      "73   Community Bank of the Ozarks     Sunrise Beach     MO  27331   \n",
      "77                      NOVA Bank            Berwyn     PA  27148   \n",
      "79   First East Side Savings Bank           Tamarac     FL  28144   \n",
      "..                            ...               ...    ...    ...   \n",
      "533                  IndyMac Bank          Pasadena     CA  29730   \n",
      "535             ANB Financial, NA       Bentonville     AR  33901   \n",
      "537        Douglass National Bank       Kansas City     MO  24660   \n",
      "539                       NetBank        Alpharetta     GA  32575   \n",
      "540     Metropolitan Savings Bank        Pittsburgh     PA  35353   \n",
      "\n",
      "                  Acquiring Institution� Closing Date�   Fund  Cluster  \n",
      "67                   Your Community Bank     19-Apr-13  10474        2  \n",
      "72                          Sunwest Bank     11-Jan-13  10468        2  \n",
      "73                      Bank of Sullivan     14-Dec-12  10467        2  \n",
      "77                           No Acquirer     26-Oct-12  10463        2  \n",
      "79                     Stearns Bank N.A.     19-Oct-12  10461        2  \n",
      "..                                   ...           ...    ...      ...  \n",
      "533                    OneWest Bank, FSB     11-Jul-08  10007        2  \n",
      "535       Pulaski Bank and Trust Company      9-May-08  10005        2  \n",
      "537       Liberty Bank and Trust Company     25-Jan-08  10003        2  \n",
      "539                           ING DIRECT     28-Sep-07  10001        2  \n",
      "540  Allegheny Valley Bank of Pittsburgh      2-Feb-07  10000        2  \n",
      "\n",
      "[166 rows x 8 columns]\n",
      "\n",
      "\n",
      "Cluster 3:\n",
      "                                Bank Name�            City� State�  Cert�  \\\n",
      "541                        Bank of Ephraim          Ephraim     UT   1249   \n",
      "542                          Reliance Bank     White Plains     NY  26778   \n",
      "543  Guaranty National Bank of Tallahassee      Tallahassee     FL  26838   \n",
      "544                    Dollar Savings Bank           Newark     NJ  31330   \n",
      "545                   Pulaski Savings Bank     Philadelphia     PA  27203   \n",
      "546  First National Bank of Blanchardville   Blanchardville     WI  11639   \n",
      "547                  Southern Pacific Bank         Torrance     CA  27094   \n",
      "548            Farmers Bank of Cheneyville      Cheneyville     LA  16445   \n",
      "549                          Bank of Alamo            Alamo     TN   9961   \n",
      "550             AmTrade International Bank          Atlanta     GA  33784   \n",
      "551         Universal Federal Savings Bank          Chicago     IL  29355   \n",
      "552           Connecticut Bank of Commerce         Stamford     CT  19183   \n",
      "553                       New Century Bank  Shelby Township     MI  34979   \n",
      "554                  Net 1st National Bank       Boca Raton     FL  26652   \n",
      "555                           NextBank, NA          Phoenix     AZ  22314   \n",
      "556               Oakwood Deposit Bank Co.          Oakwood     OH   8966   \n",
      "557                  Bank of Sierra Blanca    Sierra Blanca     TX  22002   \n",
      "558                      Hamilton Bank, NA            Miami     FL  24382   \n",
      "559                 Sinclair National Bank         Gravette     AR  34248   \n",
      "560                     Superior Bank, FSB         Hinsdale     IL  32646   \n",
      "561                    Malta National Bank            Malta     OH   6629   \n",
      "562        First Alliance Bank & Trust Co.       Manchester     NH  34264   \n",
      "563      National State Bank of Metropolis       Metropolis     IL   3815   \n",
      "564                       Bank of Honolulu         Honolulu     HI  21029   \n",
      "\n",
      "                  Acquiring Institution� Closing Date�  Fund  Cluster  \n",
      "541                        Far West Bank     25-Jun-04  4665        3  \n",
      "542                     Union State Bank     19-Mar-04  4664        3  \n",
      "543              Hancock Bank of Florida     12-Mar-04  4663        3  \n",
      "544                          No Acquirer     14-Feb-04  6006        3  \n",
      "545                       Earthstar Bank     14-Nov-03  4662        3  \n",
      "546                        The Park Bank      9-May-03  4661        3  \n",
      "547                            Beal Bank      7-Feb-03  4660        3  \n",
      "548            Sabine State Bank & Trust     17-Dec-02  4659        3  \n",
      "549                          No Acquirer      8-Nov-02  4658        3  \n",
      "550                          No Acquirer     30-Sep-02  4657        3  \n",
      "551               Chicago Community Bank     27-Jun-02  6005        3  \n",
      "552                   Hudson United Bank     26-Jun-02  4656        3  \n",
      "553                          No Acquirer     28-Mar-02  4655        3  \n",
      "554                       Bank Leumi USA      1-Mar-02  4654        3  \n",
      "555                          No Acquirer      7-Feb-02  4653        3  \n",
      "556       The State Bank & Trust Company      1-Feb-02  4652        3  \n",
      "557     The Security State Bank of Pecos     18-Jan-02  4651        3  \n",
      "558     Israel Discount Bank of New York     11-Jan-02  4650        3  \n",
      "559                   Delta Trust & Bank      7-Sep-01  4649        3  \n",
      "560                Superior Federal, FSB     27-Jul-01  6004        3  \n",
      "561                    North Valley Bank      3-May-01  4648        3  \n",
      "562  Southern New Hampshire Bank & Trust      2-Feb-01  4647        3  \n",
      "563              Banterra Bank of Marion     14-Dec-00  4646        3  \n",
      "564                   Bank of the Orient     13-Oct-00  4645        3  \n",
      "\n",
      "\n",
      "Cluster 4:\n",
      "                                Bank Name�          City� State�  Cert�  \\\n",
      "26                          Edgebrook Bank        Chicago     IL  57772   \n",
      "36                Eastside Commercial Bank        Conyers     GA  58125   \n",
      "42                       AztecAmerica Bank         Berwyn     IL  57866   \n",
      "44                      Vantage Point Bank        Horsham     PA  58531   \n",
      "45   Millennium Bank, National Association       Sterling     VA  35096   \n",
      "..                                     ...            ...    ...    ...   \n",
      "522                     Alpha Bank & Trust     Alpharetta     GA  58241   \n",
      "524                       Main Street Bank     Northville     MI  57654   \n",
      "528                         Integrity Bank     Alpharetta     GA  35469   \n",
      "530                    First Priority Bank      Bradenton     FL  57523   \n",
      "531                First Heritage Bank, NA  Newport Beach     CA  57961   \n",
      "\n",
      "        Acquiring Institution� Closing Date�   Fund  Cluster  \n",
      "26    Republic Bank of Chicago      8-May-15  10514        4  \n",
      "36   Community & Southern Bank     18-Jul-14  10504        4  \n",
      "42    Republic Bank of Chicago     16-May-14  10498        4  \n",
      "44           First Choice Bank     28-Feb-14  10496        4  \n",
      "45        WashingtonFirst Bank     28-Feb-14  10495        4  \n",
      "..                         ...           ...    ...      ...  \n",
      "522         Stearns Bank, N.A.     24-Oct-08  10018        4  \n",
      "524        Monroe Bank & Trust     10-Oct-08  10016        4  \n",
      "528               Regions Bank     29-Aug-08  10012        4  \n",
      "530              SunTrust Bank      1-Aug-08  10010        4  \n",
      "531       Mutual of Omaha Bank     25-Jul-08  10009        4  \n",
      "\n",
      "[171 rows x 8 columns]\n",
      "\n",
      "\n"
     ]
    },
    {
     "name": "stderr",
     "output_type": "stream",
     "text": [
      "<ipython-input-265-d0df3d948611>:13: SettingWithCopyWarning: \n",
      "A value is trying to be set on a copy of a slice from a DataFrame.\n",
      "Try using .loc[row_indexer,col_indexer] = value instead\n",
      "\n",
      "See the caveats in the documentation: https://pandas.pydata.org/pandas-docs/stable/user_guide/indexing.html#returning-a-view-versus-a-copy\n",
      "  preprocessed_data['Cert�'] = encoder.fit_transform(preprocessed_data['Cert�'])\n",
      "<ipython-input-265-d0df3d948611>:14: SettingWithCopyWarning: \n",
      "A value is trying to be set on a copy of a slice from a DataFrame.\n",
      "Try using .loc[row_indexer,col_indexer] = value instead\n",
      "\n",
      "See the caveats in the documentation: https://pandas.pydata.org/pandas-docs/stable/user_guide/indexing.html#returning-a-view-versus-a-copy\n",
      "  preprocessed_data['Closing Date�'] = pd.to_datetime(preprocessed_data['Closing Date�']).apply(lambda x: x.toordinal())\n"
     ]
    }
   ],
   "source": [
    "from sklearn.cluster import KMeans\n",
    "from sklearn.preprocessing import LabelEncoder, StandardScaler\n",
    "\n",
    "# Load CSV file\n",
    "data = pd.read_csv('Failed_Bank_List.csv')\n",
    "\n",
    "# Select columns for clustering \n",
    "features = ['Cert�', 'Closing Date�']\n",
    "preprocessed_data = data[features]\n",
    "\n",
    "# preprocessing columns\n",
    "encoder = LabelEncoder()\n",
    "preprocessed_data['Cert�'] = encoder.fit_transform(preprocessed_data['Cert�'])\n",
    "preprocessed_data['Closing Date�'] = pd.to_datetime(preprocessed_data['Closing Date�']).apply(lambda x: x.toordinal())\n",
    "\n",
    "# Standardize data\n",
    "scaler = StandardScaler()\n",
    "scaled_data = scaler.fit_transform(preprocessed_data)\n",
    "\n",
    "# Apply K-means clustering (identify / assign similar datapoint to 5 clusters)\n",
    "k = 5  # the num of clusters\n",
    "kmeans = KMeans(n_clusters=k)\n",
    "kmeans.fit(scaled_data)\n",
    "\n",
    "# cluster labels\n",
    "cluster_labels = kmeans.labels_\n",
    "\n",
    "# Add labels to dataset\n",
    "data['Cluster'] = cluster_labels\n",
    "\n",
    "for cluster in range(k):\n",
    "    cluster_data = data[data['Cluster'] == cluster]\n",
    "    print(f\"Cluster {cluster}:\")\n",
    "    print(cluster_data)\n",
    "    print('\\n')"
   ]
  },
  {
   "cell_type": "code",
   "execution_count": null,
   "id": "b74ffabf",
   "metadata": {},
   "outputs": [],
   "source": []
  },
  {
   "cell_type": "code",
   "execution_count": 266,
   "id": "3ba463a9",
   "metadata": {},
   "outputs": [],
   "source": [
    "# Perform hyper parameter tuning or boosting (15)\n",
    "# \n",
    "# I dont know how to use this properly. I can only show an example the top lines of code required and have more learning to do\n",
    "# on this topic. "
   ]
  },
  {
   "cell_type": "code",
   "execution_count": 268,
   "id": "2adc3f6d",
   "metadata": {},
   "outputs": [],
   "source": [
    "# from sklearn.model_selection import train_test_split, GridSearchCV\n",
    "# from sklearn.preprocessing import StandardScaler\n",
    "# from sklearn.linear_model import LogisticRegression\n",
    "# from sklearn.ensemble import RandomForestClassifier\n",
    "# from sklearn.metrics import accuracy_score\n",
    "\n",
    "# data = pd.read_csv(\"Unemployment_Data_cleaned.csv\")\n",
    "# \n"
   ]
  },
  {
   "cell_type": "code",
   "execution_count": null,
   "id": "956a3234",
   "metadata": {},
   "outputs": [],
   "source": []
  },
  {
   "cell_type": "code",
   "execution_count": 190,
   "id": "471082b3",
   "metadata": {},
   "outputs": [],
   "source": [
    "# Present two charts with Seaborn or Matplotlib (10)"
   ]
  },
  {
   "cell_type": "code",
   "execution_count": null,
   "id": "edc3abf5",
   "metadata": {},
   "outputs": [],
   "source": [
    "# Line Chart to Show Number of Bank Failures from 2000 - 2023"
   ]
  },
  {
   "cell_type": "code",
   "execution_count": 191,
   "id": "ca26ca40",
   "metadata": {},
   "outputs": [
    {
     "data": {
      "image/png": "[encoded data removed]",
      "text/plain": [
       "<Figure size 432x288 with 1 Axes>"
      ]
     },
     "metadata": {
      "needs_background": "light"
     },
     "output_type": "display_data"
    }
   ],
   "source": [
    "import matplotlib.pyplot as plt\n",
    "\n",
    "# number of bank failures data\n",
    "bank_fail = [2, 4, 11, 3, 4, 0, 0, 3, 25, 140, 157, 92, 51, 24, 18, 8, 5, 8, 0, 4, 4, 0, 0, 2]\n",
    "year = [2000, 2001, 2002, 2003, 2004, 2005, 2006, 2007, 2008, 2009, 2010, 2011, 2012, 2013, 2014, 2015, 2016, 2017, 2018, 2019, 2020, 2021, 2022, 2023]\n",
    "\n",
    "# set axis titles\n",
    "plt.xlabel(\"Year\")\n",
    "plt.ylabel(\"Failures\")\n",
    "\n",
    "# set chart title\n",
    "plt.title(\"FDIC Bank Failures 2000 - 2023\")\n",
    "\n",
    "# plot a line chart\n",
    "plt.plot(year, bank_fail)\n",
    "plt.show()"
   ]
  },
  {
   "cell_type": "code",
   "execution_count": null,
   "id": "cd462841",
   "metadata": {},
   "outputs": [],
   "source": [
    "# Bar to Show Number of Bank Failures from 2000 - 2023"
   ]
  },
  {
   "cell_type": "code",
   "execution_count": 192,
   "id": "9581cfce",
   "metadata": {},
   "outputs": [
    {
     "data": {
      "image/png": "[encoded data removed]",
      "text/plain": [
       "<Figure size 432x288 with 1 Axes>"
      ]
     },
     "metadata": {
      "needs_background": "light"
     },
     "output_type": "display_data"
    }
   ],
   "source": [
    "import matplotlib.pyplot as plt\n",
    "\n",
    "# Number of bank failures data\n",
    "x = [2000, 2001, 2002, 2003, 2004, 2005, 2006, 2007, 2008, 2009, 2010, 2011, 2012, 2013, 2014, 2015, 2016, 2017, 2018, 2019, 2020, 2021, 2022, 2023]\n",
    "y = [2, 4, 11, 3, 4, 0, 0, 3, 25, 140, 157, 92, 51, 24, 18, 8, 5, 8, 0, 4, 4, 0, 0, 2]\n",
    "\n",
    "colors = [\"#619cff\", \"#00ba38\", \"#f8766d\", \"#619cff\", \"#00ba38\", \"#f8766d\", \"#619cff\", \"#00ba38\", \"#f8766d\", \"#619cff\", \"#00ba38\", \"#f8766d\", \"#619cff\", \"#00ba38\", \"#f8766d\", \"#619cff\", \"#00ba38\", \"#f8766d\", \"#619cff\", \"#00ba38\", \"#f8766d\", \"#619cff\", \"#00ba38\", \"#f8766d\"]\n",
    "\n",
    "# Bar plot\n",
    "fig, ax = plt.subplots()\n",
    "ax.bar(x=x, height=y, color=colors)\n",
    "\n",
    "plt.title('FDIC Bank Failures 2000 - 2023')\n",
    "plt.xlabel('Year')\n",
    "plt.ylabel('Number of Failures')\n",
    "plt.xticks(rotation=45)\n",
    "\n",
    "plt.show()"
   ]
  },
  {
   "cell_type": "code",
   "execution_count": null,
   "id": "bb052435",
   "metadata": {},
   "outputs": [],
   "source": []
  },
  {
   "cell_type": "code",
   "execution_count": null,
   "id": "914fa897",
   "metadata": {},
   "outputs": [],
   "source": [
    "# Generate Heatmap for Unemployment Rate in USA from Unemployment_Data_cleaned.csv\n",
    "# This has not provided any valuable insight for one country alone\n",
    "# There may be errors in how I tried to create but I managed to create a heat map from the data. "
   ]
  },
  {
   "cell_type": "code",
   "execution_count": 247,
   "id": "0f9abb13",
   "metadata": {},
   "outputs": [
    {
     "data": {
      "image/png": "[encoded data removed]",
      "text/plain": [
       "<Figure size 864x576 with 2 Axes>"
      ]
     },
     "metadata": {
      "needs_background": "light"
     },
     "output_type": "display_data"
    }
   ],
   "source": [
    "import pandas as pd\n",
    "import seaborn as sns\n",
    "import matplotlib.pyplot as plt\n",
    "\n",
    "data = pd.read_csv('Unemployment_Data_cleaned.csv')\n",
    "\n",
    "# Change 'Value' column to numeric\n",
    "data['Value'] = pd.to_numeric(data['Value'], errors='coerce')\n",
    "\n",
    "# Create pivot table with aggregated data\n",
    "pivot_table = data.pivot_table(index='TIME', columns='LOCATION', values='Value')\n",
    "\n",
    "# Try to create a heatmap using seaborn\n",
    "plt.figure(figsize=(12, 8))\n",
    "sns.heatmap(pivot_table, cmap='YlGnBu', annot=True, fmt=\".1f\", linewidths=0.5)\n",
    "\n",
    "# title & labels\n",
    "plt.title('Unemployment Rate by Country and Year')\n",
    "plt.xlabel('Country')\n",
    "plt.ylabel('Year')\n",
    "\n",
    "# Rotate the x-axis labels for better readability\n",
    "plt.xticks(rotation=45)\n",
    "\n",
    "# Show the Heatmap\n",
    "plt.show()\n"
   ]
  },
  {
   "cell_type": "code",
   "execution_count": null,
   "id": "0e720a7d",
   "metadata": {},
   "outputs": [],
   "source": []
  },
  {
   "cell_type": "code",
   "execution_count": null,
   "id": "022cde18",
   "metadata": {},
   "outputs": [],
   "source": []
  },
  {
   "cell_type": "code",
   "execution_count": null,
   "id": "7194c67c",
   "metadata": {},
   "outputs": [],
   "source": [
    "# Generate 5 insights from the project (10)"
   ]
  },
  {
   "cell_type": "code",
   "execution_count": null,
   "id": "cf8225fc",
   "metadata": {},
   "outputs": [],
   "source": [
    "#1. 564 Bank failures occured in the USA from 13-Oct-00 to 12-Mar-23.\n",
    "#2. The City/Location with the most failures overall in total is Chicago with 21.\n",
    "#3. The average unemployment rate in the USA between Oct 09 and Apr 23 was 5.82%.\n",
    "#4. The highest unemployment rate was 14.7% and the lowest 3.4%.    \n",
    "#5. The highest rate of unemployment occured in April 20 and the lowest in Jan 23.\n"
   ]
  }
 ],
 "metadata": {
  "kernelspec": {
   "display_name": "Python 3",
   "language": "python",
   "name": "python3"
  },
  "language_info": {
   "codemirror_mode": {
    "name": "ipython",
    "version": 3
   },
   "file_extension": ".py",
   "mimetype": "text/x-python",
   "name": "python",
   "nbconvert_exporter": "python",
   "pygments_lexer": "ipython3",
   "version": "3.8.8"
  }
 },
 "nbformat": 4,
 "nbformat_minor": 5
}
